{
  "cells": [
    {
      "cell_type": "markdown",
      "metadata": {
        "id": "cfCkGg5uI_cT"
      },
      "source": [
        "## Tarea: determinar la eficacia de un operador"
      ]
    },
    {
      "cell_type": "markdown",
      "metadata": {
        "id": "2FeXQhEuI_cT"
      },
      "source": [
        "El servicio de telefonía virtual CallMeMaybe está desarrollando una nueva función que brindará a los supervisores y las supervisores información sobre los operadores menos eficaces. Se considera que un operador es ineficaz si tiene una gran cantidad de llamadas entrantes perdidas (internas y externas) y un tiempo de espera prolongado para las llamadas entrantes. Además, si se supone que un operador debe realizar llamadas salientes, un número reducido de ellas también será un signo de ineficacia."
      ]
    },
    {
      "cell_type": "markdown",
      "metadata": {
        "id": "BtvMC61hI_cU"
      },
      "source": [
        "### Descripción de los datos\n",
        "\n",
        "Los datasets contienen información sobre el uso del servicio de telefonía virtual CallMeMaybe. Sus clientes son organizaciones que necesitan distribuir gran cantidad de llamadas entrantes entre varios operadores, o realizar llamadas salientes a través de sus operadores. Los operadores también pueden realizar llamadas internas para comunicarse entre ellos. Estas llamadas se realizan a través de la red de CallMeMaybe.\n",
        "\n",
        "El dataset comprimido `telecom_dataset_us.csv` contiene las siguientes columnas:\n",
        "\n",
        "- `user_id`: ID de la cuenta de cliente\n",
        "- `date`: fecha en la que se recuperaron las estadísticas\n",
        "- `direction`: \"dirección\" de llamada (`out` para saliente, `in` para entrante)\n",
        "- `internal`: si la llamada fue interna (entre los operadores de un cliente o clienta)\n",
        "- `operator_id`: identificador del operador\n",
        "- `is_missed_call`: si fue una llamada perdida\n",
        "- `calls_count`: número de llamadas\n",
        "- `call_duration`: duración de la llamada (sin incluir el tiempo de espera)\n",
        "- `total_call_duration`: duración de la llamada (incluido el tiempo de espera)\n",
        "\n",
        "\n",
        "\n",
        "El conjunto de datos `telecom_clients_us.csv` tiene las siguientes columnas:\n",
        "\n",
        "- `user_id`: ID de usuario/a\n",
        "- `tariff_plan`: tarifa actual de la clientela\n",
        "- `date_start`: fecha de registro de la clientela"
      ]
    },
    {
      "cell_type": "markdown",
      "metadata": {
        "id": "EU3CEWZsI_cU"
      },
      "source": [
        "### Link de presentación:\n",
        "Presentation: <https://drive.google.com/file/d/1168EXzd-gqO6Y58fygQez3Z6nSbcmRbz/view?usp=drive_link>"
      ]
    },
    {
      "cell_type": "markdown",
      "metadata": {
        "id": "oLAAc9JnI_cU"
      },
      "source": [
        "### Preprocesamiento de datos"
      ]
    },
    {
      "cell_type": "markdown",
      "metadata": {
        "id": "S9s36lhrI_cU"
      },
      "source": [
        "#### Cargar los datos"
      ]
    },
    {
      "cell_type": "code",
      "execution_count": null,
      "metadata": {
        "id": "MRkG-FnzI_cU"
      },
      "outputs": [],
      "source": [
        "#importar bibliotecas\n",
        "from scipy.stats import chi2_contingency\n",
        "from scipy.stats import ttest_ind\n",
        "import pandas as pd\n",
        "import seaborn as sns\n",
        "import matplotlib.pyplot as plt\n",
        "import pandas as pd\n"
      ]
    },
    {
      "cell_type": "code",
      "execution_count": null,
      "metadata": {
        "id": "FWTOyuN0I_cV"
      },
      "outputs": [],
      "source": [
        "# Importar dataframes\n",
        "clients = pd.read_csv('/datasets/telecom_clients_us.csv')\n",
        "data = pd.read_csv('/datasets/telecom_dataset_us.csv')"
      ]
    },
    {
      "cell_type": "markdown",
      "metadata": {
        "id": "iSFzZvv0I_cV"
      },
      "source": [
        "#### Análisis exploratorio de datos"
      ]
    },
    {
      "cell_type": "markdown",
      "metadata": {
        "id": "_EWOvUc3I_cW"
      },
      "source": [
        "#### Clients"
      ]
    },
    {
      "cell_type": "code",
      "execution_count": null,
      "metadata": {
        "id": "5ms_ZrUqI_cW",
        "outputId": "3964e0bb-be4e-4df7-d32c-09809e3cff94"
      },
      "outputs": [
        {
          "name": "stdout",
          "output_type": "stream",
          "text": [
            "<class 'pandas.core.frame.DataFrame'>\n",
            "RangeIndex: 732 entries, 0 to 731\n",
            "Data columns (total 3 columns):\n",
            " #   Column       Non-Null Count  Dtype \n",
            "---  ------       --------------  ----- \n",
            " 0   user_id      732 non-null    int64 \n",
            " 1   tariff_plan  732 non-null    object\n",
            " 2   date_start   732 non-null    object\n",
            "dtypes: int64(1), object(2)\n",
            "memory usage: 17.3+ KB\n"
          ]
        }
      ],
      "source": [
        "clients.info()"
      ]
    },
    {
      "cell_type": "code",
      "execution_count": null,
      "metadata": {
        "id": "8DYTHpCtI_cW",
        "outputId": "6a68a934-7f4c-47a8-df72-fa2be621a5b5"
      },
      "outputs": [
        {
          "data": {
            "text/html": [
              "<div>\n",
              "<style scoped>\n",
              "    .dataframe tbody tr th:only-of-type {\n",
              "        vertical-align: middle;\n",
              "    }\n",
              "\n",
              "    .dataframe tbody tr th {\n",
              "        vertical-align: top;\n",
              "    }\n",
              "\n",
              "    .dataframe thead th {\n",
              "        text-align: right;\n",
              "    }\n",
              "</style>\n",
              "<table border=\"1\" class=\"dataframe\">\n",
              "  <thead>\n",
              "    <tr style=\"text-align: right;\">\n",
              "      <th></th>\n",
              "      <th>user_id</th>\n",
              "      <th>tariff_plan</th>\n",
              "      <th>date_start</th>\n",
              "    </tr>\n",
              "  </thead>\n",
              "  <tbody>\n",
              "    <tr>\n",
              "      <th>0</th>\n",
              "      <td>166713</td>\n",
              "      <td>A</td>\n",
              "      <td>2019-08-15</td>\n",
              "    </tr>\n",
              "    <tr>\n",
              "      <th>1</th>\n",
              "      <td>166901</td>\n",
              "      <td>A</td>\n",
              "      <td>2019-08-23</td>\n",
              "    </tr>\n",
              "    <tr>\n",
              "      <th>2</th>\n",
              "      <td>168527</td>\n",
              "      <td>A</td>\n",
              "      <td>2019-10-29</td>\n",
              "    </tr>\n",
              "    <tr>\n",
              "      <th>3</th>\n",
              "      <td>167097</td>\n",
              "      <td>A</td>\n",
              "      <td>2019-09-01</td>\n",
              "    </tr>\n",
              "    <tr>\n",
              "      <th>4</th>\n",
              "      <td>168193</td>\n",
              "      <td>A</td>\n",
              "      <td>2019-10-16</td>\n",
              "    </tr>\n",
              "  </tbody>\n",
              "</table>\n",
              "</div>"
            ],
            "text/plain": [
              "   user_id tariff_plan  date_start\n",
              "0   166713           A  2019-08-15\n",
              "1   166901           A  2019-08-23\n",
              "2   168527           A  2019-10-29\n",
              "3   167097           A  2019-09-01\n",
              "4   168193           A  2019-10-16"
            ]
          },
          "execution_count": 4,
          "metadata": {},
          "output_type": "execute_result"
        }
      ],
      "source": [
        "clients.head()"
      ]
    },
    {
      "cell_type": "markdown",
      "metadata": {
        "id": "ZSLAqODBI_cW"
      },
      "source": [
        "Podemos obserbar que tenemos valores de fecha almacenados en la columna date_start pero su Dtype no es el correcto así que procedemos a hacer el cambio."
      ]
    },
    {
      "cell_type": "code",
      "execution_count": null,
      "metadata": {
        "id": "E6_LaEO3I_cW",
        "outputId": "c315df74-d1ff-4d92-ae90-c0057a2727c5"
      },
      "outputs": [
        {
          "name": "stdout",
          "output_type": "stream",
          "text": [
            "<class 'pandas.core.frame.DataFrame'>\n",
            "RangeIndex: 732 entries, 0 to 731\n",
            "Data columns (total 3 columns):\n",
            " #   Column       Non-Null Count  Dtype         \n",
            "---  ------       --------------  -----         \n",
            " 0   user_id      732 non-null    int64         \n",
            " 1   tariff_plan  732 non-null    object        \n",
            " 2   date_start   732 non-null    datetime64[ns]\n",
            "dtypes: datetime64[ns](1), int64(1), object(1)\n",
            "memory usage: 17.3+ KB\n"
          ]
        }
      ],
      "source": [
        "clients['date_start'] = pd.to_datetime(clients['date_start'])\n",
        "clients.info()"
      ]
    },
    {
      "cell_type": "code",
      "execution_count": null,
      "metadata": {
        "id": "RSx08DhII_cX",
        "outputId": "c2bc7fea-14ab-456e-8bd5-6c174da96b65"
      },
      "outputs": [
        {
          "data": {
            "text/plain": [
              "user_id        0\n",
              "tariff_plan    0\n",
              "date_start     0\n",
              "dtype: int64"
            ]
          },
          "execution_count": 6,
          "metadata": {},
          "output_type": "execute_result"
        }
      ],
      "source": [
        "clients.isna().sum()"
      ]
    },
    {
      "cell_type": "code",
      "execution_count": null,
      "metadata": {
        "scrolled": true,
        "id": "AKutt3KPI_cX",
        "outputId": "c035fe17-bb70-43cb-8641-5a66157b85cb"
      },
      "outputs": [
        {
          "data": {
            "text/plain": [
              "0"
            ]
          },
          "execution_count": 7,
          "metadata": {},
          "output_type": "execute_result"
        }
      ],
      "source": [
        "clients.duplicated().sum()"
      ]
    },
    {
      "cell_type": "markdown",
      "metadata": {
        "id": "DebH61lWI_cX"
      },
      "source": [
        "No contamos con valores ausente o duplicados en esta tabla, así que no requiere más cambios."
      ]
    },
    {
      "cell_type": "markdown",
      "metadata": {
        "id": "U4gAvvc6I_cX"
      },
      "source": [
        "#### Data"
      ]
    },
    {
      "cell_type": "code",
      "execution_count": null,
      "metadata": {
        "id": "BL9HIWekI_cX",
        "outputId": "8eb9b3c7-4d7e-49e3-c766-46f5ffde6747"
      },
      "outputs": [
        {
          "name": "stdout",
          "output_type": "stream",
          "text": [
            "<class 'pandas.core.frame.DataFrame'>\n",
            "RangeIndex: 53902 entries, 0 to 53901\n",
            "Data columns (total 9 columns):\n",
            " #   Column               Non-Null Count  Dtype  \n",
            "---  ------               --------------  -----  \n",
            " 0   user_id              53902 non-null  int64  \n",
            " 1   date                 53902 non-null  object \n",
            " 2   direction            53902 non-null  object \n",
            " 3   internal             53785 non-null  object \n",
            " 4   operator_id          45730 non-null  float64\n",
            " 5   is_missed_call       53902 non-null  bool   \n",
            " 6   calls_count          53902 non-null  int64  \n",
            " 7   call_duration        53902 non-null  int64  \n",
            " 8   total_call_duration  53902 non-null  int64  \n",
            "dtypes: bool(1), float64(1), int64(4), object(3)\n",
            "memory usage: 3.3+ MB\n"
          ]
        }
      ],
      "source": [
        "data.info()"
      ]
    },
    {
      "cell_type": "code",
      "execution_count": null,
      "metadata": {
        "id": "L1ZhbnSoI_cX",
        "outputId": "788353ae-9a63-4514-b06f-91f2a37f3754"
      },
      "outputs": [
        {
          "data": {
            "text/html": [
              "<div>\n",
              "<style scoped>\n",
              "    .dataframe tbody tr th:only-of-type {\n",
              "        vertical-align: middle;\n",
              "    }\n",
              "\n",
              "    .dataframe tbody tr th {\n",
              "        vertical-align: top;\n",
              "    }\n",
              "\n",
              "    .dataframe thead th {\n",
              "        text-align: right;\n",
              "    }\n",
              "</style>\n",
              "<table border=\"1\" class=\"dataframe\">\n",
              "  <thead>\n",
              "    <tr style=\"text-align: right;\">\n",
              "      <th></th>\n",
              "      <th>user_id</th>\n",
              "      <th>date</th>\n",
              "      <th>direction</th>\n",
              "      <th>internal</th>\n",
              "      <th>operator_id</th>\n",
              "      <th>is_missed_call</th>\n",
              "      <th>calls_count</th>\n",
              "      <th>call_duration</th>\n",
              "      <th>total_call_duration</th>\n",
              "    </tr>\n",
              "  </thead>\n",
              "  <tbody>\n",
              "    <tr>\n",
              "      <th>0</th>\n",
              "      <td>166377</td>\n",
              "      <td>2019-08-04 00:00:00+03:00</td>\n",
              "      <td>in</td>\n",
              "      <td>False</td>\n",
              "      <td>NaN</td>\n",
              "      <td>True</td>\n",
              "      <td>2</td>\n",
              "      <td>0</td>\n",
              "      <td>4</td>\n",
              "    </tr>\n",
              "    <tr>\n",
              "      <th>1</th>\n",
              "      <td>166377</td>\n",
              "      <td>2019-08-05 00:00:00+03:00</td>\n",
              "      <td>out</td>\n",
              "      <td>True</td>\n",
              "      <td>880022.0</td>\n",
              "      <td>True</td>\n",
              "      <td>3</td>\n",
              "      <td>0</td>\n",
              "      <td>5</td>\n",
              "    </tr>\n",
              "    <tr>\n",
              "      <th>2</th>\n",
              "      <td>166377</td>\n",
              "      <td>2019-08-05 00:00:00+03:00</td>\n",
              "      <td>out</td>\n",
              "      <td>True</td>\n",
              "      <td>880020.0</td>\n",
              "      <td>True</td>\n",
              "      <td>1</td>\n",
              "      <td>0</td>\n",
              "      <td>1</td>\n",
              "    </tr>\n",
              "    <tr>\n",
              "      <th>3</th>\n",
              "      <td>166377</td>\n",
              "      <td>2019-08-05 00:00:00+03:00</td>\n",
              "      <td>out</td>\n",
              "      <td>True</td>\n",
              "      <td>880020.0</td>\n",
              "      <td>False</td>\n",
              "      <td>1</td>\n",
              "      <td>10</td>\n",
              "      <td>18</td>\n",
              "    </tr>\n",
              "    <tr>\n",
              "      <th>4</th>\n",
              "      <td>166377</td>\n",
              "      <td>2019-08-05 00:00:00+03:00</td>\n",
              "      <td>out</td>\n",
              "      <td>False</td>\n",
              "      <td>880022.0</td>\n",
              "      <td>True</td>\n",
              "      <td>3</td>\n",
              "      <td>0</td>\n",
              "      <td>25</td>\n",
              "    </tr>\n",
              "  </tbody>\n",
              "</table>\n",
              "</div>"
            ],
            "text/plain": [
              "   user_id                       date direction internal  operator_id  \\\n",
              "0   166377  2019-08-04 00:00:00+03:00        in    False          NaN   \n",
              "1   166377  2019-08-05 00:00:00+03:00       out     True     880022.0   \n",
              "2   166377  2019-08-05 00:00:00+03:00       out     True     880020.0   \n",
              "3   166377  2019-08-05 00:00:00+03:00       out     True     880020.0   \n",
              "4   166377  2019-08-05 00:00:00+03:00       out    False     880022.0   \n",
              "\n",
              "   is_missed_call  calls_count  call_duration  total_call_duration  \n",
              "0            True            2              0                    4  \n",
              "1            True            3              0                    5  \n",
              "2            True            1              0                    1  \n",
              "3           False            1             10                   18  \n",
              "4            True            3              0                   25  "
            ]
          },
          "execution_count": 9,
          "metadata": {},
          "output_type": "execute_result"
        }
      ],
      "source": [
        "data.head()"
      ]
    },
    {
      "cell_type": "markdown",
      "metadata": {
        "id": "gsL8bSGMI_cX"
      },
      "source": [
        "En el dataframe `data` tenemos varias observaciones para realizar cambios y sea más facil trabajar con estos datos.\n",
        "- La columna date, almacena fecha y hora, tendremos que formatear la columna a su dtype correcto.\n",
        "- el nombre de `is_missed_call` puede ser confuso así que lo reemplazaremos por `missed_call`\n"
      ]
    },
    {
      "cell_type": "code",
      "execution_count": null,
      "metadata": {
        "id": "6o-GVwO1I_cX",
        "outputId": "09e75654-2a25-496d-ddf8-b7c371c55d46"
      },
      "outputs": [
        {
          "name": "stdout",
          "output_type": "stream",
          "text": [
            "<class 'pandas.core.frame.DataFrame'>\n",
            "RangeIndex: 53902 entries, 0 to 53901\n",
            "Data columns (total 9 columns):\n",
            " #   Column               Non-Null Count  Dtype                                \n",
            "---  ------               --------------  -----                                \n",
            " 0   user_id              53902 non-null  int64                                \n",
            " 1   date                 53902 non-null  datetime64[ns, pytz.FixedOffset(180)]\n",
            " 2   direction            53902 non-null  object                               \n",
            " 3   internal             53785 non-null  object                               \n",
            " 4   operator_id          45730 non-null  float64                              \n",
            " 5   is_missed_call       53902 non-null  bool                                 \n",
            " 6   calls_count          53902 non-null  int64                                \n",
            " 7   call_duration        53902 non-null  int64                                \n",
            " 8   total_call_duration  53902 non-null  int64                                \n",
            "dtypes: bool(1), datetime64[ns, pytz.FixedOffset(180)](1), float64(1), int64(4), object(2)\n",
            "memory usage: 3.3+ MB\n"
          ]
        }
      ],
      "source": [
        "data['date'] = pd.to_datetime(data['date'])\n",
        "data.info()"
      ]
    },
    {
      "cell_type": "code",
      "execution_count": null,
      "metadata": {
        "id": "iOdZhvTOI_cY"
      },
      "outputs": [],
      "source": [
        "# Renombramos las columnas is_missed_call por missed call\n",
        "data.rename(columns={'is_missed_call': 'missed_call'}, inplace=True)"
      ]
    },
    {
      "cell_type": "code",
      "execution_count": null,
      "metadata": {
        "id": "raGrEuXmI_cY",
        "outputId": "839c66ec-7030-4cc9-9e28-d88118b3467f"
      },
      "outputs": [
        {
          "data": {
            "text/plain": [
              "user_id                   0\n",
              "date                      0\n",
              "direction                 0\n",
              "internal                117\n",
              "operator_id            8172\n",
              "missed_call               0\n",
              "calls_count               0\n",
              "call_duration             0\n",
              "total_call_duration       0\n",
              "dtype: int64"
            ]
          },
          "execution_count": 12,
          "metadata": {},
          "output_type": "execute_result"
        }
      ],
      "source": [
        "data.isna().sum()"
      ]
    },
    {
      "cell_type": "code",
      "execution_count": null,
      "metadata": {
        "id": "ej-YPqqQI_cY",
        "outputId": "f7e70741-bafd-43ad-d06e-68af2c3e91d6"
      },
      "outputs": [
        {
          "name": "stdout",
          "output_type": "stream",
          "text": [
            "El porcentaje de valores ausentes en la columna 'operator_id' es: 15.16%\n"
          ]
        }
      ],
      "source": [
        "# Calculamos el porcentaje que representan los valores ausentes en la columna operator_id\n",
        "null_operator_id = (data['operator_id'].isna().sum()/len(data))*100\n",
        "print(f\"El porcentaje de valores ausentes en la columna 'operator_id' es: {null_operator_id:.2f}%\")"
      ]
    },
    {
      "cell_type": "markdown",
      "metadata": {
        "id": "X53v9j_nI_cY"
      },
      "source": [
        "Como podemos observar tenemos un 15% de datos ausentes para esta columna lo cual eliminarlos nos puede presentar un cesgo en nuestro analisis, por lo que vamos a identificarlos con un -1 para tenerlos identificados y trabajar con ellos."
      ]
    },
    {
      "cell_type": "code",
      "execution_count": null,
      "metadata": {
        "id": "bcqHCqFpI_cY",
        "outputId": "9af3b81e-53d2-4a35-80f0-8a471e59a3ed"
      },
      "outputs": [
        {
          "name": "stdout",
          "output_type": "stream",
          "text": [
            "El porcentaje de valores ausentes en la columna 'internal' es: 0.22%\n"
          ]
        }
      ],
      "source": [
        "# Calculamos el porcentaje que representan los valores ausentes en la columna call_type\n",
        "null_internal = (data['internal'].isna().sum() / len(data)) * 100\n",
        "print(f\"El porcentaje de valores ausentes en la columna 'internal' es: {null_internal:.2f}%\")"
      ]
    },
    {
      "cell_type": "markdown",
      "metadata": {
        "id": "M7dv_r4lI_cY"
      },
      "source": [
        "El porcentaje es bajo menor al 2% por lo que podemos precindidir de ellos sin tener un efecto negativo en nuestro analisis."
      ]
    },
    {
      "cell_type": "code",
      "execution_count": null,
      "metadata": {
        "id": "APsUar7tI_cY"
      },
      "outputs": [],
      "source": [
        "# depuramos las filas que contengan valores ausentes en la columna internal\n",
        "data = data.dropna(subset=['internal'])"
      ]
    },
    {
      "cell_type": "code",
      "execution_count": null,
      "metadata": {
        "id": "yB80GueiI_cY",
        "outputId": "876ee2d7-db65-4dbd-ab0a-ae6d3291f050"
      },
      "outputs": [
        {
          "data": {
            "text/plain": [
              "user_id                0\n",
              "date                   0\n",
              "direction              0\n",
              "internal               0\n",
              "operator_id            0\n",
              "missed_call            0\n",
              "calls_count            0\n",
              "call_duration          0\n",
              "total_call_duration    0\n",
              "dtype: int64"
            ]
          },
          "execution_count": 16,
          "metadata": {},
          "output_type": "execute_result"
        }
      ],
      "source": [
        "# Reemplazamos el id de los valores ausentes por -1 asi los tendremos identificados si es requerido\n",
        "data['operator_id'] = data['operator_id'].fillna(-1)\n",
        "data.isna().sum()"
      ]
    },
    {
      "cell_type": "code",
      "execution_count": null,
      "metadata": {
        "id": "y4cEre6HI_cY",
        "outputId": "8313545b-e19b-472a-d6f7-17942cb97a92"
      },
      "outputs": [
        {
          "data": {
            "text/plain": [
              "-1.0         8115\n",
              " 901884.0     348\n",
              " 901880.0     335\n",
              " 893804.0     325\n",
              " 885876.0     319\n",
              "             ... \n",
              " 937716.0       1\n",
              " 945074.0       1\n",
              " 950640.0       1\n",
              " 924572.0       1\n",
              " 920930.0       1\n",
              "Name: operator_id, Length: 1093, dtype: int64"
            ]
          },
          "execution_count": 17,
          "metadata": {},
          "output_type": "execute_result"
        }
      ],
      "source": [
        "data['operator_id'].value_counts()"
      ]
    },
    {
      "cell_type": "markdown",
      "metadata": {
        "id": "OV9MuLAyI_cY"
      },
      "source": [
        "Una vez que ya hemos preprocesado nuestros datos, vamos a unir las tablas mediante merge."
      ]
    },
    {
      "cell_type": "markdown",
      "metadata": {
        "id": "erZNnSOXI_cY"
      },
      "source": [
        "##### Unir los dos datasets con .merge por la columna user_id tipo left"
      ]
    },
    {
      "cell_type": "code",
      "execution_count": null,
      "metadata": {
        "id": "vu2fUiyCI_cZ",
        "outputId": "5927acce-3e44-4951-f501-8cb599ffbca0"
      },
      "outputs": [
        {
          "data": {
            "text/html": [
              "<div>\n",
              "<style scoped>\n",
              "    .dataframe tbody tr th:only-of-type {\n",
              "        vertical-align: middle;\n",
              "    }\n",
              "\n",
              "    .dataframe tbody tr th {\n",
              "        vertical-align: top;\n",
              "    }\n",
              "\n",
              "    .dataframe thead th {\n",
              "        text-align: right;\n",
              "    }\n",
              "</style>\n",
              "<table border=\"1\" class=\"dataframe\">\n",
              "  <thead>\n",
              "    <tr style=\"text-align: right;\">\n",
              "      <th></th>\n",
              "      <th>user_id</th>\n",
              "      <th>date</th>\n",
              "      <th>direction</th>\n",
              "      <th>internal</th>\n",
              "      <th>operator_id</th>\n",
              "      <th>missed_call</th>\n",
              "      <th>calls_count</th>\n",
              "      <th>call_duration</th>\n",
              "      <th>total_call_duration</th>\n",
              "      <th>tariff_plan</th>\n",
              "      <th>date_start</th>\n",
              "    </tr>\n",
              "  </thead>\n",
              "  <tbody>\n",
              "    <tr>\n",
              "      <th>0</th>\n",
              "      <td>166377</td>\n",
              "      <td>2019-08-04 00:00:00+03:00</td>\n",
              "      <td>in</td>\n",
              "      <td>False</td>\n",
              "      <td>-1.0</td>\n",
              "      <td>True</td>\n",
              "      <td>2</td>\n",
              "      <td>0</td>\n",
              "      <td>4</td>\n",
              "      <td>B</td>\n",
              "      <td>2019-08-01</td>\n",
              "    </tr>\n",
              "    <tr>\n",
              "      <th>1</th>\n",
              "      <td>166377</td>\n",
              "      <td>2019-08-05 00:00:00+03:00</td>\n",
              "      <td>out</td>\n",
              "      <td>True</td>\n",
              "      <td>880022.0</td>\n",
              "      <td>True</td>\n",
              "      <td>3</td>\n",
              "      <td>0</td>\n",
              "      <td>5</td>\n",
              "      <td>B</td>\n",
              "      <td>2019-08-01</td>\n",
              "    </tr>\n",
              "    <tr>\n",
              "      <th>2</th>\n",
              "      <td>166377</td>\n",
              "      <td>2019-08-05 00:00:00+03:00</td>\n",
              "      <td>out</td>\n",
              "      <td>True</td>\n",
              "      <td>880020.0</td>\n",
              "      <td>True</td>\n",
              "      <td>1</td>\n",
              "      <td>0</td>\n",
              "      <td>1</td>\n",
              "      <td>B</td>\n",
              "      <td>2019-08-01</td>\n",
              "    </tr>\n",
              "    <tr>\n",
              "      <th>3</th>\n",
              "      <td>166377</td>\n",
              "      <td>2019-08-05 00:00:00+03:00</td>\n",
              "      <td>out</td>\n",
              "      <td>True</td>\n",
              "      <td>880020.0</td>\n",
              "      <td>False</td>\n",
              "      <td>1</td>\n",
              "      <td>10</td>\n",
              "      <td>18</td>\n",
              "      <td>B</td>\n",
              "      <td>2019-08-01</td>\n",
              "    </tr>\n",
              "    <tr>\n",
              "      <th>4</th>\n",
              "      <td>166377</td>\n",
              "      <td>2019-08-05 00:00:00+03:00</td>\n",
              "      <td>out</td>\n",
              "      <td>False</td>\n",
              "      <td>880022.0</td>\n",
              "      <td>True</td>\n",
              "      <td>3</td>\n",
              "      <td>0</td>\n",
              "      <td>25</td>\n",
              "      <td>B</td>\n",
              "      <td>2019-08-01</td>\n",
              "    </tr>\n",
              "  </tbody>\n",
              "</table>\n",
              "</div>"
            ],
            "text/plain": [
              "   user_id                      date direction internal  operator_id  \\\n",
              "0   166377 2019-08-04 00:00:00+03:00        in    False         -1.0   \n",
              "1   166377 2019-08-05 00:00:00+03:00       out     True     880022.0   \n",
              "2   166377 2019-08-05 00:00:00+03:00       out     True     880020.0   \n",
              "3   166377 2019-08-05 00:00:00+03:00       out     True     880020.0   \n",
              "4   166377 2019-08-05 00:00:00+03:00       out    False     880022.0   \n",
              "\n",
              "   missed_call  calls_count  call_duration  total_call_duration tariff_plan  \\\n",
              "0         True            2              0                    4           B   \n",
              "1         True            3              0                    5           B   \n",
              "2         True            1              0                    1           B   \n",
              "3        False            1             10                   18           B   \n",
              "4         True            3              0                   25           B   \n",
              "\n",
              "  date_start  \n",
              "0 2019-08-01  \n",
              "1 2019-08-01  \n",
              "2 2019-08-01  \n",
              "3 2019-08-01  \n",
              "4 2019-08-01  "
            ]
          },
          "execution_count": 18,
          "metadata": {},
          "output_type": "execute_result"
        }
      ],
      "source": [
        "#unir data con clientes con .merge por la columna user_id por left\n",
        "telecom = data.merge(clients, on='user_id', how='left')\n",
        "telecom.head()"
      ]
    },
    {
      "cell_type": "code",
      "execution_count": null,
      "metadata": {
        "id": "4sqzOL5QI_cZ",
        "outputId": "c4eeea43-9ae9-4a19-f8f3-9216ff6b85a5"
      },
      "outputs": [
        {
          "name": "stdout",
          "output_type": "stream",
          "text": [
            "<class 'pandas.core.frame.DataFrame'>\n",
            "Int64Index: 53785 entries, 0 to 53784\n",
            "Data columns (total 11 columns):\n",
            " #   Column               Non-Null Count  Dtype                                \n",
            "---  ------               --------------  -----                                \n",
            " 0   user_id              53785 non-null  int64                                \n",
            " 1   date                 53785 non-null  datetime64[ns, pytz.FixedOffset(180)]\n",
            " 2   direction            53785 non-null  object                               \n",
            " 3   internal             53785 non-null  object                               \n",
            " 4   operator_id          53785 non-null  float64                              \n",
            " 5   missed_call          53785 non-null  bool                                 \n",
            " 6   calls_count          53785 non-null  int64                                \n",
            " 7   call_duration        53785 non-null  int64                                \n",
            " 8   total_call_duration  53785 non-null  int64                                \n",
            " 9   tariff_plan          53785 non-null  object                               \n",
            " 10  date_start           53785 non-null  datetime64[ns]                       \n",
            "dtypes: bool(1), datetime64[ns, pytz.FixedOffset(180)](1), datetime64[ns](1), float64(1), int64(4), object(3)\n",
            "memory usage: 4.6+ MB\n"
          ]
        }
      ],
      "source": [
        "telecom.info()"
      ]
    },
    {
      "cell_type": "markdown",
      "metadata": {
        "id": "MdA4m3SqI_cZ"
      },
      "source": [
        "Vamos a guardar una tabla independiente por si tenemos que trabajar sin los registros que contengan los datos del operador -1"
      ]
    },
    {
      "cell_type": "code",
      "execution_count": null,
      "metadata": {
        "id": "TtLZxtTcI_cZ"
      },
      "outputs": [],
      "source": [
        "telecom_filtered= telecom[telecom['operator_id']!=-1]"
      ]
    },
    {
      "cell_type": "markdown",
      "metadata": {
        "id": "TE_MFB9-I_cZ"
      },
      "source": [
        "<div class=\"alert alert-block alert-success\">\n",
        "<b>Comentario del revisor</b> <a class=\"tocSkip\"></a>\n",
        "\n",
        "La carga y visualización inicial de los datos fue bien ejecutada. Además, corregiste los tipos de datos y eliminaste valores duplicados, asegurando que los datos fueran adecuados para el análisis posterior. ¡Excelente inicio!\n",
        "</div>\n"
      ]
    },
    {
      "cell_type": "markdown",
      "metadata": {
        "id": "oEPnE-elI_cd"
      },
      "source": [
        "#### Indicador de llamadas perdidas por operador (lostcalls_rating)"
      ]
    },
    {
      "cell_type": "markdown",
      "metadata": {
        "id": "BVjwUw8ZI_cd"
      },
      "source": [
        "Para comenzar con el calculo de la eficiencia de los operadores vamos a analizar las llamadas entrantes perdidas, y posteriormente vamos a establecer una rubrica para establecer objetivos y sobre esto clasificar a los operadores en Ineficiente, regular y eficiente."
      ]
    },
    {
      "cell_type": "code",
      "execution_count": null,
      "metadata": {
        "id": "lhLrSwKnI_cd",
        "outputId": "517ce3ad-91d0-4614-8940-fe95499a87fb"
      },
      "outputs": [
        {
          "data": {
            "text/html": [
              "<div>\n",
              "<style scoped>\n",
              "    .dataframe tbody tr th:only-of-type {\n",
              "        vertical-align: middle;\n",
              "    }\n",
              "\n",
              "    .dataframe tbody tr th {\n",
              "        vertical-align: top;\n",
              "    }\n",
              "\n",
              "    .dataframe thead th {\n",
              "        text-align: right;\n",
              "    }\n",
              "</style>\n",
              "<table border=\"1\" class=\"dataframe\">\n",
              "  <thead>\n",
              "    <tr style=\"text-align: right;\">\n",
              "      <th></th>\n",
              "      <th>user_id</th>\n",
              "      <th>date</th>\n",
              "      <th>direction</th>\n",
              "      <th>internal</th>\n",
              "      <th>operator_id</th>\n",
              "      <th>missed_call</th>\n",
              "      <th>calls_count</th>\n",
              "      <th>call_duration</th>\n",
              "      <th>total_call_duration</th>\n",
              "      <th>tariff_plan</th>\n",
              "      <th>date_start</th>\n",
              "    </tr>\n",
              "  </thead>\n",
              "  <tbody>\n",
              "    <tr>\n",
              "      <th>0</th>\n",
              "      <td>166377</td>\n",
              "      <td>2019-08-04 00:00:00+03:00</td>\n",
              "      <td>in</td>\n",
              "      <td>False</td>\n",
              "      <td>-1.0</td>\n",
              "      <td>True</td>\n",
              "      <td>2</td>\n",
              "      <td>0</td>\n",
              "      <td>4</td>\n",
              "      <td>B</td>\n",
              "      <td>2019-08-01</td>\n",
              "    </tr>\n",
              "    <tr>\n",
              "      <th>7</th>\n",
              "      <td>166377</td>\n",
              "      <td>2019-08-05 00:00:00+03:00</td>\n",
              "      <td>in</td>\n",
              "      <td>False</td>\n",
              "      <td>-1.0</td>\n",
              "      <td>True</td>\n",
              "      <td>6</td>\n",
              "      <td>0</td>\n",
              "      <td>35</td>\n",
              "      <td>B</td>\n",
              "      <td>2019-08-01</td>\n",
              "    </tr>\n",
              "    <tr>\n",
              "      <th>9</th>\n",
              "      <td>166377</td>\n",
              "      <td>2019-08-06 00:00:00+03:00</td>\n",
              "      <td>in</td>\n",
              "      <td>False</td>\n",
              "      <td>-1.0</td>\n",
              "      <td>True</td>\n",
              "      <td>4</td>\n",
              "      <td>0</td>\n",
              "      <td>62</td>\n",
              "      <td>B</td>\n",
              "      <td>2019-08-01</td>\n",
              "    </tr>\n",
              "    <tr>\n",
              "      <th>17</th>\n",
              "      <td>166377</td>\n",
              "      <td>2019-08-07 00:00:00+03:00</td>\n",
              "      <td>in</td>\n",
              "      <td>False</td>\n",
              "      <td>-1.0</td>\n",
              "      <td>True</td>\n",
              "      <td>2</td>\n",
              "      <td>0</td>\n",
              "      <td>24</td>\n",
              "      <td>B</td>\n",
              "      <td>2019-08-01</td>\n",
              "    </tr>\n",
              "    <tr>\n",
              "      <th>26</th>\n",
              "      <td>166377</td>\n",
              "      <td>2019-08-12 00:00:00+03:00</td>\n",
              "      <td>in</td>\n",
              "      <td>False</td>\n",
              "      <td>880028.0</td>\n",
              "      <td>False</td>\n",
              "      <td>1</td>\n",
              "      <td>407</td>\n",
              "      <td>411</td>\n",
              "      <td>B</td>\n",
              "      <td>2019-08-01</td>\n",
              "    </tr>\n",
              "  </tbody>\n",
              "</table>\n",
              "</div>"
            ],
            "text/plain": [
              "    user_id                      date direction internal  operator_id  \\\n",
              "0    166377 2019-08-04 00:00:00+03:00        in    False         -1.0   \n",
              "7    166377 2019-08-05 00:00:00+03:00        in    False         -1.0   \n",
              "9    166377 2019-08-06 00:00:00+03:00        in    False         -1.0   \n",
              "17   166377 2019-08-07 00:00:00+03:00        in    False         -1.0   \n",
              "26   166377 2019-08-12 00:00:00+03:00        in    False     880028.0   \n",
              "\n",
              "    missed_call  calls_count  call_duration  total_call_duration tariff_plan  \\\n",
              "0          True            2              0                    4           B   \n",
              "7          True            6              0                   35           B   \n",
              "9          True            4              0                   62           B   \n",
              "17         True            2              0                   24           B   \n",
              "26        False            1            407                  411           B   \n",
              "\n",
              "   date_start  \n",
              "0  2019-08-01  \n",
              "7  2019-08-01  \n",
              "9  2019-08-01  \n",
              "17 2019-08-01  \n",
              "26 2019-08-01  "
            ]
          },
          "execution_count": 21,
          "metadata": {},
          "output_type": "execute_result"
        }
      ],
      "source": [
        "# Analizamos la cantidad de llamadas entrantes perdidas\n",
        "missed_incoming_calls = telecom[telecom['direction'] == 'in']\n",
        "missed_incoming_calls.head()"
      ]
    },
    {
      "cell_type": "markdown",
      "metadata": {
        "id": "eYVq7oa1I_cd"
      },
      "source": [
        "Ahora contamos solo con las llamadas entrantes"
      ]
    },
    {
      "cell_type": "code",
      "execution_count": null,
      "metadata": {
        "id": "9C9U4ndFI_cd",
        "outputId": "090ede1e-663f-4fe5-a93a-0c1fccca0026"
      },
      "outputs": [
        {
          "data": {
            "text/html": [
              "<div>\n",
              "<style scoped>\n",
              "    .dataframe tbody tr th:only-of-type {\n",
              "        vertical-align: middle;\n",
              "    }\n",
              "\n",
              "    .dataframe tbody tr th {\n",
              "        vertical-align: top;\n",
              "    }\n",
              "\n",
              "    .dataframe thead th {\n",
              "        text-align: right;\n",
              "    }\n",
              "</style>\n",
              "<table border=\"1\" class=\"dataframe\">\n",
              "  <thead>\n",
              "    <tr style=\"text-align: right;\">\n",
              "      <th>missed_call</th>\n",
              "      <th>operator_id</th>\n",
              "      <th>False</th>\n",
              "      <th>True</th>\n",
              "    </tr>\n",
              "  </thead>\n",
              "  <tbody>\n",
              "    <tr>\n",
              "      <th>0</th>\n",
              "      <td>-1.0</td>\n",
              "      <td>73.0</td>\n",
              "      <td>7844.0</td>\n",
              "    </tr>\n",
              "    <tr>\n",
              "      <th>1</th>\n",
              "      <td>879896.0</td>\n",
              "      <td>23.0</td>\n",
              "      <td>NaN</td>\n",
              "    </tr>\n",
              "    <tr>\n",
              "      <th>2</th>\n",
              "      <td>879898.0</td>\n",
              "      <td>63.0</td>\n",
              "      <td>NaN</td>\n",
              "    </tr>\n",
              "    <tr>\n",
              "      <th>3</th>\n",
              "      <td>880020.0</td>\n",
              "      <td>8.0</td>\n",
              "      <td>NaN</td>\n",
              "    </tr>\n",
              "    <tr>\n",
              "      <th>4</th>\n",
              "      <td>880022.0</td>\n",
              "      <td>8.0</td>\n",
              "      <td>NaN</td>\n",
              "    </tr>\n",
              "  </tbody>\n",
              "</table>\n",
              "</div>"
            ],
            "text/plain": [
              "missed_call  operator_id  False    True\n",
              "0                   -1.0   73.0  7844.0\n",
              "1               879896.0   23.0     NaN\n",
              "2               879898.0   63.0     NaN\n",
              "3               880020.0    8.0     NaN\n",
              "4               880022.0    8.0     NaN"
            ]
          },
          "execution_count": 22,
          "metadata": {},
          "output_type": "execute_result"
        }
      ],
      "source": [
        "#Ahora creamos una tabla pivot para solo mostrar las llamadas por usuario\n",
        "missed_incoming_calls = missed_incoming_calls.pivot_table(index='operator_id', columns='missed_call', aggfunc='size').reset_index()\n",
        "missed_incoming_calls.head()"
      ]
    },
    {
      "cell_type": "markdown",
      "metadata": {
        "id": "X_J86nXtI_ce"
      },
      "source": [
        "Con esto obtenemos la cantidad de llamadas que ha recibido un operador, sin embargo, esto no es del todo cierto ya que no podemos comparar un operador veterano que lleva cientos de llamadas contra uno novato que apenas tiene un par de dias y solo tiene un par de llamadas, asi que evaluaremos conforme al porcentaje de llamadas perdidas que tiene.\n",
        "\n",
        "Por otro lado tenemos valores ausentes en alguna de las columnas esto sucede porel usar size, asi que simplemente lo reemplazaremos con 0 para poder trabajar con los datos.\n"
      ]
    },
    {
      "cell_type": "code",
      "execution_count": null,
      "metadata": {
        "id": "gZK137A8I_ce",
        "outputId": "70c4449b-30d2-4de9-c2e2-37a8453138f9"
      },
      "outputs": [
        {
          "data": {
            "text/html": [
              "<div>\n",
              "<style scoped>\n",
              "    .dataframe tbody tr th:only-of-type {\n",
              "        vertical-align: middle;\n",
              "    }\n",
              "\n",
              "    .dataframe tbody tr th {\n",
              "        vertical-align: top;\n",
              "    }\n",
              "\n",
              "    .dataframe thead th {\n",
              "        text-align: right;\n",
              "    }\n",
              "</style>\n",
              "<table border=\"1\" class=\"dataframe\">\n",
              "  <thead>\n",
              "    <tr style=\"text-align: right;\">\n",
              "      <th>missed_call</th>\n",
              "      <th>operator_id</th>\n",
              "      <th>False</th>\n",
              "      <th>True</th>\n",
              "    </tr>\n",
              "  </thead>\n",
              "  <tbody>\n",
              "    <tr>\n",
              "      <th>0</th>\n",
              "      <td>-1.0</td>\n",
              "      <td>73.0</td>\n",
              "      <td>7844.0</td>\n",
              "    </tr>\n",
              "    <tr>\n",
              "      <th>1</th>\n",
              "      <td>879896.0</td>\n",
              "      <td>23.0</td>\n",
              "      <td>0.0</td>\n",
              "    </tr>\n",
              "    <tr>\n",
              "      <th>2</th>\n",
              "      <td>879898.0</td>\n",
              "      <td>63.0</td>\n",
              "      <td>0.0</td>\n",
              "    </tr>\n",
              "    <tr>\n",
              "      <th>3</th>\n",
              "      <td>880020.0</td>\n",
              "      <td>8.0</td>\n",
              "      <td>0.0</td>\n",
              "    </tr>\n",
              "    <tr>\n",
              "      <th>4</th>\n",
              "      <td>880022.0</td>\n",
              "      <td>8.0</td>\n",
              "      <td>0.0</td>\n",
              "    </tr>\n",
              "  </tbody>\n",
              "</table>\n",
              "</div>"
            ],
            "text/plain": [
              "missed_call  operator_id  False    True\n",
              "0                   -1.0   73.0  7844.0\n",
              "1               879896.0   23.0     0.0\n",
              "2               879898.0   63.0     0.0\n",
              "3               880020.0    8.0     0.0\n",
              "4               880022.0    8.0     0.0"
            ]
          },
          "execution_count": 23,
          "metadata": {},
          "output_type": "execute_result"
        }
      ],
      "source": [
        "#cambiaremos los valores vacios en las columnas true y la columna false por 0\n",
        "missed_incoming_calls.fillna(0, inplace=True)\n",
        "missed_incoming_calls.head()"
      ]
    },
    {
      "cell_type": "code",
      "execution_count": null,
      "metadata": {
        "scrolled": true,
        "id": "udCWx5t5I_ce",
        "outputId": "d1fa3f2d-db21-4521-d11a-1f3ff8d7f769"
      },
      "outputs": [
        {
          "data": {
            "text/html": [
              "<div>\n",
              "<style scoped>\n",
              "    .dataframe tbody tr th:only-of-type {\n",
              "        vertical-align: middle;\n",
              "    }\n",
              "\n",
              "    .dataframe tbody tr th {\n",
              "        vertical-align: top;\n",
              "    }\n",
              "\n",
              "    .dataframe thead th {\n",
              "        text-align: right;\n",
              "    }\n",
              "</style>\n",
              "<table border=\"1\" class=\"dataframe\">\n",
              "  <thead>\n",
              "    <tr style=\"text-align: right;\">\n",
              "      <th>missed_call</th>\n",
              "      <th>operator_id</th>\n",
              "      <th>False</th>\n",
              "      <th>True</th>\n",
              "      <th>lostcalls_percent</th>\n",
              "    </tr>\n",
              "  </thead>\n",
              "  <tbody>\n",
              "    <tr>\n",
              "      <th>0</th>\n",
              "      <td>-1.0</td>\n",
              "      <td>73.0</td>\n",
              "      <td>7844.0</td>\n",
              "      <td>99.08</td>\n",
              "    </tr>\n",
              "    <tr>\n",
              "      <th>1</th>\n",
              "      <td>879896.0</td>\n",
              "      <td>23.0</td>\n",
              "      <td>0.0</td>\n",
              "      <td>0.00</td>\n",
              "    </tr>\n",
              "    <tr>\n",
              "      <th>2</th>\n",
              "      <td>879898.0</td>\n",
              "      <td>63.0</td>\n",
              "      <td>0.0</td>\n",
              "      <td>0.00</td>\n",
              "    </tr>\n",
              "    <tr>\n",
              "      <th>3</th>\n",
              "      <td>880020.0</td>\n",
              "      <td>8.0</td>\n",
              "      <td>0.0</td>\n",
              "      <td>0.00</td>\n",
              "    </tr>\n",
              "    <tr>\n",
              "      <th>4</th>\n",
              "      <td>880022.0</td>\n",
              "      <td>8.0</td>\n",
              "      <td>0.0</td>\n",
              "      <td>0.00</td>\n",
              "    </tr>\n",
              "  </tbody>\n",
              "</table>\n",
              "</div>"
            ],
            "text/plain": [
              "missed_call  operator_id  False    True  lostcalls_percent\n",
              "0                   -1.0   73.0  7844.0              99.08\n",
              "1               879896.0   23.0     0.0               0.00\n",
              "2               879898.0   63.0     0.0               0.00\n",
              "3               880020.0    8.0     0.0               0.00\n",
              "4               880022.0    8.0     0.0               0.00"
            ]
          },
          "execution_count": 24,
          "metadata": {},
          "output_type": "execute_result"
        }
      ],
      "source": [
        "# Creamos la columna lostcalls_rating donde calcularemos la realción de las llamadas perdidas con el total de llamadas recibidas por el usuario a dos digitos\n",
        "missed_incoming_calls['lostcalls_percent'] = (missed_incoming_calls[True] / (missed_incoming_calls[True] + missed_incoming_calls[False]) *100).round(2)\n",
        "missed_incoming_calls.head()"
      ]
    },
    {
      "cell_type": "markdown",
      "metadata": {
        "id": "8-pDTRn9I_ce"
      },
      "source": [
        "Ahora tenemos un valor con el que podemos trabajar que es el porcentaje de llamadas perdidas que tiene cada operador, con el método describe() veremos los rangos.\n",
        "El operador ficticio tiene demasiadas llamadas perdidas que afectara"
      ]
    },
    {
      "cell_type": "code",
      "execution_count": null,
      "metadata": {
        "id": "IFrU0zS7I_ce",
        "outputId": "3ed7c412-be0c-4386-c774-ac3838b15de2"
      },
      "outputs": [
        {
          "data": {
            "image/png": "[encoded data removed]",
            "text/plain": [
              "<Figure size 640x480 with 1 Axes>"
            ]
          },
          "metadata": {},
          "output_type": "display_data"
        }
      ],
      "source": [
        "#Creamos un grafico de caja para la distribución de los porcentajes por operador\n",
        "sns.boxplot(x=missed_incoming_calls['lostcalls_percent'])\n",
        "plt.show()"
      ]
    },
    {
      "cell_type": "markdown",
      "metadata": {
        "id": "I4VXDkVXI_ce"
      },
      "source": [
        "Como podemos observar en este grafico de caja, nuestro valores de media y la mayor parte de los datos estan cercanos al 0, esto se debe a que la mayor parte de los operadores tienen un pequeño porcentaje de llamadas perdidas, mientras se van volviendo mas raros los casos que tienen 100% de llamadas perdidas."
      ]
    },
    {
      "cell_type": "code",
      "execution_count": null,
      "metadata": {
        "scrolled": true,
        "id": "YFPsKlCLI_cf",
        "outputId": "84f009ec-ba06-4822-bf98-49322b3a1f31"
      },
      "outputs": [
        {
          "data": {
            "text/plain": [
              "count    755.000000\n",
              "mean       3.766874\n",
              "std        9.149525\n",
              "min        0.000000\n",
              "50%        0.000000\n",
              "80%        5.880000\n",
              "85%        8.330000\n",
              "90%       12.500000\n",
              "95%       20.498000\n",
              "99.9%     99.306320\n",
              "max      100.000000\n",
              "Name: lostcalls_percent, dtype: float64"
            ]
          },
          "execution_count": 26,
          "metadata": {},
          "output_type": "execute_result"
        }
      ],
      "source": [
        "missed_incoming_calls['lostcalls_percent'].describe(percentiles=[0.8,0.85,0.90,0.95,0.999])"
      ]
    },
    {
      "cell_type": "code",
      "execution_count": null,
      "metadata": {
        "id": "06Xnf2OII_cf",
        "outputId": "39912804-4846-4ad2-cdba-6e3e24b26966"
      },
      "outputs": [
        {
          "data": {
            "text/html": [
              "<div>\n",
              "<style scoped>\n",
              "    .dataframe tbody tr th:only-of-type {\n",
              "        vertical-align: middle;\n",
              "    }\n",
              "\n",
              "    .dataframe tbody tr th {\n",
              "        vertical-align: top;\n",
              "    }\n",
              "\n",
              "    .dataframe thead th {\n",
              "        text-align: right;\n",
              "    }\n",
              "</style>\n",
              "<table border=\"1\" class=\"dataframe\">\n",
              "  <thead>\n",
              "    <tr style=\"text-align: right;\">\n",
              "      <th>missed_call</th>\n",
              "      <th>operator_id</th>\n",
              "      <th>False</th>\n",
              "      <th>True</th>\n",
              "      <th>lostcalls_percent</th>\n",
              "    </tr>\n",
              "  </thead>\n",
              "  <tbody>\n",
              "    <tr>\n",
              "      <th>642</th>\n",
              "      <td>948756.0</td>\n",
              "      <td>0.0</td>\n",
              "      <td>1.0</td>\n",
              "      <td>100.00</td>\n",
              "    </tr>\n",
              "    <tr>\n",
              "      <th>186</th>\n",
              "      <td>904344.0</td>\n",
              "      <td>1.0</td>\n",
              "      <td>2.0</td>\n",
              "      <td>66.67</td>\n",
              "    </tr>\n",
              "    <tr>\n",
              "      <th>699</th>\n",
              "      <td>957922.0</td>\n",
              "      <td>1.0</td>\n",
              "      <td>1.0</td>\n",
              "      <td>50.00</td>\n",
              "    </tr>\n",
              "    <tr>\n",
              "      <th>288</th>\n",
              "      <td>913886.0</td>\n",
              "      <td>1.0</td>\n",
              "      <td>1.0</td>\n",
              "      <td>50.00</td>\n",
              "    </tr>\n",
              "    <tr>\n",
              "      <th>526</th>\n",
              "      <td>937898.0</td>\n",
              "      <td>1.0</td>\n",
              "      <td>1.0</td>\n",
              "      <td>50.00</td>\n",
              "    </tr>\n",
              "  </tbody>\n",
              "</table>\n",
              "</div>"
            ],
            "text/plain": [
              "missed_call  operator_id  False  True  lostcalls_percent\n",
              "642             948756.0    0.0   1.0             100.00\n",
              "186             904344.0    1.0   2.0              66.67\n",
              "699             957922.0    1.0   1.0              50.00\n",
              "288             913886.0    1.0   1.0              50.00\n",
              "526             937898.0    1.0   1.0              50.00"
            ]
          },
          "execution_count": 27,
          "metadata": {},
          "output_type": "execute_result"
        }
      ],
      "source": [
        "#Excluimos todos los registros del operador 999 para el df missed_incoming_calls\n",
        "filtered_missed_calls = missed_incoming_calls[missed_incoming_calls['operator_id'] != -1]\n",
        "filtered_missed_calls.sort_values(by='lostcalls_percent',ascending=False).head()"
      ]
    },
    {
      "cell_type": "code",
      "execution_count": null,
      "metadata": {
        "id": "XBtSups6I_cf",
        "outputId": "310c7616-d37c-4121-b560-fbccde006e99"
      },
      "outputs": [
        {
          "data": {
            "image/png": "[encoded data removed]",
            "text/plain": [
              "<Figure size 640x480 with 1 Axes>"
            ]
          },
          "metadata": {},
          "output_type": "display_data"
        }
      ],
      "source": [
        "#Volvemos a trazar una boxplot y el metodo describe()\n",
        "sns.boxplot(x=filtered_missed_calls['lostcalls_percent'])\n",
        "plt.show()"
      ]
    },
    {
      "cell_type": "code",
      "execution_count": null,
      "metadata": {
        "id": "dbmY27gTI_cf",
        "outputId": "f9be58c9-e04e-4096-934f-6f1a423fdff0"
      },
      "outputs": [
        {
          "data": {
            "image/png": "[encoded data removed]",
            "text/plain": [
              "<Figure size 640x480 with 1 Axes>"
            ]
          },
          "metadata": {},
          "output_type": "display_data"
        }
      ],
      "source": [
        "#Creamos un histograma para visualizar la distribucion\n",
        "plt.figure()\n",
        "sns.histplot(data= filtered_missed_calls, x='lostcalls_percent',bins= 25)\n",
        "plt.show()"
      ]
    },
    {
      "cell_type": "markdown",
      "metadata": {
        "id": "m8JX9XRdI_cf"
      },
      "source": [
        "Conforme al OEE que es un indicador para la eficiencia tienen una rubrica para clasificar en que porcentaje se encuentra dicho proceso, en nuestro caso ocuparemos esta rubrica y la tropicalizaremos para nuestro uso:\n",
        "- una puntuación del 85% se considera `Eficiente`\n",
        "\n",
        "- Una puntuación del 60% es bastante típica `regular`, pero indica que hay un margen considerable para la mejora.\n",
        "\n",
        "- Una puntuación del 40% `deficiente`, Es una señal de que se pueden mejorar o tomar acciones correctivas con estos operadores.\n",
        "\n",
        "\n",
        "Partiendo de esto vamos a clasificar los operadores conforme al resultado de `lostcalls_rating` con la rubrica mencionada.\n",
        "Dado que obtener el 100% significa que el operador tiene el 100% de sus llamadas perdidas, tomaremos el complemento, es decir, el valor objetivo sera estar cerca al 0% de llamadas perdidas.\n",
        "- lostcalls_percent < 15% es eficient,\n",
        "- lostcalls_percent < 40% es regular,\n",
        "- lostcalls_percent >40% inefficient."
      ]
    },
    {
      "cell_type": "code",
      "execution_count": null,
      "metadata": {
        "id": "a9ipWOrII_cf",
        "outputId": "66590893-0b9d-4693-d186-2fe1251242d4"
      },
      "outputs": [
        {
          "data": {
            "text/html": [
              "<div>\n",
              "<style scoped>\n",
              "    .dataframe tbody tr th:only-of-type {\n",
              "        vertical-align: middle;\n",
              "    }\n",
              "\n",
              "    .dataframe tbody tr th {\n",
              "        vertical-align: top;\n",
              "    }\n",
              "\n",
              "    .dataframe thead th {\n",
              "        text-align: right;\n",
              "    }\n",
              "</style>\n",
              "<table border=\"1\" class=\"dataframe\">\n",
              "  <thead>\n",
              "    <tr style=\"text-align: right;\">\n",
              "      <th>missed_call</th>\n",
              "      <th>operator_id</th>\n",
              "      <th>False</th>\n",
              "      <th>True</th>\n",
              "      <th>lostcalls_percent</th>\n",
              "      <th>miss_call_rating</th>\n",
              "    </tr>\n",
              "  </thead>\n",
              "  <tbody>\n",
              "    <tr>\n",
              "      <th>1</th>\n",
              "      <td>879896.0</td>\n",
              "      <td>23.0</td>\n",
              "      <td>0.0</td>\n",
              "      <td>0.0</td>\n",
              "      <td>efficient</td>\n",
              "    </tr>\n",
              "    <tr>\n",
              "      <th>2</th>\n",
              "      <td>879898.0</td>\n",
              "      <td>63.0</td>\n",
              "      <td>0.0</td>\n",
              "      <td>0.0</td>\n",
              "      <td>efficient</td>\n",
              "    </tr>\n",
              "    <tr>\n",
              "      <th>3</th>\n",
              "      <td>880020.0</td>\n",
              "      <td>8.0</td>\n",
              "      <td>0.0</td>\n",
              "      <td>0.0</td>\n",
              "      <td>efficient</td>\n",
              "    </tr>\n",
              "    <tr>\n",
              "      <th>4</th>\n",
              "      <td>880022.0</td>\n",
              "      <td>8.0</td>\n",
              "      <td>0.0</td>\n",
              "      <td>0.0</td>\n",
              "      <td>efficient</td>\n",
              "    </tr>\n",
              "    <tr>\n",
              "      <th>5</th>\n",
              "      <td>880026.0</td>\n",
              "      <td>19.0</td>\n",
              "      <td>0.0</td>\n",
              "      <td>0.0</td>\n",
              "      <td>efficient</td>\n",
              "    </tr>\n",
              "    <tr>\n",
              "      <th>...</th>\n",
              "      <td>...</td>\n",
              "      <td>...</td>\n",
              "      <td>...</td>\n",
              "      <td>...</td>\n",
              "      <td>...</td>\n",
              "    </tr>\n",
              "    <tr>\n",
              "      <th>750</th>\n",
              "      <td>971102.0</td>\n",
              "      <td>5.0</td>\n",
              "      <td>0.0</td>\n",
              "      <td>0.0</td>\n",
              "      <td>efficient</td>\n",
              "    </tr>\n",
              "    <tr>\n",
              "      <th>751</th>\n",
              "      <td>971354.0</td>\n",
              "      <td>2.0</td>\n",
              "      <td>0.0</td>\n",
              "      <td>0.0</td>\n",
              "      <td>efficient</td>\n",
              "    </tr>\n",
              "    <tr>\n",
              "      <th>752</th>\n",
              "      <td>972412.0</td>\n",
              "      <td>1.0</td>\n",
              "      <td>0.0</td>\n",
              "      <td>0.0</td>\n",
              "      <td>efficient</td>\n",
              "    </tr>\n",
              "    <tr>\n",
              "      <th>753</th>\n",
              "      <td>972460.0</td>\n",
              "      <td>2.0</td>\n",
              "      <td>0.0</td>\n",
              "      <td>0.0</td>\n",
              "      <td>efficient</td>\n",
              "    </tr>\n",
              "    <tr>\n",
              "      <th>754</th>\n",
              "      <td>973286.0</td>\n",
              "      <td>1.0</td>\n",
              "      <td>0.0</td>\n",
              "      <td>0.0</td>\n",
              "      <td>efficient</td>\n",
              "    </tr>\n",
              "  </tbody>\n",
              "</table>\n",
              "<p>754 rows × 5 columns</p>\n",
              "</div>"
            ],
            "text/plain": [
              "missed_call  operator_id  False  True  lostcalls_percent miss_call_rating\n",
              "1               879896.0   23.0   0.0                0.0        efficient\n",
              "2               879898.0   63.0   0.0                0.0        efficient\n",
              "3               880020.0    8.0   0.0                0.0        efficient\n",
              "4               880022.0    8.0   0.0                0.0        efficient\n",
              "5               880026.0   19.0   0.0                0.0        efficient\n",
              "..                   ...    ...   ...                ...              ...\n",
              "750             971102.0    5.0   0.0                0.0        efficient\n",
              "751             971354.0    2.0   0.0                0.0        efficient\n",
              "752             972412.0    1.0   0.0                0.0        efficient\n",
              "753             972460.0    2.0   0.0                0.0        efficient\n",
              "754             973286.0    1.0   0.0                0.0        efficient\n",
              "\n",
              "[754 rows x 5 columns]"
            ]
          },
          "execution_count": 30,
          "metadata": {},
          "output_type": "execute_result"
        }
      ],
      "source": [
        "# Creamos una copia del dataframe para evitar errores al usar lambda\n",
        "filtered_missed_calls = filtered_missed_calls.copy()\n",
        "# Utilizando lambda evaluamos cada celda de lostcalls_percent conforme a la información de arriba\n",
        "filtered_missed_calls['miss_call_rating'] = filtered_missed_calls['lostcalls_percent'].apply(\n",
        "    lambda value: 'efficient' if value < 15 else 'regular' if value <= 40 else 'inefficient'\n",
        ")\n",
        "filtered_missed_calls"
      ]
    },
    {
      "cell_type": "code",
      "execution_count": null,
      "metadata": {
        "id": "WjQ5ouHTI_cg",
        "outputId": "6118266d-a033-449c-e52a-1480ae138cdf"
      },
      "outputs": [
        {
          "data": {
            "text/plain": [
              "efficient      698\n",
              "regular         50\n",
              "inefficient      6\n",
              "Name: miss_call_rating, dtype: int64"
            ]
          },
          "execution_count": 31,
          "metadata": {},
          "output_type": "execute_result"
        }
      ],
      "source": [
        "#Comprobamos cuantos operadores existen en cada grupo.\n",
        "filtered_missed_calls['miss_call_rating'].value_counts()"
      ]
    },
    {
      "cell_type": "markdown",
      "metadata": {
        "id": "1fveh4-cI_cg"
      },
      "source": [
        "Con este método permite al supervisor en poner atención mucha atención a solo 6 personas y monitorear a 50 que se encuentran en regular, facilitando su tarea.\n",
        "Aún con esta clasificación podemos observar que las personas inefficientes tienen pocas llamadas por lo que podemos determinar que los nuevos operadores requieren mejor capacitación."
      ]
    },
    {
      "cell_type": "code",
      "execution_count": null,
      "metadata": {
        "id": "OjMBdYbaI_cg",
        "outputId": "69b9c429-1988-4d84-df14-3f36d5712d0c"
      },
      "outputs": [
        {
          "data": {
            "text/html": [
              "<div>\n",
              "<style scoped>\n",
              "    .dataframe tbody tr th:only-of-type {\n",
              "        vertical-align: middle;\n",
              "    }\n",
              "\n",
              "    .dataframe tbody tr th {\n",
              "        vertical-align: top;\n",
              "    }\n",
              "\n",
              "    .dataframe thead th {\n",
              "        text-align: right;\n",
              "    }\n",
              "</style>\n",
              "<table border=\"1\" class=\"dataframe\">\n",
              "  <thead>\n",
              "    <tr style=\"text-align: right;\">\n",
              "      <th>missed_call</th>\n",
              "      <th>operator_id</th>\n",
              "      <th>False</th>\n",
              "      <th>True</th>\n",
              "      <th>lostcalls_percent</th>\n",
              "      <th>miss_call_rating</th>\n",
              "    </tr>\n",
              "  </thead>\n",
              "  <tbody>\n",
              "    <tr>\n",
              "      <th>186</th>\n",
              "      <td>904344.0</td>\n",
              "      <td>1.0</td>\n",
              "      <td>2.0</td>\n",
              "      <td>66.67</td>\n",
              "      <td>inefficient</td>\n",
              "    </tr>\n",
              "    <tr>\n",
              "      <th>288</th>\n",
              "      <td>913886.0</td>\n",
              "      <td>1.0</td>\n",
              "      <td>1.0</td>\n",
              "      <td>50.00</td>\n",
              "      <td>inefficient</td>\n",
              "    </tr>\n",
              "    <tr>\n",
              "      <th>330</th>\n",
              "      <td>919206.0</td>\n",
              "      <td>12.0</td>\n",
              "      <td>9.0</td>\n",
              "      <td>42.86</td>\n",
              "      <td>inefficient</td>\n",
              "    </tr>\n",
              "    <tr>\n",
              "      <th>526</th>\n",
              "      <td>937898.0</td>\n",
              "      <td>1.0</td>\n",
              "      <td>1.0</td>\n",
              "      <td>50.00</td>\n",
              "      <td>inefficient</td>\n",
              "    </tr>\n",
              "    <tr>\n",
              "      <th>642</th>\n",
              "      <td>948756.0</td>\n",
              "      <td>0.0</td>\n",
              "      <td>1.0</td>\n",
              "      <td>100.00</td>\n",
              "      <td>inefficient</td>\n",
              "    </tr>\n",
              "    <tr>\n",
              "      <th>699</th>\n",
              "      <td>957922.0</td>\n",
              "      <td>1.0</td>\n",
              "      <td>1.0</td>\n",
              "      <td>50.00</td>\n",
              "      <td>inefficient</td>\n",
              "    </tr>\n",
              "  </tbody>\n",
              "</table>\n",
              "</div>"
            ],
            "text/plain": [
              "missed_call  operator_id  False  True  lostcalls_percent miss_call_rating\n",
              "186             904344.0    1.0   2.0              66.67      inefficient\n",
              "288             913886.0    1.0   1.0              50.00      inefficient\n",
              "330             919206.0   12.0   9.0              42.86      inefficient\n",
              "526             937898.0    1.0   1.0              50.00      inefficient\n",
              "642             948756.0    0.0   1.0             100.00      inefficient\n",
              "699             957922.0    1.0   1.0              50.00      inefficient"
            ]
          },
          "execution_count": 32,
          "metadata": {},
          "output_type": "execute_result"
        }
      ],
      "source": [
        "filtered_missed_calls[filtered_missed_calls['miss_call_rating']=='inefficient']"
      ]
    },
    {
      "cell_type": "markdown",
      "metadata": {
        "id": "hocecASEI_cg"
      },
      "source": [
        "#### Indicador para el tiempo de espera (hold_call_rating)"
      ]
    },
    {
      "cell_type": "code",
      "execution_count": null,
      "metadata": {
        "id": "3BGpVZdgI_cg",
        "outputId": "bdc297ff-73b4-44e8-dd78-93b4b48e00f2"
      },
      "outputs": [
        {
          "data": {
            "text/html": [
              "<div>\n",
              "<style scoped>\n",
              "    .dataframe tbody tr th:only-of-type {\n",
              "        vertical-align: middle;\n",
              "    }\n",
              "\n",
              "    .dataframe tbody tr th {\n",
              "        vertical-align: top;\n",
              "    }\n",
              "\n",
              "    .dataframe thead th {\n",
              "        text-align: right;\n",
              "    }\n",
              "</style>\n",
              "<table border=\"1\" class=\"dataframe\">\n",
              "  <thead>\n",
              "    <tr style=\"text-align: right;\">\n",
              "      <th></th>\n",
              "      <th>operator_id</th>\n",
              "      <th>calls_count</th>\n",
              "      <th>call_duration</th>\n",
              "      <th>total_call_duration</th>\n",
              "    </tr>\n",
              "  </thead>\n",
              "  <tbody>\n",
              "    <tr>\n",
              "      <th>0</th>\n",
              "      <td>879896.0</td>\n",
              "      <td>1131</td>\n",
              "      <td>83261</td>\n",
              "      <td>97427</td>\n",
              "    </tr>\n",
              "    <tr>\n",
              "      <th>1</th>\n",
              "      <td>879898.0</td>\n",
              "      <td>7973</td>\n",
              "      <td>278876</td>\n",
              "      <td>391841</td>\n",
              "    </tr>\n",
              "    <tr>\n",
              "      <th>2</th>\n",
              "      <td>880020.0</td>\n",
              "      <td>54</td>\n",
              "      <td>2290</td>\n",
              "      <td>2624</td>\n",
              "    </tr>\n",
              "    <tr>\n",
              "      <th>3</th>\n",
              "      <td>880022.0</td>\n",
              "      <td>219</td>\n",
              "      <td>18304</td>\n",
              "      <td>22679</td>\n",
              "    </tr>\n",
              "    <tr>\n",
              "      <th>4</th>\n",
              "      <td>880026.0</td>\n",
              "      <td>2439</td>\n",
              "      <td>169674</td>\n",
              "      <td>193666</td>\n",
              "    </tr>\n",
              "  </tbody>\n",
              "</table>\n",
              "</div>"
            ],
            "text/plain": [
              "   operator_id  calls_count  call_duration  total_call_duration\n",
              "0     879896.0         1131          83261                97427\n",
              "1     879898.0         7973         278876               391841\n",
              "2     880020.0           54           2290                 2624\n",
              "3     880022.0          219          18304                22679\n",
              "4     880026.0         2439         169674               193666"
            ]
          },
          "execution_count": 33,
          "metadata": {},
          "output_type": "execute_result"
        }
      ],
      "source": [
        "#Agrupamos por operador e incluimos las columnas que nos sirven para el calculo de tiempo de espera.\n",
        "hold_times = telecom_filtered.groupby('operator_id', as_index = False)[['calls_count', 'call_duration', 'total_call_duration']].sum()\n",
        "hold_times.head()"
      ]
    },
    {
      "cell_type": "code",
      "execution_count": null,
      "metadata": {
        "id": "dGE9y6ZQI_ci",
        "outputId": "03b7d4ff-fb82-43ba-c9b9-f98d99cfe9d2"
      },
      "outputs": [
        {
          "data": {
            "text/html": [
              "<div>\n",
              "<style scoped>\n",
              "    .dataframe tbody tr th:only-of-type {\n",
              "        vertical-align: middle;\n",
              "    }\n",
              "\n",
              "    .dataframe tbody tr th {\n",
              "        vertical-align: top;\n",
              "    }\n",
              "\n",
              "    .dataframe thead th {\n",
              "        text-align: right;\n",
              "    }\n",
              "</style>\n",
              "<table border=\"1\" class=\"dataframe\">\n",
              "  <thead>\n",
              "    <tr style=\"text-align: right;\">\n",
              "      <th></th>\n",
              "      <th>operator_id</th>\n",
              "      <th>calls_count</th>\n",
              "      <th>call_duration</th>\n",
              "      <th>total_call_duration</th>\n",
              "      <th>hold_calls</th>\n",
              "    </tr>\n",
              "  </thead>\n",
              "  <tbody>\n",
              "    <tr>\n",
              "      <th>0</th>\n",
              "      <td>879896.0</td>\n",
              "      <td>1131</td>\n",
              "      <td>83261</td>\n",
              "      <td>97427</td>\n",
              "      <td>12.525</td>\n",
              "    </tr>\n",
              "    <tr>\n",
              "      <th>1</th>\n",
              "      <td>879898.0</td>\n",
              "      <td>7973</td>\n",
              "      <td>278876</td>\n",
              "      <td>391841</td>\n",
              "      <td>14.168</td>\n",
              "    </tr>\n",
              "    <tr>\n",
              "      <th>2</th>\n",
              "      <td>880020.0</td>\n",
              "      <td>54</td>\n",
              "      <td>2290</td>\n",
              "      <td>2624</td>\n",
              "      <td>6.185</td>\n",
              "    </tr>\n",
              "    <tr>\n",
              "      <th>3</th>\n",
              "      <td>880022.0</td>\n",
              "      <td>219</td>\n",
              "      <td>18304</td>\n",
              "      <td>22679</td>\n",
              "      <td>19.977</td>\n",
              "    </tr>\n",
              "    <tr>\n",
              "      <th>4</th>\n",
              "      <td>880026.0</td>\n",
              "      <td>2439</td>\n",
              "      <td>169674</td>\n",
              "      <td>193666</td>\n",
              "      <td>9.837</td>\n",
              "    </tr>\n",
              "  </tbody>\n",
              "</table>\n",
              "</div>"
            ],
            "text/plain": [
              "   operator_id  calls_count  call_duration  total_call_duration  hold_calls\n",
              "0     879896.0         1131          83261                97427      12.525\n",
              "1     879898.0         7973         278876               391841      14.168\n",
              "2     880020.0           54           2290                 2624       6.185\n",
              "3     880022.0          219          18304                22679      19.977\n",
              "4     880026.0         2439         169674               193666       9.837"
            ]
          },
          "execution_count": 34,
          "metadata": {},
          "output_type": "execute_result"
        }
      ],
      "source": [
        "#Calculamos el tiempo de espera.\n",
        "hold_times['hold_calls'] = ((hold_times['total_call_duration'] - hold_times['call_duration']) / hold_times['calls_count']).round(3)\n",
        "hold_times.head()"
      ]
    },
    {
      "cell_type": "code",
      "execution_count": null,
      "metadata": {
        "id": "tWzPou3fI_ci",
        "outputId": "56fa4424-448e-45c9-a387-e9a3dc0599bc"
      },
      "outputs": [
        {
          "data": {
            "text/plain": [
              "count    1092.000000\n",
              "mean       16.456441\n",
              "std         8.237670\n",
              "min         0.000000\n",
              "15%         9.000000\n",
              "40%        14.103800\n",
              "50%        15.827000\n",
              "75%        20.006000\n",
              "80%        21.121800\n",
              "99%        45.757650\n",
              "max        62.333000\n",
              "Name: hold_calls, dtype: float64"
            ]
          },
          "execution_count": 35,
          "metadata": {},
          "output_type": "execute_result"
        }
      ],
      "source": [
        "#Exploramos los datos con describe y colocamos percentiles para encontrar nuestros valores de\n",
        "hold_times['hold_calls'].describe(percentiles= [0.15, 0.4, 0.5, 0.75, 0.8, 0.99] )"
      ]
    },
    {
      "cell_type": "code",
      "execution_count": null,
      "metadata": {
        "id": "R_37zcaII_cj",
        "outputId": "5e4756c6-c73d-4d18-d897-e7840c4f395b"
      },
      "outputs": [
        {
          "data": {
            "text/html": [
              "<div>\n",
              "<style scoped>\n",
              "    .dataframe tbody tr th:only-of-type {\n",
              "        vertical-align: middle;\n",
              "    }\n",
              "\n",
              "    .dataframe tbody tr th {\n",
              "        vertical-align: top;\n",
              "    }\n",
              "\n",
              "    .dataframe thead th {\n",
              "        text-align: right;\n",
              "    }\n",
              "</style>\n",
              "<table border=\"1\" class=\"dataframe\">\n",
              "  <thead>\n",
              "    <tr style=\"text-align: right;\">\n",
              "      <th></th>\n",
              "      <th>operator_id</th>\n",
              "      <th>calls_count</th>\n",
              "      <th>call_duration</th>\n",
              "      <th>total_call_duration</th>\n",
              "      <th>hold_calls</th>\n",
              "    </tr>\n",
              "  </thead>\n",
              "  <tbody>\n",
              "    <tr>\n",
              "      <th>0</th>\n",
              "      <td>879896.0</td>\n",
              "      <td>1131</td>\n",
              "      <td>83261</td>\n",
              "      <td>97427</td>\n",
              "      <td>12.525</td>\n",
              "    </tr>\n",
              "    <tr>\n",
              "      <th>1</th>\n",
              "      <td>879898.0</td>\n",
              "      <td>7973</td>\n",
              "      <td>278876</td>\n",
              "      <td>391841</td>\n",
              "      <td>14.168</td>\n",
              "    </tr>\n",
              "    <tr>\n",
              "      <th>2</th>\n",
              "      <td>880020.0</td>\n",
              "      <td>54</td>\n",
              "      <td>2290</td>\n",
              "      <td>2624</td>\n",
              "      <td>6.185</td>\n",
              "    </tr>\n",
              "    <tr>\n",
              "      <th>3</th>\n",
              "      <td>880022.0</td>\n",
              "      <td>219</td>\n",
              "      <td>18304</td>\n",
              "      <td>22679</td>\n",
              "      <td>19.977</td>\n",
              "    </tr>\n",
              "    <tr>\n",
              "      <th>4</th>\n",
              "      <td>880026.0</td>\n",
              "      <td>2439</td>\n",
              "      <td>169674</td>\n",
              "      <td>193666</td>\n",
              "      <td>9.837</td>\n",
              "    </tr>\n",
              "    <tr>\n",
              "      <th>...</th>\n",
              "      <td>...</td>\n",
              "      <td>...</td>\n",
              "      <td>...</td>\n",
              "      <td>...</td>\n",
              "      <td>...</td>\n",
              "    </tr>\n",
              "    <tr>\n",
              "      <th>1087</th>\n",
              "      <td>972410.0</td>\n",
              "      <td>77</td>\n",
              "      <td>3777</td>\n",
              "      <td>5275</td>\n",
              "      <td>19.455</td>\n",
              "    </tr>\n",
              "    <tr>\n",
              "      <th>1088</th>\n",
              "      <td>972412.0</td>\n",
              "      <td>61</td>\n",
              "      <td>3498</td>\n",
              "      <td>4548</td>\n",
              "      <td>17.213</td>\n",
              "    </tr>\n",
              "    <tr>\n",
              "      <th>1089</th>\n",
              "      <td>972460.0</td>\n",
              "      <td>70</td>\n",
              "      <td>2321</td>\n",
              "      <td>3122</td>\n",
              "      <td>11.443</td>\n",
              "    </tr>\n",
              "    <tr>\n",
              "      <th>1090</th>\n",
              "      <td>973120.0</td>\n",
              "      <td>3</td>\n",
              "      <td>5</td>\n",
              "      <td>25</td>\n",
              "      <td>6.667</td>\n",
              "    </tr>\n",
              "    <tr>\n",
              "      <th>1091</th>\n",
              "      <td>973286.0</td>\n",
              "      <td>2</td>\n",
              "      <td>17</td>\n",
              "      <td>105</td>\n",
              "      <td>44.000</td>\n",
              "    </tr>\n",
              "  </tbody>\n",
              "</table>\n",
              "<p>1092 rows × 5 columns</p>\n",
              "</div>"
            ],
            "text/plain": [
              "      operator_id  calls_count  call_duration  total_call_duration  hold_calls\n",
              "0        879896.0         1131          83261                97427      12.525\n",
              "1        879898.0         7973         278876               391841      14.168\n",
              "2        880020.0           54           2290                 2624       6.185\n",
              "3        880022.0          219          18304                22679      19.977\n",
              "4        880026.0         2439         169674               193666       9.837\n",
              "...           ...          ...            ...                  ...         ...\n",
              "1087     972410.0           77           3777                 5275      19.455\n",
              "1088     972412.0           61           3498                 4548      17.213\n",
              "1089     972460.0           70           2321                 3122      11.443\n",
              "1090     973120.0            3              5                   25       6.667\n",
              "1091     973286.0            2             17                  105      44.000\n",
              "\n",
              "[1092 rows x 5 columns]"
            ]
          },
          "execution_count": 36,
          "metadata": {},
          "output_type": "execute_result"
        }
      ],
      "source": [
        "#excluimos al operador -1\n",
        "hold_times_filtered = hold_times[hold_times['operator_id'] != -1]\n",
        "hold_times_filtered"
      ]
    },
    {
      "cell_type": "code",
      "execution_count": null,
      "metadata": {
        "id": "FNJljS0OI_cj",
        "outputId": "4ba39283-7118-4b33-f8fd-f1c6a7a2d9cb"
      },
      "outputs": [
        {
          "data": {
            "image/png": "[encoded data removed]",
            "text/plain": [
              "<Figure size 640x480 with 1 Axes>"
            ]
          },
          "metadata": {},
          "output_type": "display_data"
        }
      ],
      "source": [
        "#creamos un histograma\n",
        "plt.figure()\n",
        "sns.histplot(data= hold_times, x='hold_calls',bins= 25)\n",
        "plt.show()"
      ]
    },
    {
      "cell_type": "markdown",
      "metadata": {
        "id": "mFJI5j4vI_cj"
      },
      "source": [
        "Conforme a la tabla presentada en la tesis de Orozco Cango, Sara Cristina, en la página 149 presenta una rubrica de clasificación que nos sirve para nuestra tarea.\n",
        "El tiempo medio de respuesta TME en nuestro caso la columna `hold_calls` queda clásificado de la siguiente manera:\n",
        "- TME > 10 seg Eficiente\n",
        "- TME >= 20 seg Regular\n",
        "- TME < 20 seg ineficiente"
      ]
    },
    {
      "cell_type": "code",
      "execution_count": null,
      "metadata": {
        "id": "c2K6NRj-I_cj",
        "outputId": "9707890d-60a6-4068-ccdd-515e343f18b0"
      },
      "outputs": [
        {
          "data": {
            "text/html": [
              "<div>\n",
              "<style scoped>\n",
              "    .dataframe tbody tr th:only-of-type {\n",
              "        vertical-align: middle;\n",
              "    }\n",
              "\n",
              "    .dataframe tbody tr th {\n",
              "        vertical-align: top;\n",
              "    }\n",
              "\n",
              "    .dataframe thead th {\n",
              "        text-align: right;\n",
              "    }\n",
              "</style>\n",
              "<table border=\"1\" class=\"dataframe\">\n",
              "  <thead>\n",
              "    <tr style=\"text-align: right;\">\n",
              "      <th></th>\n",
              "      <th>operator_id</th>\n",
              "      <th>calls_count</th>\n",
              "      <th>call_duration</th>\n",
              "      <th>total_call_duration</th>\n",
              "      <th>hold_calls</th>\n",
              "      <th>hold_call_rating</th>\n",
              "    </tr>\n",
              "  </thead>\n",
              "  <tbody>\n",
              "    <tr>\n",
              "      <th>0</th>\n",
              "      <td>879896.0</td>\n",
              "      <td>1131</td>\n",
              "      <td>83261</td>\n",
              "      <td>97427</td>\n",
              "      <td>12.525</td>\n",
              "      <td>regular</td>\n",
              "    </tr>\n",
              "    <tr>\n",
              "      <th>1</th>\n",
              "      <td>879898.0</td>\n",
              "      <td>7973</td>\n",
              "      <td>278876</td>\n",
              "      <td>391841</td>\n",
              "      <td>14.168</td>\n",
              "      <td>regular</td>\n",
              "    </tr>\n",
              "    <tr>\n",
              "      <th>2</th>\n",
              "      <td>880020.0</td>\n",
              "      <td>54</td>\n",
              "      <td>2290</td>\n",
              "      <td>2624</td>\n",
              "      <td>6.185</td>\n",
              "      <td>efficient</td>\n",
              "    </tr>\n",
              "    <tr>\n",
              "      <th>3</th>\n",
              "      <td>880022.0</td>\n",
              "      <td>219</td>\n",
              "      <td>18304</td>\n",
              "      <td>22679</td>\n",
              "      <td>19.977</td>\n",
              "      <td>regular</td>\n",
              "    </tr>\n",
              "    <tr>\n",
              "      <th>4</th>\n",
              "      <td>880026.0</td>\n",
              "      <td>2439</td>\n",
              "      <td>169674</td>\n",
              "      <td>193666</td>\n",
              "      <td>9.837</td>\n",
              "      <td>efficient</td>\n",
              "    </tr>\n",
              "    <tr>\n",
              "      <th>...</th>\n",
              "      <td>...</td>\n",
              "      <td>...</td>\n",
              "      <td>...</td>\n",
              "      <td>...</td>\n",
              "      <td>...</td>\n",
              "      <td>...</td>\n",
              "    </tr>\n",
              "    <tr>\n",
              "      <th>1087</th>\n",
              "      <td>972410.0</td>\n",
              "      <td>77</td>\n",
              "      <td>3777</td>\n",
              "      <td>5275</td>\n",
              "      <td>19.455</td>\n",
              "      <td>regular</td>\n",
              "    </tr>\n",
              "    <tr>\n",
              "      <th>1088</th>\n",
              "      <td>972412.0</td>\n",
              "      <td>61</td>\n",
              "      <td>3498</td>\n",
              "      <td>4548</td>\n",
              "      <td>17.213</td>\n",
              "      <td>regular</td>\n",
              "    </tr>\n",
              "    <tr>\n",
              "      <th>1089</th>\n",
              "      <td>972460.0</td>\n",
              "      <td>70</td>\n",
              "      <td>2321</td>\n",
              "      <td>3122</td>\n",
              "      <td>11.443</td>\n",
              "      <td>regular</td>\n",
              "    </tr>\n",
              "    <tr>\n",
              "      <th>1090</th>\n",
              "      <td>973120.0</td>\n",
              "      <td>3</td>\n",
              "      <td>5</td>\n",
              "      <td>25</td>\n",
              "      <td>6.667</td>\n",
              "      <td>efficient</td>\n",
              "    </tr>\n",
              "    <tr>\n",
              "      <th>1091</th>\n",
              "      <td>973286.0</td>\n",
              "      <td>2</td>\n",
              "      <td>17</td>\n",
              "      <td>105</td>\n",
              "      <td>44.000</td>\n",
              "      <td>inefficient</td>\n",
              "    </tr>\n",
              "  </tbody>\n",
              "</table>\n",
              "<p>1092 rows × 6 columns</p>\n",
              "</div>"
            ],
            "text/plain": [
              "      operator_id  calls_count  call_duration  total_call_duration  \\\n",
              "0        879896.0         1131          83261                97427   \n",
              "1        879898.0         7973         278876               391841   \n",
              "2        880020.0           54           2290                 2624   \n",
              "3        880022.0          219          18304                22679   \n",
              "4        880026.0         2439         169674               193666   \n",
              "...           ...          ...            ...                  ...   \n",
              "1087     972410.0           77           3777                 5275   \n",
              "1088     972412.0           61           3498                 4548   \n",
              "1089     972460.0           70           2321                 3122   \n",
              "1090     973120.0            3              5                   25   \n",
              "1091     973286.0            2             17                  105   \n",
              "\n",
              "      hold_calls hold_call_rating  \n",
              "0         12.525          regular  \n",
              "1         14.168          regular  \n",
              "2          6.185        efficient  \n",
              "3         19.977          regular  \n",
              "4          9.837        efficient  \n",
              "...          ...              ...  \n",
              "1087      19.455          regular  \n",
              "1088      17.213          regular  \n",
              "1089      11.443          regular  \n",
              "1090       6.667        efficient  \n",
              "1091      44.000      inefficient  \n",
              "\n",
              "[1092 rows x 6 columns]"
            ]
          },
          "execution_count": 38,
          "metadata": {},
          "output_type": "execute_result"
        }
      ],
      "source": [
        "#Utilizamos lambda para evaluar el tiempo promedio de duración\n",
        "hold_times_filtered['hold_call_rating'] = hold_times_filtered['hold_calls'].apply(\n",
        "    lambda value: 'efficient' if value < 10 else 'regular' if value <= 20 else 'inefficient'\n",
        ")\n",
        "hold_times_filtered"
      ]
    },
    {
      "cell_type": "code",
      "execution_count": null,
      "metadata": {
        "id": "On2LtpZDI_cj",
        "outputId": "56d35606-b437-48d0-e9b3-caa3f5661ebb"
      },
      "outputs": [
        {
          "data": {
            "text/plain": [
              "regular        607\n",
              "inefficient    274\n",
              "efficient      211\n",
              "Name: hold_call_rating, dtype: int64"
            ]
          },
          "execution_count": 39,
          "metadata": {},
          "output_type": "execute_result"
        }
      ],
      "source": [
        "# Mostramos la cantidad de operadores que quedaron en cada grupo.\n",
        "hold_times_filtered['hold_call_rating'].value_counts()"
      ]
    },
    {
      "cell_type": "markdown",
      "metadata": {
        "id": "5tSYnJsaI_cj"
      },
      "source": [
        "En el caso de este indicador tenemos mucho más operadores que tienen un desempeño que requieren atención, capacitación o revisar que factores externos pueden estar afectando el tiempo de espera de estas llamadas."
      ]
    },
    {
      "cell_type": "markdown",
      "metadata": {
        "id": "MwbgxXyLI_cj"
      },
      "source": [
        "<div class=\"alert alert-block alert-success\">\n",
        "<b>Comentario del revisor</b> <a class=\"tocSkip\"></a><br>\n",
        "\n",
        "<b>Éxito</b> - El cálculo del indicador de tiempo de espera (hold_call_rating) es sólido, y el uso de percentiles para categorizar el tiempo medio de respuesta (TME) permite una evaluación más detallada del desempeño. La interpretación de los datos es clara, y la visualización mediante histogramas facilita la comprensión de la distribución. ¡Buen uso de criterios de eficiencia para evaluar a los operadores!\n",
        "\n",
        "</div>"
      ]
    },
    {
      "cell_type": "markdown",
      "metadata": {
        "id": "iizPNUBtI_cj"
      },
      "source": [
        "#### Indicador de llamadas salientes por operador (outcalls_rating)"
      ]
    },
    {
      "cell_type": "code",
      "execution_count": null,
      "metadata": {
        "id": "Kb-C15x_I_cj",
        "outputId": "10dc041f-19c5-40ed-d8d1-2c891ea02385"
      },
      "outputs": [
        {
          "name": "stdout",
          "output_type": "stream",
          "text": [
            "     operator_id  outgoing_call_count\n",
            "0           -1.0                  198\n",
            "1       879896.0                  105\n",
            "2       879898.0                  187\n",
            "3       880020.0                   14\n",
            "4       880022.0                   68\n",
            "..           ...                  ...\n",
            "878     972408.0                    3\n",
            "879     972410.0                    4\n",
            "880     972412.0                    4\n",
            "881     972460.0                    7\n",
            "882     973120.0                    2\n",
            "\n",
            "[883 rows x 2 columns]\n"
          ]
        }
      ],
      "source": [
        "# Filtrar solo las llamadas salientes\n",
        "outgoing_calls = telecom[telecom['direction'] == 'out']\n",
        "\n",
        "# Contar el número de llamadas salientes por cada operador\n",
        "outgoing_calls_count = outgoing_calls.groupby('operator_id').size().reset_index(name='outgoing_call_count')\n",
        "\n",
        "# Mostrar el resultado\n",
        "print(outgoing_calls_count)"
      ]
    },
    {
      "cell_type": "code",
      "execution_count": null,
      "metadata": {
        "id": "Bdq0FGvBI_ck",
        "outputId": "a2b61165-b347-4a49-c52d-f8319920bfda"
      },
      "outputs": [
        {
          "data": {
            "text/html": [
              "<div>\n",
              "<style scoped>\n",
              "    .dataframe tbody tr th:only-of-type {\n",
              "        vertical-align: middle;\n",
              "    }\n",
              "\n",
              "    .dataframe tbody tr th {\n",
              "        vertical-align: top;\n",
              "    }\n",
              "\n",
              "    .dataframe thead th {\n",
              "        text-align: right;\n",
              "    }\n",
              "</style>\n",
              "<table border=\"1\" class=\"dataframe\">\n",
              "  <thead>\n",
              "    <tr style=\"text-align: right;\">\n",
              "      <th></th>\n",
              "      <th>operator_id</th>\n",
              "      <th>outgoing_call_count</th>\n",
              "    </tr>\n",
              "  </thead>\n",
              "  <tbody>\n",
              "    <tr>\n",
              "      <th>1</th>\n",
              "      <td>879896.0</td>\n",
              "      <td>105</td>\n",
              "    </tr>\n",
              "    <tr>\n",
              "      <th>2</th>\n",
              "      <td>879898.0</td>\n",
              "      <td>187</td>\n",
              "    </tr>\n",
              "    <tr>\n",
              "      <th>3</th>\n",
              "      <td>880020.0</td>\n",
              "      <td>14</td>\n",
              "    </tr>\n",
              "    <tr>\n",
              "      <th>4</th>\n",
              "      <td>880022.0</td>\n",
              "      <td>68</td>\n",
              "    </tr>\n",
              "    <tr>\n",
              "      <th>5</th>\n",
              "      <td>880026.0</td>\n",
              "      <td>179</td>\n",
              "    </tr>\n",
              "    <tr>\n",
              "      <th>...</th>\n",
              "      <td>...</td>\n",
              "      <td>...</td>\n",
              "    </tr>\n",
              "    <tr>\n",
              "      <th>878</th>\n",
              "      <td>972408.0</td>\n",
              "      <td>3</td>\n",
              "    </tr>\n",
              "    <tr>\n",
              "      <th>879</th>\n",
              "      <td>972410.0</td>\n",
              "      <td>4</td>\n",
              "    </tr>\n",
              "    <tr>\n",
              "      <th>880</th>\n",
              "      <td>972412.0</td>\n",
              "      <td>4</td>\n",
              "    </tr>\n",
              "    <tr>\n",
              "      <th>881</th>\n",
              "      <td>972460.0</td>\n",
              "      <td>7</td>\n",
              "    </tr>\n",
              "    <tr>\n",
              "      <th>882</th>\n",
              "      <td>973120.0</td>\n",
              "      <td>2</td>\n",
              "    </tr>\n",
              "  </tbody>\n",
              "</table>\n",
              "<p>882 rows × 2 columns</p>\n",
              "</div>"
            ],
            "text/plain": [
              "     operator_id  outgoing_call_count\n",
              "1       879896.0                  105\n",
              "2       879898.0                  187\n",
              "3       880020.0                   14\n",
              "4       880022.0                   68\n",
              "5       880026.0                  179\n",
              "..           ...                  ...\n",
              "878     972408.0                    3\n",
              "879     972410.0                    4\n",
              "880     972412.0                    4\n",
              "881     972460.0                    7\n",
              "882     973120.0                    2\n",
              "\n",
              "[882 rows x 2 columns]"
            ]
          },
          "execution_count": 41,
          "metadata": {},
          "output_type": "execute_result"
        }
      ],
      "source": [
        "# Filtramos los valores ausentes\n",
        "outgoing_calls_filtered = outgoing_calls_count[outgoing_calls_count['operator_id']!=-1]\n",
        "outgoing_calls_filtered"
      ]
    },
    {
      "cell_type": "code",
      "execution_count": null,
      "metadata": {
        "id": "OpZvjF4cI_ck",
        "outputId": "02a57d2f-881b-4172-d503-ca73ece49292"
      },
      "outputs": [
        {
          "data": {
            "image/png": "[encoded data removed]",
            "text/plain": [
              "<Figure size 640x480 with 1 Axes>"
            ]
          },
          "metadata": {},
          "output_type": "display_data"
        }
      ],
      "source": [
        "sns.boxplot(x=outgoing_calls_filtered['outgoing_call_count'])\n",
        "plt.show()"
      ]
    },
    {
      "cell_type": "markdown",
      "metadata": {
        "id": "Nrpe-qRiI_ck"
      },
      "source": [
        "Como podemos observar la mayoria de los operadores han realizado menos de 100 llamadas y la media se encuentra en las 35 llamadas."
      ]
    },
    {
      "cell_type": "code",
      "execution_count": null,
      "metadata": {
        "id": "ThwmBHMmI_ck",
        "outputId": "07927366-e097-4a05-df3a-5acca3727456"
      },
      "outputs": [
        {
          "data": {
            "text/html": [
              "<div>\n",
              "<style scoped>\n",
              "    .dataframe tbody tr th:only-of-type {\n",
              "        vertical-align: middle;\n",
              "    }\n",
              "\n",
              "    .dataframe tbody tr th {\n",
              "        vertical-align: top;\n",
              "    }\n",
              "\n",
              "    .dataframe thead th {\n",
              "        text-align: right;\n",
              "    }\n",
              "</style>\n",
              "<table border=\"1\" class=\"dataframe\">\n",
              "  <thead>\n",
              "    <tr style=\"text-align: right;\">\n",
              "      <th></th>\n",
              "      <th>operator_id</th>\n",
              "      <th>outgoing_call_count</th>\n",
              "    </tr>\n",
              "  </thead>\n",
              "  <tbody>\n",
              "    <tr>\n",
              "      <th>count</th>\n",
              "      <td>882.000000</td>\n",
              "      <td>882.000000</td>\n",
              "    </tr>\n",
              "    <tr>\n",
              "      <th>mean</th>\n",
              "      <td>925658.340136</td>\n",
              "      <td>35.960317</td>\n",
              "    </tr>\n",
              "    <tr>\n",
              "      <th>std</th>\n",
              "      <td>22862.558731</td>\n",
              "      <td>41.965280</td>\n",
              "    </tr>\n",
              "    <tr>\n",
              "      <th>min</th>\n",
              "      <td>879896.000000</td>\n",
              "      <td>1.000000</td>\n",
              "    </tr>\n",
              "    <tr>\n",
              "      <th>25%</th>\n",
              "      <td>906394.500000</td>\n",
              "      <td>5.000000</td>\n",
              "    </tr>\n",
              "    <tr>\n",
              "      <th>40%</th>\n",
              "      <td>919251.600000</td>\n",
              "      <td>12.400000</td>\n",
              "    </tr>\n",
              "    <tr>\n",
              "      <th>50%</th>\n",
              "      <td>924959.000000</td>\n",
              "      <td>21.000000</td>\n",
              "    </tr>\n",
              "    <tr>\n",
              "      <th>60%</th>\n",
              "      <td>937273.600000</td>\n",
              "      <td>31.000000</td>\n",
              "    </tr>\n",
              "    <tr>\n",
              "      <th>75%</th>\n",
              "      <td>943630.000000</td>\n",
              "      <td>49.750000</td>\n",
              "    </tr>\n",
              "    <tr>\n",
              "      <th>80%</th>\n",
              "      <td>945860.800000</td>\n",
              "      <td>59.800000</td>\n",
              "    </tr>\n",
              "    <tr>\n",
              "      <th>85%</th>\n",
              "      <td>950637.800000</td>\n",
              "      <td>71.000000</td>\n",
              "    </tr>\n",
              "    <tr>\n",
              "      <th>90%</th>\n",
              "      <td>955085.600000</td>\n",
              "      <td>92.000000</td>\n",
              "    </tr>\n",
              "    <tr>\n",
              "      <th>95%</th>\n",
              "      <td>962232.200000</td>\n",
              "      <td>124.800000</td>\n",
              "    </tr>\n",
              "    <tr>\n",
              "      <th>99%</th>\n",
              "      <td>970252.380000</td>\n",
              "      <td>186.190000</td>\n",
              "    </tr>\n",
              "    <tr>\n",
              "      <th>max</th>\n",
              "      <td>973120.000000</td>\n",
              "      <td>246.000000</td>\n",
              "    </tr>\n",
              "  </tbody>\n",
              "</table>\n",
              "</div>"
            ],
            "text/plain": [
              "         operator_id  outgoing_call_count\n",
              "count     882.000000           882.000000\n",
              "mean   925658.340136            35.960317\n",
              "std     22862.558731            41.965280\n",
              "min    879896.000000             1.000000\n",
              "25%    906394.500000             5.000000\n",
              "40%    919251.600000            12.400000\n",
              "50%    924959.000000            21.000000\n",
              "60%    937273.600000            31.000000\n",
              "75%    943630.000000            49.750000\n",
              "80%    945860.800000            59.800000\n",
              "85%    950637.800000            71.000000\n",
              "90%    955085.600000            92.000000\n",
              "95%    962232.200000           124.800000\n",
              "99%    970252.380000           186.190000\n",
              "max    973120.000000           246.000000"
            ]
          },
          "execution_count": 43,
          "metadata": {},
          "output_type": "execute_result"
        }
      ],
      "source": [
        "outgoing_calls_filtered.describe(percentiles= [0.25,0.4,0.6,0.5,0.75,0.8,0.85,0.9,0.95,0.99])"
      ]
    },
    {
      "cell_type": "markdown",
      "metadata": {
        "id": "AtjLggNwI_ck"
      },
      "source": [
        "Con ayuda del boxplot y el metodo describe, excluimos los valores más extremos para poder establecer nuestra clasificación. Por lo que excluiremos los valores por encima del 95%\n"
      ]
    },
    {
      "cell_type": "code",
      "execution_count": null,
      "metadata": {
        "id": "U731zApjI_ck",
        "outputId": "1c0c1738-39cf-4e42-a161-f1aec374c9c0"
      },
      "outputs": [
        {
          "data": {
            "text/html": [
              "<div>\n",
              "<style scoped>\n",
              "    .dataframe tbody tr th:only-of-type {\n",
              "        vertical-align: middle;\n",
              "    }\n",
              "\n",
              "    .dataframe tbody tr th {\n",
              "        vertical-align: top;\n",
              "    }\n",
              "\n",
              "    .dataframe thead th {\n",
              "        text-align: right;\n",
              "    }\n",
              "</style>\n",
              "<table border=\"1\" class=\"dataframe\">\n",
              "  <thead>\n",
              "    <tr style=\"text-align: right;\">\n",
              "      <th></th>\n",
              "      <th>operator_id</th>\n",
              "      <th>outgoing_call_count</th>\n",
              "    </tr>\n",
              "  </thead>\n",
              "  <tbody>\n",
              "    <tr>\n",
              "      <th>count</th>\n",
              "      <td>837.000000</td>\n",
              "      <td>837.000000</td>\n",
              "    </tr>\n",
              "    <tr>\n",
              "      <th>mean</th>\n",
              "      <td>927152.391876</td>\n",
              "      <td>28.998805</td>\n",
              "    </tr>\n",
              "    <tr>\n",
              "      <th>std</th>\n",
              "      <td>22364.035572</td>\n",
              "      <td>29.283121</td>\n",
              "    </tr>\n",
              "    <tr>\n",
              "      <th>min</th>\n",
              "      <td>879896.000000</td>\n",
              "      <td>1.000000</td>\n",
              "    </tr>\n",
              "    <tr>\n",
              "      <th>25%</th>\n",
              "      <td>907986.000000</td>\n",
              "      <td>5.000000</td>\n",
              "    </tr>\n",
              "    <tr>\n",
              "      <th>50%</th>\n",
              "      <td>929228.000000</td>\n",
              "      <td>19.000000</td>\n",
              "    </tr>\n",
              "    <tr>\n",
              "      <th>75%</th>\n",
              "      <td>944560.000000</td>\n",
              "      <td>45.000000</td>\n",
              "    </tr>\n",
              "    <tr>\n",
              "      <th>max</th>\n",
              "      <td>973120.000000</td>\n",
              "      <td>121.000000</td>\n",
              "    </tr>\n",
              "  </tbody>\n",
              "</table>\n",
              "</div>"
            ],
            "text/plain": [
              "         operator_id  outgoing_call_count\n",
              "count     837.000000           837.000000\n",
              "mean   927152.391876            28.998805\n",
              "std     22364.035572            29.283121\n",
              "min    879896.000000             1.000000\n",
              "25%    907986.000000             5.000000\n",
              "50%    929228.000000            19.000000\n",
              "75%    944560.000000            45.000000\n",
              "max    973120.000000           121.000000"
            ]
          },
          "execution_count": 44,
          "metadata": {},
          "output_type": "execute_result"
        }
      ],
      "source": [
        "outcalls_filtered = outgoing_calls_filtered[outgoing_calls_filtered['outgoing_call_count']<outgoing_calls_filtered['outgoing_call_count'].quantile(0.95)]\n",
        "outcalls_filtered.describe()"
      ]
    },
    {
      "cell_type": "code",
      "execution_count": null,
      "metadata": {
        "id": "bnH-d83SI_ck",
        "outputId": "2c06aebf-49c3-43aa-faae-69402e8fa195"
      },
      "outputs": [
        {
          "data": {
            "image/png": "[encoded data removed]",
            "text/plain": [
              "<Figure size 640x480 with 1 Axes>"
            ]
          },
          "metadata": {},
          "output_type": "display_data"
        }
      ],
      "source": [
        "sns.boxplot(x=outcalls_filtered['outgoing_call_count'])\n",
        "plt.show()"
      ]
    },
    {
      "cell_type": "markdown",
      "metadata": {
        "id": "e4iMUA5JI_ck"
      },
      "source": [
        "Como podemos observar son mucho menos valores los que se encuentran fuera de nuestro boxplot por lo que podemos utilizar estos datos para generar una clásificación."
      ]
    },
    {
      "cell_type": "code",
      "execution_count": null,
      "metadata": {
        "id": "BdKaNMBkI_ck",
        "outputId": "0525a348-90ef-4ad3-8bce-80e822386866"
      },
      "outputs": [
        {
          "data": {
            "image/png": "[encoded data removed]",
            "text/plain": [
              "<Figure size 640x480 with 1 Axes>"
            ]
          },
          "metadata": {},
          "output_type": "display_data"
        }
      ],
      "source": [
        "sns.histplot(x=outcalls_filtered['outgoing_call_count'])\n",
        "plt.show()"
      ]
    },
    {
      "cell_type": "code",
      "execution_count": null,
      "metadata": {
        "id": "w3eeyYTGI_ck",
        "outputId": "d9800643-fa22-4cd3-8f4b-cb39650f3adf"
      },
      "outputs": [
        {
          "data": {
            "text/html": [
              "<div>\n",
              "<style scoped>\n",
              "    .dataframe tbody tr th:only-of-type {\n",
              "        vertical-align: middle;\n",
              "    }\n",
              "\n",
              "    .dataframe tbody tr th {\n",
              "        vertical-align: top;\n",
              "    }\n",
              "\n",
              "    .dataframe thead th {\n",
              "        text-align: right;\n",
              "    }\n",
              "</style>\n",
              "<table border=\"1\" class=\"dataframe\">\n",
              "  <thead>\n",
              "    <tr style=\"text-align: right;\">\n",
              "      <th></th>\n",
              "      <th>operator_id</th>\n",
              "      <th>outgoing_call_count</th>\n",
              "    </tr>\n",
              "  </thead>\n",
              "  <tbody>\n",
              "    <tr>\n",
              "      <th>count</th>\n",
              "      <td>837.000000</td>\n",
              "      <td>837.000000</td>\n",
              "    </tr>\n",
              "    <tr>\n",
              "      <th>mean</th>\n",
              "      <td>927152.391876</td>\n",
              "      <td>28.998805</td>\n",
              "    </tr>\n",
              "    <tr>\n",
              "      <th>std</th>\n",
              "      <td>22364.035572</td>\n",
              "      <td>29.283121</td>\n",
              "    </tr>\n",
              "    <tr>\n",
              "      <th>min</th>\n",
              "      <td>879896.000000</td>\n",
              "      <td>1.000000</td>\n",
              "    </tr>\n",
              "    <tr>\n",
              "      <th>50%</th>\n",
              "      <td>929228.000000</td>\n",
              "      <td>19.000000</td>\n",
              "    </tr>\n",
              "    <tr>\n",
              "      <th>60%</th>\n",
              "      <td>937734.400000</td>\n",
              "      <td>29.000000</td>\n",
              "    </tr>\n",
              "    <tr>\n",
              "      <th>85%</th>\n",
              "      <td>951377.600000</td>\n",
              "      <td>61.600000</td>\n",
              "    </tr>\n",
              "    <tr>\n",
              "      <th>max</th>\n",
              "      <td>973120.000000</td>\n",
              "      <td>121.000000</td>\n",
              "    </tr>\n",
              "  </tbody>\n",
              "</table>\n",
              "</div>"
            ],
            "text/plain": [
              "         operator_id  outgoing_call_count\n",
              "count     837.000000           837.000000\n",
              "mean   927152.391876            28.998805\n",
              "std     22364.035572            29.283121\n",
              "min    879896.000000             1.000000\n",
              "50%    929228.000000            19.000000\n",
              "60%    937734.400000            29.000000\n",
              "85%    951377.600000            61.600000\n",
              "max    973120.000000           121.000000"
            ]
          },
          "execution_count": 47,
          "metadata": {},
          "output_type": "execute_result"
        }
      ],
      "source": [
        "outcalls_filtered.describe(percentiles = [0.6,0.85])"
      ]
    },
    {
      "cell_type": "markdown",
      "metadata": {
        "id": "Fs-9cW_YI_cl"
      },
      "source": [
        "Ocupando la misma metrica de las llamadas entrantes establecemos nuestros valores de clasificiación.\n",
        "- call_count < 85% - 62 `llamadas eficiente`\n",
        "- call_count < 60% - 29 `regular`\n",
        "- call_count menor sera `inefficient`"
      ]
    },
    {
      "cell_type": "code",
      "execution_count": null,
      "metadata": {
        "id": "8aAlqOncI_cl",
        "outputId": "741632ad-6812-44b1-e9a3-5cc46da1bdfc"
      },
      "outputs": [
        {
          "data": {
            "text/html": [
              "<div>\n",
              "<style scoped>\n",
              "    .dataframe tbody tr th:only-of-type {\n",
              "        vertical-align: middle;\n",
              "    }\n",
              "\n",
              "    .dataframe tbody tr th {\n",
              "        vertical-align: top;\n",
              "    }\n",
              "\n",
              "    .dataframe thead th {\n",
              "        text-align: right;\n",
              "    }\n",
              "</style>\n",
              "<table border=\"1\" class=\"dataframe\">\n",
              "  <thead>\n",
              "    <tr style=\"text-align: right;\">\n",
              "      <th></th>\n",
              "      <th>operator_id</th>\n",
              "      <th>outgoing_call_count</th>\n",
              "      <th>outcall_rating</th>\n",
              "    </tr>\n",
              "  </thead>\n",
              "  <tbody>\n",
              "    <tr>\n",
              "      <th>1</th>\n",
              "      <td>879896.0</td>\n",
              "      <td>105</td>\n",
              "      <td>efficient</td>\n",
              "    </tr>\n",
              "    <tr>\n",
              "      <th>3</th>\n",
              "      <td>880020.0</td>\n",
              "      <td>14</td>\n",
              "      <td>inefficient</td>\n",
              "    </tr>\n",
              "    <tr>\n",
              "      <th>4</th>\n",
              "      <td>880022.0</td>\n",
              "      <td>68</td>\n",
              "      <td>efficient</td>\n",
              "    </tr>\n",
              "    <tr>\n",
              "      <th>7</th>\n",
              "      <td>880240.0</td>\n",
              "      <td>14</td>\n",
              "      <td>inefficient</td>\n",
              "    </tr>\n",
              "    <tr>\n",
              "      <th>8</th>\n",
              "      <td>881278.0</td>\n",
              "      <td>8</td>\n",
              "      <td>inefficient</td>\n",
              "    </tr>\n",
              "    <tr>\n",
              "      <th>...</th>\n",
              "      <td>...</td>\n",
              "      <td>...</td>\n",
              "      <td>...</td>\n",
              "    </tr>\n",
              "    <tr>\n",
              "      <th>878</th>\n",
              "      <td>972408.0</td>\n",
              "      <td>3</td>\n",
              "      <td>inefficient</td>\n",
              "    </tr>\n",
              "    <tr>\n",
              "      <th>879</th>\n",
              "      <td>972410.0</td>\n",
              "      <td>4</td>\n",
              "      <td>inefficient</td>\n",
              "    </tr>\n",
              "    <tr>\n",
              "      <th>880</th>\n",
              "      <td>972412.0</td>\n",
              "      <td>4</td>\n",
              "      <td>inefficient</td>\n",
              "    </tr>\n",
              "    <tr>\n",
              "      <th>881</th>\n",
              "      <td>972460.0</td>\n",
              "      <td>7</td>\n",
              "      <td>inefficient</td>\n",
              "    </tr>\n",
              "    <tr>\n",
              "      <th>882</th>\n",
              "      <td>973120.0</td>\n",
              "      <td>2</td>\n",
              "      <td>inefficient</td>\n",
              "    </tr>\n",
              "  </tbody>\n",
              "</table>\n",
              "<p>837 rows × 3 columns</p>\n",
              "</div>"
            ],
            "text/plain": [
              "     operator_id  outgoing_call_count outcall_rating\n",
              "1       879896.0                  105      efficient\n",
              "3       880020.0                   14    inefficient\n",
              "4       880022.0                   68      efficient\n",
              "7       880240.0                   14    inefficient\n",
              "8       881278.0                    8    inefficient\n",
              "..           ...                  ...            ...\n",
              "878     972408.0                    3    inefficient\n",
              "879     972410.0                    4    inefficient\n",
              "880     972412.0                    4    inefficient\n",
              "881     972460.0                    7    inefficient\n",
              "882     973120.0                    2    inefficient\n",
              "\n",
              "[837 rows x 3 columns]"
            ]
          },
          "execution_count": 48,
          "metadata": {},
          "output_type": "execute_result"
        }
      ],
      "source": [
        "#Creamos una copia para evitar mensajes de error\n",
        "outcalls_filtered = outcalls_filtered.copy()\n",
        "#Evaluamos outgoing_call_count con lambda\n",
        "outcalls_filtered['outcall_rating'] = outcalls_filtered['outgoing_call_count'].apply(\n",
        "    lambda value: 'efficient' if value > 62 else 'regular' if value >= 29 else 'inefficient'\n",
        ")\n",
        "outcalls_filtered"
      ]
    },
    {
      "cell_type": "code",
      "execution_count": null,
      "metadata": {
        "id": "uD9UeqjWI_cl",
        "outputId": "5144fdec-9ccb-4231-f71a-9757e03f03dd"
      },
      "outputs": [
        {
          "data": {
            "text/plain": [
              "inefficient    500\n",
              "regular        214\n",
              "efficient      123\n",
              "Name: outcall_rating, dtype: int64"
            ]
          },
          "execution_count": 49,
          "metadata": {},
          "output_type": "execute_result"
        }
      ],
      "source": [
        "outcalls_filtered['outcall_rating'].value_counts()"
      ]
    },
    {
      "cell_type": "markdown",
      "metadata": {
        "id": "JHgA2QPxI_cl"
      },
      "source": [
        "<div class=\"alert alert-block alert-success\">\n",
        "<b>Comentario del revisor</b> <a class=\"tocSkip\"></a><br>\n",
        "\n",
        "<b>Éxito</b> - El análisis de las llamadas salientes por operador (outcalls_rating) está bien estructurado. La exclusión de valores atípicos y el uso de la caja y el histograma para visualizar la distribución ofrecen una buena comprensión de la actividad de los operadores. Excelente aplicación de criterios para clasificar a los operadores en función de su número de llamadas salientes.\n",
        "\n",
        "</div>\n"
      ]
    },
    {
      "cell_type": "markdown",
      "metadata": {
        "id": "EiwOVNqnI_cl"
      },
      "source": [
        "#### Evaluación de los operadores usando los tres indicadores."
      ]
    },
    {
      "cell_type": "code",
      "execution_count": null,
      "metadata": {
        "id": "QZ3hnhJ_I_cl"
      },
      "outputs": [],
      "source": [
        "# Seleccionar y renombrar columnas en cada DataFrame\n",
        "hold_times_filtered = hold_times_filtered[['operator_id', 'hold_call_rating']]\n",
        "filtered_missed_calls = filtered_missed_calls[['operator_id', 'miss_call_rating']]\n",
        "outcalls_filtered = outcalls_filtered[['operator_id', 'outcall_rating']]\n",
        "\n",
        "# Unir los DataFrames en 'operator_id'\n",
        "operator_rating = hold_times_filtered.merge(filtered_missed_calls, on='operator_id', how='outer') \\\n",
        "                            .merge(outcalls_filtered, on='operator_id', how='outer')"
      ]
    },
    {
      "cell_type": "code",
      "execution_count": null,
      "metadata": {
        "id": "9dAL7oLrI_cl",
        "outputId": "e13f98a1-d440-415f-c761-57d136d26a0a"
      },
      "outputs": [
        {
          "data": {
            "text/html": [
              "<div>\n",
              "<style scoped>\n",
              "    .dataframe tbody tr th:only-of-type {\n",
              "        vertical-align: middle;\n",
              "    }\n",
              "\n",
              "    .dataframe tbody tr th {\n",
              "        vertical-align: top;\n",
              "    }\n",
              "\n",
              "    .dataframe thead th {\n",
              "        text-align: right;\n",
              "    }\n",
              "</style>\n",
              "<table border=\"1\" class=\"dataframe\">\n",
              "  <thead>\n",
              "    <tr style=\"text-align: right;\">\n",
              "      <th></th>\n",
              "      <th>operator_id</th>\n",
              "      <th>hold_call_rating</th>\n",
              "      <th>miss_call_rating</th>\n",
              "      <th>outcall_rating</th>\n",
              "    </tr>\n",
              "  </thead>\n",
              "  <tbody>\n",
              "    <tr>\n",
              "      <th>0</th>\n",
              "      <td>879896.0</td>\n",
              "      <td>regular</td>\n",
              "      <td>efficient</td>\n",
              "      <td>efficient</td>\n",
              "    </tr>\n",
              "    <tr>\n",
              "      <th>1</th>\n",
              "      <td>879898.0</td>\n",
              "      <td>regular</td>\n",
              "      <td>efficient</td>\n",
              "      <td>NaN</td>\n",
              "    </tr>\n",
              "    <tr>\n",
              "      <th>2</th>\n",
              "      <td>880020.0</td>\n",
              "      <td>efficient</td>\n",
              "      <td>efficient</td>\n",
              "      <td>inefficient</td>\n",
              "    </tr>\n",
              "    <tr>\n",
              "      <th>3</th>\n",
              "      <td>880022.0</td>\n",
              "      <td>regular</td>\n",
              "      <td>efficient</td>\n",
              "      <td>efficient</td>\n",
              "    </tr>\n",
              "    <tr>\n",
              "      <th>4</th>\n",
              "      <td>880026.0</td>\n",
              "      <td>efficient</td>\n",
              "      <td>efficient</td>\n",
              "      <td>NaN</td>\n",
              "    </tr>\n",
              "    <tr>\n",
              "      <th>...</th>\n",
              "      <td>...</td>\n",
              "      <td>...</td>\n",
              "      <td>...</td>\n",
              "      <td>...</td>\n",
              "    </tr>\n",
              "    <tr>\n",
              "      <th>1087</th>\n",
              "      <td>972410.0</td>\n",
              "      <td>regular</td>\n",
              "      <td>NaN</td>\n",
              "      <td>inefficient</td>\n",
              "    </tr>\n",
              "    <tr>\n",
              "      <th>1088</th>\n",
              "      <td>972412.0</td>\n",
              "      <td>regular</td>\n",
              "      <td>efficient</td>\n",
              "      <td>inefficient</td>\n",
              "    </tr>\n",
              "    <tr>\n",
              "      <th>1089</th>\n",
              "      <td>972460.0</td>\n",
              "      <td>regular</td>\n",
              "      <td>efficient</td>\n",
              "      <td>inefficient</td>\n",
              "    </tr>\n",
              "    <tr>\n",
              "      <th>1090</th>\n",
              "      <td>973120.0</td>\n",
              "      <td>efficient</td>\n",
              "      <td>NaN</td>\n",
              "      <td>inefficient</td>\n",
              "    </tr>\n",
              "    <tr>\n",
              "      <th>1091</th>\n",
              "      <td>973286.0</td>\n",
              "      <td>inefficient</td>\n",
              "      <td>efficient</td>\n",
              "      <td>NaN</td>\n",
              "    </tr>\n",
              "  </tbody>\n",
              "</table>\n",
              "<p>1092 rows × 4 columns</p>\n",
              "</div>"
            ],
            "text/plain": [
              "      operator_id hold_call_rating miss_call_rating outcall_rating\n",
              "0        879896.0          regular        efficient      efficient\n",
              "1        879898.0          regular        efficient            NaN\n",
              "2        880020.0        efficient        efficient    inefficient\n",
              "3        880022.0          regular        efficient      efficient\n",
              "4        880026.0        efficient        efficient            NaN\n",
              "...           ...              ...              ...            ...\n",
              "1087     972410.0          regular              NaN    inefficient\n",
              "1088     972412.0          regular        efficient    inefficient\n",
              "1089     972460.0          regular        efficient    inefficient\n",
              "1090     973120.0        efficient              NaN    inefficient\n",
              "1091     973286.0      inefficient        efficient            NaN\n",
              "\n",
              "[1092 rows x 4 columns]"
            ]
          },
          "execution_count": 51,
          "metadata": {},
          "output_type": "execute_result"
        }
      ],
      "source": [
        "operator_rating"
      ]
    },
    {
      "cell_type": "code",
      "execution_count": null,
      "metadata": {
        "id": "bvi7cwCGI_cl",
        "outputId": "1654ade5-b5b2-48a1-89bf-2939fd682fb6"
      },
      "outputs": [
        {
          "data": {
            "text/plain": [
              "operator_id           0\n",
              "hold_call_rating      0\n",
              "miss_call_rating    338\n",
              "outcall_rating      255\n",
              "dtype: int64"
            ]
          },
          "execution_count": 52,
          "metadata": {},
          "output_type": "execute_result"
        }
      ],
      "source": [
        "operator_rating.isna().sum()"
      ]
    },
    {
      "cell_type": "code",
      "execution_count": null,
      "metadata": {
        "id": "CQgvC9CwI_cl",
        "outputId": "429f684e-232a-44b9-e74c-f2d7a8bee263"
      },
      "outputs": [
        {
          "data": {
            "text/plain": [
              "operator_id         0\n",
              "hold_call_rating    0\n",
              "miss_call_rating    0\n",
              "outcall_rating      0\n",
              "dtype: int64"
            ]
          },
          "execution_count": 53,
          "metadata": {},
          "output_type": "execute_result"
        }
      ],
      "source": [
        "operator_rating[['miss_call_rating', 'hold_call_rating', 'outcall_rating']] = operator_rating[['miss_call_rating', 'hold_call_rating', 'outcall_rating']].fillna('regular')\n",
        "operator_rating.isna().sum()"
      ]
    },
    {
      "cell_type": "code",
      "execution_count": null,
      "metadata": {
        "scrolled": true,
        "id": "2v35vLinI_cl",
        "outputId": "e0df14ba-8039-430f-ee25-6f56df73c6fc"
      },
      "outputs": [
        {
          "data": {
            "text/html": [
              "<div>\n",
              "<style scoped>\n",
              "    .dataframe tbody tr th:only-of-type {\n",
              "        vertical-align: middle;\n",
              "    }\n",
              "\n",
              "    .dataframe tbody tr th {\n",
              "        vertical-align: top;\n",
              "    }\n",
              "\n",
              "    .dataframe thead th {\n",
              "        text-align: right;\n",
              "    }\n",
              "</style>\n",
              "<table border=\"1\" class=\"dataframe\">\n",
              "  <thead>\n",
              "    <tr style=\"text-align: right;\">\n",
              "      <th></th>\n",
              "      <th>operator_id</th>\n",
              "      <th>hold_call_rating</th>\n",
              "      <th>miss_call_rating</th>\n",
              "      <th>outcall_rating</th>\n",
              "    </tr>\n",
              "  </thead>\n",
              "  <tbody>\n",
              "    <tr>\n",
              "      <th>0</th>\n",
              "      <td>879896.0</td>\n",
              "      <td>regular</td>\n",
              "      <td>efficient</td>\n",
              "      <td>efficient</td>\n",
              "    </tr>\n",
              "    <tr>\n",
              "      <th>1</th>\n",
              "      <td>879898.0</td>\n",
              "      <td>regular</td>\n",
              "      <td>efficient</td>\n",
              "      <td>regular</td>\n",
              "    </tr>\n",
              "    <tr>\n",
              "      <th>2</th>\n",
              "      <td>880020.0</td>\n",
              "      <td>efficient</td>\n",
              "      <td>efficient</td>\n",
              "      <td>inefficient</td>\n",
              "    </tr>\n",
              "    <tr>\n",
              "      <th>3</th>\n",
              "      <td>880022.0</td>\n",
              "      <td>regular</td>\n",
              "      <td>efficient</td>\n",
              "      <td>efficient</td>\n",
              "    </tr>\n",
              "    <tr>\n",
              "      <th>4</th>\n",
              "      <td>880026.0</td>\n",
              "      <td>efficient</td>\n",
              "      <td>efficient</td>\n",
              "      <td>regular</td>\n",
              "    </tr>\n",
              "    <tr>\n",
              "      <th>...</th>\n",
              "      <td>...</td>\n",
              "      <td>...</td>\n",
              "      <td>...</td>\n",
              "      <td>...</td>\n",
              "    </tr>\n",
              "    <tr>\n",
              "      <th>1087</th>\n",
              "      <td>972410.0</td>\n",
              "      <td>regular</td>\n",
              "      <td>regular</td>\n",
              "      <td>inefficient</td>\n",
              "    </tr>\n",
              "    <tr>\n",
              "      <th>1088</th>\n",
              "      <td>972412.0</td>\n",
              "      <td>regular</td>\n",
              "      <td>efficient</td>\n",
              "      <td>inefficient</td>\n",
              "    </tr>\n",
              "    <tr>\n",
              "      <th>1089</th>\n",
              "      <td>972460.0</td>\n",
              "      <td>regular</td>\n",
              "      <td>efficient</td>\n",
              "      <td>inefficient</td>\n",
              "    </tr>\n",
              "    <tr>\n",
              "      <th>1090</th>\n",
              "      <td>973120.0</td>\n",
              "      <td>efficient</td>\n",
              "      <td>regular</td>\n",
              "      <td>inefficient</td>\n",
              "    </tr>\n",
              "    <tr>\n",
              "      <th>1091</th>\n",
              "      <td>973286.0</td>\n",
              "      <td>inefficient</td>\n",
              "      <td>efficient</td>\n",
              "      <td>regular</td>\n",
              "    </tr>\n",
              "  </tbody>\n",
              "</table>\n",
              "<p>1092 rows × 4 columns</p>\n",
              "</div>"
            ],
            "text/plain": [
              "      operator_id hold_call_rating miss_call_rating outcall_rating\n",
              "0        879896.0          regular        efficient      efficient\n",
              "1        879898.0          regular        efficient        regular\n",
              "2        880020.0        efficient        efficient    inefficient\n",
              "3        880022.0          regular        efficient      efficient\n",
              "4        880026.0        efficient        efficient        regular\n",
              "...           ...              ...              ...            ...\n",
              "1087     972410.0          regular          regular    inefficient\n",
              "1088     972412.0          regular        efficient    inefficient\n",
              "1089     972460.0          regular        efficient    inefficient\n",
              "1090     973120.0        efficient          regular    inefficient\n",
              "1091     973286.0      inefficient        efficient        regular\n",
              "\n",
              "[1092 rows x 4 columns]"
            ]
          },
          "execution_count": 54,
          "metadata": {},
          "output_type": "execute_result"
        }
      ],
      "source": [
        "operator_rating"
      ]
    },
    {
      "cell_type": "markdown",
      "metadata": {
        "id": "mFxGbOwsI_cm"
      },
      "source": [
        "Ahora trabajaremos con un metodo de ponderación:\n",
        "- efficient = 3\n",
        "- regular = 2\n",
        "- inefficient = 1\n",
        "Con estos valores generaremos una calificación para cada una de las columnas, y luego vamos a clasificar a los operadores de la siguiente manera con la suma de los puntos obtenidos:\n",
        "- efficient > 8\n",
        "- regular 5-7\n",
        "- inefficient > 4"
      ]
    },
    {
      "cell_type": "markdown",
      "metadata": {
        "id": "23f05pnmI_cm"
      },
      "source": [
        "Como podemos observar por los datos ausentes y esto debido a los valores ausentes que se eliminarion o en su defecto dichos operadores no cuentan con evaluación en esos rubros. asi que para poder trabajar con la información rellenaremos los valores ausentes con regular."
      ]
    },
    {
      "cell_type": "code",
      "execution_count": null,
      "metadata": {
        "id": "coZQXk8nI_cm",
        "outputId": "9a14fdf8-0747-41d7-a15c-379e0f4c6036"
      },
      "outputs": [
        {
          "data": {
            "text/html": [
              "<div>\n",
              "<style scoped>\n",
              "    .dataframe tbody tr th:only-of-type {\n",
              "        vertical-align: middle;\n",
              "    }\n",
              "\n",
              "    .dataframe tbody tr th {\n",
              "        vertical-align: top;\n",
              "    }\n",
              "\n",
              "    .dataframe thead th {\n",
              "        text-align: right;\n",
              "    }\n",
              "</style>\n",
              "<table border=\"1\" class=\"dataframe\">\n",
              "  <thead>\n",
              "    <tr style=\"text-align: right;\">\n",
              "      <th></th>\n",
              "      <th>operator_id</th>\n",
              "      <th>hold_call_rating</th>\n",
              "      <th>miss_call_rating</th>\n",
              "      <th>outcall_rating</th>\n",
              "      <th>total_score</th>\n",
              "      <th>total_rating</th>\n",
              "    </tr>\n",
              "  </thead>\n",
              "  <tbody>\n",
              "    <tr>\n",
              "      <th>0</th>\n",
              "      <td>879896.0</td>\n",
              "      <td>regular</td>\n",
              "      <td>efficient</td>\n",
              "      <td>efficient</td>\n",
              "      <td>8</td>\n",
              "      <td>efficient</td>\n",
              "    </tr>\n",
              "    <tr>\n",
              "      <th>1</th>\n",
              "      <td>879898.0</td>\n",
              "      <td>regular</td>\n",
              "      <td>efficient</td>\n",
              "      <td>regular</td>\n",
              "      <td>7</td>\n",
              "      <td>regular</td>\n",
              "    </tr>\n",
              "    <tr>\n",
              "      <th>2</th>\n",
              "      <td>880020.0</td>\n",
              "      <td>efficient</td>\n",
              "      <td>efficient</td>\n",
              "      <td>inefficient</td>\n",
              "      <td>7</td>\n",
              "      <td>regular</td>\n",
              "    </tr>\n",
              "    <tr>\n",
              "      <th>3</th>\n",
              "      <td>880022.0</td>\n",
              "      <td>regular</td>\n",
              "      <td>efficient</td>\n",
              "      <td>efficient</td>\n",
              "      <td>8</td>\n",
              "      <td>efficient</td>\n",
              "    </tr>\n",
              "    <tr>\n",
              "      <th>4</th>\n",
              "      <td>880026.0</td>\n",
              "      <td>efficient</td>\n",
              "      <td>efficient</td>\n",
              "      <td>regular</td>\n",
              "      <td>8</td>\n",
              "      <td>efficient</td>\n",
              "    </tr>\n",
              "    <tr>\n",
              "      <th>...</th>\n",
              "      <td>...</td>\n",
              "      <td>...</td>\n",
              "      <td>...</td>\n",
              "      <td>...</td>\n",
              "      <td>...</td>\n",
              "      <td>...</td>\n",
              "    </tr>\n",
              "    <tr>\n",
              "      <th>1087</th>\n",
              "      <td>972410.0</td>\n",
              "      <td>regular</td>\n",
              "      <td>regular</td>\n",
              "      <td>inefficient</td>\n",
              "      <td>5</td>\n",
              "      <td>regular</td>\n",
              "    </tr>\n",
              "    <tr>\n",
              "      <th>1088</th>\n",
              "      <td>972412.0</td>\n",
              "      <td>regular</td>\n",
              "      <td>efficient</td>\n",
              "      <td>inefficient</td>\n",
              "      <td>6</td>\n",
              "      <td>regular</td>\n",
              "    </tr>\n",
              "    <tr>\n",
              "      <th>1089</th>\n",
              "      <td>972460.0</td>\n",
              "      <td>regular</td>\n",
              "      <td>efficient</td>\n",
              "      <td>inefficient</td>\n",
              "      <td>6</td>\n",
              "      <td>regular</td>\n",
              "    </tr>\n",
              "    <tr>\n",
              "      <th>1090</th>\n",
              "      <td>973120.0</td>\n",
              "      <td>efficient</td>\n",
              "      <td>regular</td>\n",
              "      <td>inefficient</td>\n",
              "      <td>6</td>\n",
              "      <td>regular</td>\n",
              "    </tr>\n",
              "    <tr>\n",
              "      <th>1091</th>\n",
              "      <td>973286.0</td>\n",
              "      <td>inefficient</td>\n",
              "      <td>efficient</td>\n",
              "      <td>regular</td>\n",
              "      <td>6</td>\n",
              "      <td>regular</td>\n",
              "    </tr>\n",
              "  </tbody>\n",
              "</table>\n",
              "<p>1092 rows × 6 columns</p>\n",
              "</div>"
            ],
            "text/plain": [
              "      operator_id hold_call_rating miss_call_rating outcall_rating  \\\n",
              "0        879896.0          regular        efficient      efficient   \n",
              "1        879898.0          regular        efficient        regular   \n",
              "2        880020.0        efficient        efficient    inefficient   \n",
              "3        880022.0          regular        efficient      efficient   \n",
              "4        880026.0        efficient        efficient        regular   \n",
              "...           ...              ...              ...            ...   \n",
              "1087     972410.0          regular          regular    inefficient   \n",
              "1088     972412.0          regular        efficient    inefficient   \n",
              "1089     972460.0          regular        efficient    inefficient   \n",
              "1090     973120.0        efficient          regular    inefficient   \n",
              "1091     973286.0      inefficient        efficient        regular   \n",
              "\n",
              "      total_score total_rating  \n",
              "0               8    efficient  \n",
              "1               7      regular  \n",
              "2               7      regular  \n",
              "3               8    efficient  \n",
              "4               8    efficient  \n",
              "...           ...          ...  \n",
              "1087            5      regular  \n",
              "1088            6      regular  \n",
              "1089            6      regular  \n",
              "1090            6      regular  \n",
              "1091            6      regular  \n",
              "\n",
              "[1092 rows x 6 columns]"
            ]
          },
          "execution_count": 55,
          "metadata": {},
          "output_type": "execute_result"
        }
      ],
      "source": [
        "# Definir una función para asignar puntos según la calificación\n",
        "def assign_points(rating):\n",
        "    if rating == 'inefficient':\n",
        "        return 1\n",
        "    elif rating == 'regular':\n",
        "        return 2\n",
        "    elif rating == 'efficient':\n",
        "        return 3\n",
        "    else:\n",
        "        return 0  # En caso de valores nulos o desconocidos\n",
        "\n",
        "# Calcular el puntaje total para cada operador\n",
        "operator_rating['total_score'] = (\n",
        "    operator_rating['miss_call_rating'].apply(assign_points) +\n",
        "    operator_rating['hold_call_rating'].apply(assign_points) +\n",
        "    operator_rating['outcall_rating'].apply(assign_points)\n",
        ")\n",
        "\n",
        "\n",
        "\n",
        "\n",
        "# Aplicar la lógica de reemplazo de valores\n",
        "operator_rating['total_rating'] = operator_rating['total_score'].apply(lambda x: 'efficient' if x >= 8 else ('regular' if 5 <= x <= 7 else ('inefficient' if x <= 4 else x)))\n",
        "\n",
        "# Mostrar el resultado\n",
        "operator_rating\n"
      ]
    },
    {
      "cell_type": "code",
      "execution_count": null,
      "metadata": {
        "id": "s1ggMQYAI_cm",
        "outputId": "be560280-1581-4242-d7a8-6667b9c0b6bd"
      },
      "outputs": [
        {
          "data": {
            "text/plain": [
              "regular        909\n",
              "efficient      127\n",
              "inefficient     56\n",
              "Name: total_rating, dtype: int64"
            ]
          },
          "execution_count": 56,
          "metadata": {},
          "output_type": "execute_result"
        }
      ],
      "source": [
        "operator_rating['total_rating'].value_counts()"
      ]
    },
    {
      "cell_type": "markdown",
      "metadata": {
        "id": "rR6Kseb9I_cm"
      },
      "source": [
        "En conclusión,\n",
        "- contamos con 909 operadores que pueden trabajar sin ningún problema,\n",
        "- contamos con 127 operadores que pueden mejorar pero se entan desempeñando dentro del promedio\n",
        "- contamos con 56 operadores que requieren atención y deben ser supervisados para alcanzar al promedio."
      ]
    },
    {
      "cell_type": "markdown",
      "metadata": {
        "id": "UiWmV1phI_cm"
      },
      "source": [
        "Con este método de evaluación logramos gestionar y visualizar que operadores son los que requieren principalmente atención, lo cual significa que es mucho mas sencillo enfocarse en solo 56 operadores que en todos. Así también, administrando mejor nuestros recursos e identificar las áreas de mejora de los operadores."
      ]
    },
    {
      "cell_type": "markdown",
      "metadata": {
        "id": "OgBldXWNI_cm"
      },
      "source": [
        "<div class=\"alert alert-block alert-success\">\n",
        "<b>Comentario del revisor</b> <a class=\"tocSkip\"></a><br>\n",
        "\n",
        "<b>Éxito</b> - La evaluación combinada de los operadores utilizando los tres indicadores es completa y permite una visión integral del rendimiento de los operadores. La metodología de asignación de puntos y categorización final (efficient, regular, inefficient) facilita la priorización de recursos para la supervisión. Muy buen enfoque para clasificar a los operadores según su desempeño global.\n",
        "\n",
        "</div>\n"
      ]
    },
    {
      "cell_type": "markdown",
      "metadata": {
        "id": "IhRueFwvI_cm"
      },
      "source": [
        "#### Probar la hipotesis #1: Existe una relación entre la cantidad de llamadas perdidas y los diferentes planes. Utilizando chi^2"
      ]
    },
    {
      "cell_type": "markdown",
      "metadata": {
        "id": "eK8xN6VvI_cm"
      },
      "source": [
        "- Hipótesis nula (H₀): No existe relación entre la cantidad de llamadas perdidas y los diferentes planes.\n",
        "- Hipótesis alternativa (H₁): Existe una relación entre la cantidad de llamadas perdidas y los diferentes planes.\n",
        "\n",
        "Vamos a evaluar si un plan puede llegar a tener mayor cantidad de llamadas perdidas, para esto utilizaremos chi^2 para ver la diferencia entre varios grupos."
      ]
    },
    {
      "cell_type": "code",
      "execution_count": null,
      "metadata": {
        "id": "UjFiweYgI_cm"
      },
      "outputs": [],
      "source": [
        "#Filtramos para solo tener las columnas que necesitamos para la prueba.\n",
        "chi = telecom_filtered[['tariff_plan','missed_call']]\n"
      ]
    },
    {
      "cell_type": "code",
      "execution_count": null,
      "metadata": {
        "id": "no-BpTqEI_cm",
        "outputId": "bffbebd1-239f-4c3d-df89-3ba004ef4b0f"
      },
      "outputs": [
        {
          "name": "stdout",
          "output_type": "stream",
          "text": [
            "Estadístico Chi-cuadrado: 25.303085563939597\n",
            "p-valor: 3.20261535998902e-06\n",
            "Existe una relación significativa entre la cantidad de llamadas perdidas y los diferentes planes.\n"
          ]
        }
      ],
      "source": [
        "tabla_contingencia = pd.crosstab(chi['tariff_plan'], chi['missed_call'])\n",
        "# Realizar la prueba Chi-cuadrado\n",
        "chi2, p, dof, expected = chi2_contingency(tabla_contingencia)\n",
        "# Evaluación\n",
        "print(\"Estadístico Chi-cuadrado:\", chi2)\n",
        "print(\"p-valor:\", p)\n",
        "\n",
        "# Interpretación\n",
        "if p < 0.05:\n",
        "    print(\"Existe una relación significativa entre la cantidad de llamadas perdidas y los diferentes planes.\")\n",
        "else:\n",
        "    print(\"No existe una relación significativa entre la cantidad de llamadas perdidas y los diferentes planes.\")"
      ]
    },
    {
      "cell_type": "markdown",
      "metadata": {
        "id": "YcTNGo9lI_cn"
      },
      "source": [
        "Como podemos observar tenemos una relación entre los diferentes planes y las llamadas perdidas.\n",
        "Se recomienda: Analizar las diferentes causas que puede estar generando esta alta relación, por una parte tenemos a los operadores y por otro lado tenemos otros factores como las"
      ]
    },
    {
      "cell_type": "markdown",
      "metadata": {
        "id": "iAHGJ6zNI_cn"
      },
      "source": [
        "<div class=\"alert alert-block alert-success\">\n",
        "<b>Comentario del revisor</b> <a class=\"tocSkip\"></a><br>\n",
        "\n",
        "<b>Éxito</b> - El análisis de la hipótesis #1 muestra una ejecución precisa de la prueba Chi-cuadrado, y los resultados indican una relación significativa entre los planes tarifarios y las llamadas perdidas. La recomendación de investigar causas adicionales proporciona un buen enfoque para profundizar en los resultados obtenidos.\n",
        "\n",
        "</div>"
      ]
    },
    {
      "cell_type": "markdown",
      "metadata": {
        "id": "09hcRK6zI_cn"
      },
      "source": [
        "#### Probar la hipotesis #2:  Los operadores eficientes realizan más llamadas salientes. Utilizando prueba t de dos muestras. comparando los promedios.\n",
        "- Hipótesis nula (H₀): No existe una diferencia significativa en el número de llamadas salientes realizadas por operadores eficientes y no eficientes.\n",
        "- Hipótesis alternativa (H₁): Los operadores eficientes realizan significativamente más llamadas salientes que los no eficientes."
      ]
    },
    {
      "cell_type": "code",
      "execution_count": null,
      "metadata": {
        "id": "mEmDpdU4I_cn",
        "outputId": "428f5300-e3bd-42a0-a017-189b640647cd"
      },
      "outputs": [
        {
          "data": {
            "text/html": [
              "<div>\n",
              "<style scoped>\n",
              "    .dataframe tbody tr th:only-of-type {\n",
              "        vertical-align: middle;\n",
              "    }\n",
              "\n",
              "    .dataframe tbody tr th {\n",
              "        vertical-align: top;\n",
              "    }\n",
              "\n",
              "    .dataframe thead th {\n",
              "        text-align: right;\n",
              "    }\n",
              "</style>\n",
              "<table border=\"1\" class=\"dataframe\">\n",
              "  <thead>\n",
              "    <tr style=\"text-align: right;\">\n",
              "      <th></th>\n",
              "      <th>user_id</th>\n",
              "      <th>date</th>\n",
              "      <th>direction</th>\n",
              "      <th>internal</th>\n",
              "      <th>operator_id</th>\n",
              "      <th>missed_call</th>\n",
              "      <th>calls_count</th>\n",
              "      <th>call_duration</th>\n",
              "      <th>total_call_duration</th>\n",
              "      <th>tariff_plan</th>\n",
              "      <th>date_start</th>\n",
              "      <th>hold_call_rating</th>\n",
              "      <th>miss_call_rating</th>\n",
              "      <th>outcall_rating</th>\n",
              "      <th>total_score</th>\n",
              "      <th>total_rating</th>\n",
              "    </tr>\n",
              "  </thead>\n",
              "  <tbody>\n",
              "    <tr>\n",
              "      <th>1</th>\n",
              "      <td>166377</td>\n",
              "      <td>2019-08-05 00:00:00+03:00</td>\n",
              "      <td>out</td>\n",
              "      <td>True</td>\n",
              "      <td>880022.0</td>\n",
              "      <td>True</td>\n",
              "      <td>3</td>\n",
              "      <td>0</td>\n",
              "      <td>5</td>\n",
              "      <td>B</td>\n",
              "      <td>2019-08-01</td>\n",
              "      <td>regular</td>\n",
              "      <td>efficient</td>\n",
              "      <td>efficient</td>\n",
              "      <td>8.0</td>\n",
              "      <td>efficient</td>\n",
              "    </tr>\n",
              "    <tr>\n",
              "      <th>2</th>\n",
              "      <td>166377</td>\n",
              "      <td>2019-08-05 00:00:00+03:00</td>\n",
              "      <td>out</td>\n",
              "      <td>True</td>\n",
              "      <td>880020.0</td>\n",
              "      <td>True</td>\n",
              "      <td>1</td>\n",
              "      <td>0</td>\n",
              "      <td>1</td>\n",
              "      <td>B</td>\n",
              "      <td>2019-08-01</td>\n",
              "      <td>efficient</td>\n",
              "      <td>efficient</td>\n",
              "      <td>inefficient</td>\n",
              "      <td>7.0</td>\n",
              "      <td>regular</td>\n",
              "    </tr>\n",
              "  </tbody>\n",
              "</table>\n",
              "</div>"
            ],
            "text/plain": [
              "   user_id                      date direction internal  operator_id  \\\n",
              "1   166377 2019-08-05 00:00:00+03:00       out     True     880022.0   \n",
              "2   166377 2019-08-05 00:00:00+03:00       out     True     880020.0   \n",
              "\n",
              "   missed_call  calls_count  call_duration  total_call_duration tariff_plan  \\\n",
              "1         True            3              0                    5           B   \n",
              "2         True            1              0                    1           B   \n",
              "\n",
              "  date_start hold_call_rating miss_call_rating outcall_rating  total_score  \\\n",
              "1 2019-08-01          regular        efficient      efficient          8.0   \n",
              "2 2019-08-01        efficient        efficient    inefficient          7.0   \n",
              "\n",
              "  total_rating  \n",
              "1    efficient  \n",
              "2      regular  "
            ]
          },
          "execution_count": 59,
          "metadata": {},
          "output_type": "execute_result"
        }
      ],
      "source": [
        "# Unimos las tablas mediante merge on 'operator_id' left para agregar la calificación al operador.\n",
        "telecom_rating = telecom.merge(operator_rating, on= 'operator_id', how= 'left')\n",
        "#Excluimos el operador -1\n",
        "telecom_rating = telecom_rating[telecom_rating['operator_id']!= -1]\n",
        "telecom_rating.head(2)"
      ]
    },
    {
      "cell_type": "code",
      "execution_count": null,
      "metadata": {
        "id": "RpNMuRqhI_cn",
        "outputId": "48bdb23e-7f74-4177-974f-3ed289206bb3"
      },
      "outputs": [
        {
          "data": {
            "text/plain": [
              "(-24.42266099368988, 2.1903012862193604e-94)"
            ]
          },
          "execution_count": 60,
          "metadata": {},
          "output_type": "execute_result"
        }
      ],
      "source": [
        "\n",
        "# Filtrar operadores eficientes y no eficientes para llamadas salientes (direction = 'outgoing')\n",
        "efficient_calls = telecom_rating[(telecom_rating['total_rating'] == 'efficient') &\n",
        "                                 (telecom_rating['direction'] == 'out')]['calls_count']\n",
        "inefficient_calls = telecom_rating[(telecom_rating['total_rating'] == 'inefficient') &\n",
        "                                   (telecom_rating['direction'] == 'out')]['calls_count']\n",
        "\n",
        "# Realizar la prueba t de dos muestras\n",
        "t_stat, p_value = ttest_ind(efficient_calls, inefficient_calls, equal_var=False)\n",
        "\n",
        "# Mostrar resultados\n",
        "t_stat, p_value"
      ]
    },
    {
      "cell_type": "markdown",
      "metadata": {
        "id": "9xm52r68I_cn"
      },
      "source": [
        "T_stat de -24.42266099368988 indica que la hipotesis nula se rechaza y existe una diferencia entre ambos grupos, lo que se traduce que con operadores eficientes tienen mayor número de llamadas que los no eficientes.\n",
        "p-value: se encuentra cerca de 0, esto comprueba que podemos rechazar la hipotesis nula con mucha confianza."
      ]
    },
    {
      "cell_type": "markdown",
      "metadata": {
        "id": "MsCDicuWI_cn"
      },
      "source": [
        "<div class=\"alert alert-block alert-success\">\n",
        "<b>Comentario del revisor</b> <a class=\"tocSkip\"></a><br>\n",
        "\n",
        "<b>Éxito</b> - El análisis de la hipótesis #2 utilizando la prueba t de dos muestras es un excelente enfoque para validar la relación entre la eficiencia del operador y el número de llamadas salientes. La interpretación de los resultados de t-stat y p-value permite una conclusión confiable sobre el desempeño de los operadores eficientes en comparación con los ineficientes. ¡Buen trabajo!\n",
        "\n",
        "</div>"
      ]
    },
    {
      "cell_type": "markdown",
      "metadata": {
        "id": "C9uWh_v1I_cn"
      },
      "source": [
        "## `Crear pipeline para dashboard`\n",
        "\n",
        "- Traza un histograma que muestre la calificación de los operadores\n",
        "- Traza un gráfico circular que muestre la participación de las llamadas internas y externas\n",
        "- Agrega un filtro por tipo de llamada (interna o externa)\n",
        "- Agrega un filtro por plan"
      ]
    },
    {
      "cell_type": "markdown",
      "metadata": {
        "id": "ZK9iAR27I_cn"
      },
      "source": [
        "### Link de presentación a Dashboard en Tableau\n",
        "Presentation: <https://public.tableau.com/views/Dashboard_telecom_17308317422890/Dashboard1?:language=es-ES&publish=yes&:sid=&:redirect=auth&:display_count=n&:origin=viz_share_link>"
      ]
    },
    {
      "cell_type": "markdown",
      "metadata": {
        "id": "PSyV2KQlI_cn"
      },
      "source": [
        "## Conclusiones"
      ]
    },
    {
      "cell_type": "markdown",
      "metadata": {
        "id": "IgT5sCHHI_cn"
      },
      "source": [
        "Logramos crear indicadores que nos sirvan para evaluar la eficiencia de los operadores de una empresa.\n",
        "1) llamadas perdidas\n",
        "2) tiempo de espera\n",
        "3) llamadas salientes\n",
        "\n",
        "\n",
        "Y como logramos comprobar en nuestras hipotesis, tenemos una relación entre los diferentes planes y las llamadas perdidas, quedaria explorar la distribución de los operadores novatos para equilibrar los planes y mejorar la eficiencia en los tres grupos.\n",
        "En el caso, de la segunda hipotesis, nos sirvio para corroborar que nuestro indicador de llamadas salientes realmente tiene algun impacto. Donde comprobamos que existe relación entre los operadores eficacez y el número de llamadas.\n",
        "Finalmente, la clasificación que se realizo nos sirvio de ayuda para reducir el grupo de operadores a los cuales hay que prestar atención y capacitarlos.\n",
        "\n",
        "Otras recomendaciones serian:\n",
        "- Tenemos un gran número de registros sin número de usuario, sin embargo, no contamos con información suficiente para relacionarlos. Por lo que se recomienda verificar que los datos esten correctamente capturados.\n",
        "- Aumentar la capacitación, si bien nuestro grupo de operadores ineficientes es de 56 operadores, la población de operadores regulares supera por mucho a la de eficientes. por lo que requieren atención.\n",
        "- Establecer los objetivos conforme a la medias obtenidas con estos indicadores para que los operadores intenten llegar a estos números y así puedan mejorar.\n",
        "\n"
      ]
    },
    {
      "cell_type": "markdown",
      "metadata": {
        "id": "8mo4yFOjI_co"
      },
      "source": [
        "# Fuentes"
      ]
    },
    {
      "cell_type": "markdown",
      "metadata": {
        "id": "7dKv4z5xI_co"
      },
      "source": [
        "https://repositorioacademico.upc.edu.pe/bitstream/handle/10757/582088/Orozco_CS.pdf\n",
        "    - Se utilizo la información de esta tesis para obtener el método de evaluación para el tiempo de espera."
      ]
    },
    {
      "cell_type": "markdown",
      "metadata": {
        "id": "O2iN9aGEI_co"
      },
      "source": [
        "https://www.redalyc.org/journal/339/33962773006/html/\n",
        "    - Se utilizo para obtener la tabla de comparación para el OEE y poder tropicalizar un sistema de evaluación.\n",
        "    "
      ]
    },
    {
      "cell_type": "markdown",
      "metadata": {
        "id": "WD_uhYtUI_co"
      },
      "source": [
        "https://www.scielo.cl/scielo.php?script=sci_arttext&pid=S0370-41062007000400010\n",
        "    -Se utilizo para entender el funcionamiento y eleccion de chi^2 para nuestra prueba de hipotesis."
      ]
    },
    {
      "cell_type": "markdown",
      "metadata": {
        "id": "SGvDsAzxI_co"
      },
      "source": [
        "https://www.redalyc.org/pdf/214/21400107.pdf\n",
        "    - Se utilizo para consultar algunos terminos como eficiencia y eficacia."
      ]
    },
    {
      "cell_type": "markdown",
      "metadata": {
        "id": "8HNMwaNII_co"
      },
      "source": [
        "https://www.scielo.org.mx/scielo.php?script=sci_arttext&pid=S0188-21982015000100009\n",
        "    - Se utilizo para entender el uso de la T-Student"
      ]
    },
    {
      "cell_type": "markdown",
      "metadata": {
        "id": "_vTKXw38I_co"
      },
      "source": [
        "# Comentario General del Revisor\n",
        "<div class=\"alert alert-block alert-success\">\n",
        "<b>Comentario del revisor</b> <a class=\"tocSkip\"></a>\n",
        "\n",
        "La implementación del cálculo de la tasa de llamadas perdidas por operador es un paso crucial y efectivo para identificar operadores que necesitan supervisión adicional. Tu enfoque de utilizar un porcentaje de llamadas perdidas en lugar de un conteo absoluto es acertado, ya que permite una comparación justa entre operadores con diferentes niveles de experiencia y cargas de trabajo.\n",
        "\n",
        "#### Puntos Destacados:\n",
        "- **Uso de Pivot Table:** La transformación de los datos mediante una tabla pivot para contabilizar llamadas perdidas y atendidas es clara y facilita el análisis.\n",
        "- **Clasificación en Función de Tasa de Pérdida:** La clasificación de operadores en \"ineficiente,\" \"regular,\" y \"eficiente\" según la tasa de llamadas perdidas es una buena práctica, alineada con estándares de eficiencia en el contexto de CallMeMaybe.\n",
        "- **Gráficos de Distribución:** Los gráficos de caja e histogramas aportan una excelente visualización de la distribución y ayudan a observar los valores atípicos de manera rápida.\n",
        "\n",
        "#### Sugerencias para Mejorar:\n",
        "- **Manejo de Valores Faltantes:** La imputación de valores faltantes en `missed_call` con ceros facilita el análisis, pero sería ideal considerar una revisión adicional sobre cómo esos datos faltantes pueden influir en la clasificación final.\n",
        "- **Justificación de Umbrales:** Aunque se mencionó que los umbrales de 15% y 40% son aproximaciones de OEE, una breve justificación sobre cómo estos valores reflejan la operativa de CallMeMaybe enriquecería el análisis.\n",
        "\n",
        "¡Sigue así! Esta sección proporciona un buen punto de partida para evaluar la eficacia operativa y permite un enfoque orientado a la mejora continua de los operadores.\n",
        "</div>\n"
      ]
    }
  ],
  "metadata": {
    "ExecuteTimeLog": [
      {
        "duration": 296,
        "start_time": "2024-10-30T03:47:54.129Z"
      },
      {
        "duration": 536,
        "start_time": "2024-10-30T04:14:40.298Z"
      },
      {
        "duration": 59,
        "start_time": "2024-10-30T04:14:52.613Z"
      },
      {
        "duration": 58,
        "start_time": "2024-10-30T04:20:18.464Z"
      },
      {
        "duration": 155,
        "start_time": "2024-10-30T18:42:18.302Z"
      },
      {
        "duration": 330,
        "start_time": "2024-10-30T18:42:21.403Z"
      },
      {
        "duration": 366,
        "start_time": "2024-10-30T18:42:22.571Z"
      },
      {
        "duration": 70,
        "start_time": "2024-10-30T18:43:13.503Z"
      },
      {
        "duration": 162,
        "start_time": "2024-10-31T19:45:56.577Z"
      },
      {
        "duration": 309,
        "start_time": "2024-10-31T19:45:59.353Z"
      },
      {
        "duration": 8,
        "start_time": "2024-10-31T19:46:01.698Z"
      },
      {
        "duration": 2146,
        "start_time": "2024-10-31T19:46:24.280Z"
      },
      {
        "duration": 62,
        "start_time": "2024-10-31T19:47:06.213Z"
      },
      {
        "duration": 50,
        "start_time": "2024-10-31T19:47:21.217Z"
      },
      {
        "duration": 8,
        "start_time": "2024-10-31T19:48:37.755Z"
      },
      {
        "duration": 10,
        "start_time": "2024-10-31T19:49:00.726Z"
      },
      {
        "duration": 74,
        "start_time": "2024-10-31T19:49:11.495Z"
      },
      {
        "duration": 10,
        "start_time": "2024-10-31T19:50:41.642Z"
      },
      {
        "duration": 5,
        "start_time": "2024-10-31T19:51:08.966Z"
      },
      {
        "duration": 5,
        "start_time": "2024-10-31T19:51:23.521Z"
      },
      {
        "duration": 13,
        "start_time": "2024-10-31T19:52:02.370Z"
      },
      {
        "duration": 8,
        "start_time": "2024-10-31T19:52:10.205Z"
      },
      {
        "duration": 17,
        "start_time": "2024-10-31T19:52:33.779Z"
      },
      {
        "duration": 3,
        "start_time": "2024-10-31T19:54:54.493Z"
      },
      {
        "duration": 797,
        "start_time": "2024-10-31T19:57:37.151Z"
      },
      {
        "duration": 41,
        "start_time": "2024-10-31T19:57:37.950Z"
      },
      {
        "duration": 8,
        "start_time": "2024-10-31T19:57:37.993Z"
      },
      {
        "duration": 21,
        "start_time": "2024-10-31T19:57:38.003Z"
      },
      {
        "duration": 8,
        "start_time": "2024-10-31T19:57:38.028Z"
      },
      {
        "duration": 5,
        "start_time": "2024-10-31T19:57:38.038Z"
      },
      {
        "duration": 5,
        "start_time": "2024-10-31T19:57:38.045Z"
      },
      {
        "duration": 12,
        "start_time": "2024-10-31T19:57:38.052Z"
      },
      {
        "duration": 9,
        "start_time": "2024-10-31T19:57:38.066Z"
      },
      {
        "duration": 49,
        "start_time": "2024-10-31T19:57:38.076Z"
      },
      {
        "duration": 2,
        "start_time": "2024-10-31T19:57:38.127Z"
      },
      {
        "duration": 4,
        "start_time": "2024-10-31T19:57:38.131Z"
      },
      {
        "duration": 9,
        "start_time": "2024-10-31T19:57:38.140Z"
      },
      {
        "duration": 8,
        "start_time": "2024-10-31T19:57:38.152Z"
      },
      {
        "duration": 5,
        "start_time": "2024-10-31T19:57:38.162Z"
      },
      {
        "duration": 157,
        "start_time": "2024-10-31T22:27:48.780Z"
      },
      {
        "duration": 2540,
        "start_time": "2024-10-31T22:28:02.973Z"
      },
      {
        "duration": 69,
        "start_time": "2024-10-31T22:28:05.515Z"
      },
      {
        "duration": 10,
        "start_time": "2024-10-31T22:28:05.586Z"
      },
      {
        "duration": 8,
        "start_time": "2024-10-31T22:28:05.598Z"
      },
      {
        "duration": 9,
        "start_time": "2024-10-31T22:28:05.608Z"
      },
      {
        "duration": 15,
        "start_time": "2024-10-31T22:28:05.618Z"
      },
      {
        "duration": 5,
        "start_time": "2024-10-31T22:28:05.634Z"
      },
      {
        "duration": 12,
        "start_time": "2024-10-31T22:28:05.643Z"
      },
      {
        "duration": 8,
        "start_time": "2024-10-31T22:28:05.657Z"
      },
      {
        "duration": 16,
        "start_time": "2024-10-31T22:28:05.667Z"
      },
      {
        "duration": 3,
        "start_time": "2024-10-31T22:28:05.685Z"
      },
      {
        "duration": 3,
        "start_time": "2024-10-31T22:28:05.689Z"
      },
      {
        "duration": 8,
        "start_time": "2024-10-31T22:28:05.693Z"
      },
      {
        "duration": 44,
        "start_time": "2024-10-31T22:28:05.704Z"
      },
      {
        "duration": 5,
        "start_time": "2024-10-31T22:28:05.750Z"
      },
      {
        "duration": 228,
        "start_time": "2024-10-31T22:28:05.756Z"
      },
      {
        "duration": 0,
        "start_time": "2024-10-31T22:28:05.985Z"
      },
      {
        "duration": 0,
        "start_time": "2024-10-31T22:28:05.986Z"
      },
      {
        "duration": 161,
        "start_time": "2024-11-01T03:08:55.594Z"
      },
      {
        "duration": 2453,
        "start_time": "2024-11-01T03:09:00.968Z"
      },
      {
        "duration": 68,
        "start_time": "2024-11-01T03:09:03.423Z"
      },
      {
        "duration": 9,
        "start_time": "2024-11-01T03:09:03.493Z"
      },
      {
        "duration": 8,
        "start_time": "2024-11-01T03:09:03.505Z"
      },
      {
        "duration": 9,
        "start_time": "2024-11-01T03:09:03.515Z"
      },
      {
        "duration": 5,
        "start_time": "2024-11-01T03:09:03.526Z"
      },
      {
        "duration": 4,
        "start_time": "2024-11-01T03:09:03.533Z"
      },
      {
        "duration": 13,
        "start_time": "2024-11-01T03:09:03.539Z"
      },
      {
        "duration": 8,
        "start_time": "2024-11-01T03:09:03.553Z"
      },
      {
        "duration": 52,
        "start_time": "2024-11-01T03:09:03.565Z"
      },
      {
        "duration": 2,
        "start_time": "2024-11-01T03:09:03.619Z"
      },
      {
        "duration": 3,
        "start_time": "2024-11-01T03:09:03.623Z"
      },
      {
        "duration": 8,
        "start_time": "2024-11-01T03:09:03.628Z"
      },
      {
        "duration": 9,
        "start_time": "2024-11-01T03:09:03.637Z"
      },
      {
        "duration": 5,
        "start_time": "2024-11-01T03:09:03.647Z"
      },
      {
        "duration": 9,
        "start_time": "2024-11-01T03:09:03.653Z"
      },
      {
        "duration": 248,
        "start_time": "2024-11-01T03:09:03.664Z"
      },
      {
        "duration": 0,
        "start_time": "2024-11-01T03:09:03.914Z"
      },
      {
        "duration": 0,
        "start_time": "2024-11-01T03:09:03.916Z"
      },
      {
        "duration": 9,
        "start_time": "2024-11-01T03:10:35.723Z"
      },
      {
        "duration": 6,
        "start_time": "2024-11-01T03:26:56.855Z"
      },
      {
        "duration": 20,
        "start_time": "2024-11-01T05:12:53.954Z"
      },
      {
        "duration": 14,
        "start_time": "2024-11-01T05:13:23.588Z"
      },
      {
        "duration": 17,
        "start_time": "2024-11-01T05:13:52.310Z"
      },
      {
        "duration": 12,
        "start_time": "2024-11-01T05:14:06.455Z"
      },
      {
        "duration": 7,
        "start_time": "2024-11-01T05:14:32.568Z"
      },
      {
        "duration": 9,
        "start_time": "2024-11-01T05:14:41.945Z"
      },
      {
        "duration": 78,
        "start_time": "2024-11-01T05:15:42.245Z"
      },
      {
        "duration": 9,
        "start_time": "2024-11-01T05:15:53.405Z"
      },
      {
        "duration": 9,
        "start_time": "2024-11-01T05:16:05.537Z"
      },
      {
        "duration": 73,
        "start_time": "2024-11-01T05:16:14.951Z"
      },
      {
        "duration": 253,
        "start_time": "2024-11-01T05:16:26.768Z"
      },
      {
        "duration": 73,
        "start_time": "2024-11-01T05:16:41.265Z"
      },
      {
        "duration": 203,
        "start_time": "2024-11-01T05:16:49.985Z"
      },
      {
        "duration": 11,
        "start_time": "2024-11-01T05:17:35.350Z"
      },
      {
        "duration": 9,
        "start_time": "2024-11-01T05:17:37.300Z"
      },
      {
        "duration": 8,
        "start_time": "2024-11-01T05:17:47.143Z"
      },
      {
        "duration": 12,
        "start_time": "2024-11-01T05:18:08.254Z"
      },
      {
        "duration": 128,
        "start_time": "2024-11-01T05:18:22.375Z"
      },
      {
        "duration": 14,
        "start_time": "2024-11-01T05:37:22.447Z"
      },
      {
        "duration": 2520,
        "start_time": "2024-11-01T13:26:01.580Z"
      },
      {
        "duration": 68,
        "start_time": "2024-11-01T13:26:04.102Z"
      },
      {
        "duration": 10,
        "start_time": "2024-11-01T13:26:04.171Z"
      },
      {
        "duration": 7,
        "start_time": "2024-11-01T13:26:04.183Z"
      },
      {
        "duration": 10,
        "start_time": "2024-11-01T13:26:04.192Z"
      },
      {
        "duration": 5,
        "start_time": "2024-11-01T13:26:04.203Z"
      },
      {
        "duration": 5,
        "start_time": "2024-11-01T13:26:04.209Z"
      },
      {
        "duration": 13,
        "start_time": "2024-11-01T13:26:04.243Z"
      },
      {
        "duration": 9,
        "start_time": "2024-11-01T13:26:04.257Z"
      },
      {
        "duration": 16,
        "start_time": "2024-11-01T13:26:04.270Z"
      },
      {
        "duration": 3,
        "start_time": "2024-11-01T13:26:04.287Z"
      },
      {
        "duration": 3,
        "start_time": "2024-11-01T13:26:04.291Z"
      },
      {
        "duration": 7,
        "start_time": "2024-11-01T13:26:04.296Z"
      },
      {
        "duration": 43,
        "start_time": "2024-11-01T13:26:04.305Z"
      },
      {
        "duration": 5,
        "start_time": "2024-11-01T13:26:04.349Z"
      },
      {
        "duration": 9,
        "start_time": "2024-11-01T13:26:04.357Z"
      },
      {
        "duration": 9,
        "start_time": "2024-11-01T13:26:04.368Z"
      },
      {
        "duration": 4,
        "start_time": "2024-11-01T13:26:04.379Z"
      },
      {
        "duration": 17,
        "start_time": "2024-11-01T13:26:04.385Z"
      },
      {
        "duration": 46,
        "start_time": "2024-11-01T13:26:04.403Z"
      },
      {
        "duration": 16,
        "start_time": "2024-11-01T13:26:04.451Z"
      },
      {
        "duration": 11,
        "start_time": "2024-11-01T13:26:04.469Z"
      },
      {
        "duration": 7,
        "start_time": "2024-11-01T13:26:04.482Z"
      },
      {
        "duration": 9,
        "start_time": "2024-11-01T13:26:04.490Z"
      },
      {
        "duration": 109,
        "start_time": "2024-11-01T13:26:04.501Z"
      },
      {
        "duration": 7,
        "start_time": "2024-11-01T13:26:04.612Z"
      },
      {
        "duration": 23,
        "start_time": "2024-11-01T13:26:04.620Z"
      },
      {
        "duration": 72,
        "start_time": "2024-11-01T13:26:04.647Z"
      },
      {
        "duration": 218,
        "start_time": "2024-11-01T13:26:04.720Z"
      },
      {
        "duration": 10,
        "start_time": "2024-11-01T13:26:04.940Z"
      },
      {
        "duration": 7,
        "start_time": "2024-11-01T13:26:04.952Z"
      },
      {
        "duration": 6,
        "start_time": "2024-11-01T13:26:04.961Z"
      },
      {
        "duration": 9,
        "start_time": "2024-11-01T13:26:04.969Z"
      },
      {
        "duration": 159,
        "start_time": "2024-11-01T13:26:04.979Z"
      },
      {
        "duration": 14,
        "start_time": "2024-11-01T13:26:05.143Z"
      },
      {
        "duration": 2,
        "start_time": "2024-11-01T13:26:05.159Z"
      },
      {
        "duration": 85,
        "start_time": "2024-11-01T13:26:05.163Z"
      },
      {
        "duration": 684,
        "start_time": "2024-11-01T18:54:35.372Z"
      },
      {
        "duration": 913,
        "start_time": "2024-11-01T18:54:43.684Z"
      },
      {
        "duration": 44,
        "start_time": "2024-11-01T18:54:44.599Z"
      },
      {
        "duration": 10,
        "start_time": "2024-11-01T18:54:44.645Z"
      },
      {
        "duration": 8,
        "start_time": "2024-11-01T18:54:44.657Z"
      },
      {
        "duration": 10,
        "start_time": "2024-11-01T18:54:44.667Z"
      },
      {
        "duration": 6,
        "start_time": "2024-11-01T18:54:44.679Z"
      },
      {
        "duration": 4,
        "start_time": "2024-11-01T18:54:44.687Z"
      },
      {
        "duration": 12,
        "start_time": "2024-11-01T18:54:44.693Z"
      },
      {
        "duration": 9,
        "start_time": "2024-11-01T18:54:44.744Z"
      },
      {
        "duration": 18,
        "start_time": "2024-11-01T18:54:44.755Z"
      },
      {
        "duration": 3,
        "start_time": "2024-11-01T18:54:44.775Z"
      },
      {
        "duration": 3,
        "start_time": "2024-11-01T18:54:44.780Z"
      },
      {
        "duration": 7,
        "start_time": "2024-11-01T18:54:44.786Z"
      },
      {
        "duration": 9,
        "start_time": "2024-11-01T18:54:44.796Z"
      },
      {
        "duration": 38,
        "start_time": "2024-11-01T18:54:44.806Z"
      },
      {
        "duration": 11,
        "start_time": "2024-11-01T18:54:44.847Z"
      },
      {
        "duration": 9,
        "start_time": "2024-11-01T18:54:44.860Z"
      },
      {
        "duration": 6,
        "start_time": "2024-11-01T18:54:44.871Z"
      },
      {
        "duration": 19,
        "start_time": "2024-11-01T18:54:44.879Z"
      },
      {
        "duration": 50,
        "start_time": "2024-11-01T18:54:44.900Z"
      },
      {
        "duration": 18,
        "start_time": "2024-11-01T18:54:44.951Z"
      },
      {
        "duration": 13,
        "start_time": "2024-11-01T18:54:44.971Z"
      },
      {
        "duration": 8,
        "start_time": "2024-11-01T18:54:44.985Z"
      },
      {
        "duration": 9,
        "start_time": "2024-11-01T18:54:44.995Z"
      },
      {
        "duration": 118,
        "start_time": "2024-11-01T18:54:45.006Z"
      },
      {
        "duration": 18,
        "start_time": "2024-11-01T18:54:45.126Z"
      },
      {
        "duration": 11,
        "start_time": "2024-11-01T18:54:45.145Z"
      },
      {
        "duration": 99,
        "start_time": "2024-11-01T18:54:45.158Z"
      },
      {
        "duration": 291,
        "start_time": "2024-11-01T18:54:45.259Z"
      },
      {
        "duration": 12,
        "start_time": "2024-11-01T18:54:45.553Z"
      },
      {
        "duration": 9,
        "start_time": "2024-11-01T18:54:45.567Z"
      },
      {
        "duration": 7,
        "start_time": "2024-11-01T18:54:45.578Z"
      },
      {
        "duration": 11,
        "start_time": "2024-11-01T18:54:45.587Z"
      },
      {
        "duration": 178,
        "start_time": "2024-11-01T18:54:45.600Z"
      },
      {
        "duration": 14,
        "start_time": "2024-11-01T18:54:45.780Z"
      },
      {
        "duration": 672,
        "start_time": "2024-11-01T18:54:45.796Z"
      },
      {
        "duration": 0,
        "start_time": "2024-11-01T18:54:46.470Z"
      },
      {
        "duration": 2594,
        "start_time": "2024-11-02T00:27:34.924Z"
      },
      {
        "duration": 65,
        "start_time": "2024-11-02T00:27:37.520Z"
      },
      {
        "duration": 9,
        "start_time": "2024-11-02T00:27:37.587Z"
      },
      {
        "duration": 8,
        "start_time": "2024-11-02T00:27:37.598Z"
      },
      {
        "duration": 9,
        "start_time": "2024-11-02T00:27:37.607Z"
      },
      {
        "duration": 6,
        "start_time": "2024-11-02T00:27:37.618Z"
      },
      {
        "duration": 6,
        "start_time": "2024-11-02T00:27:37.625Z"
      },
      {
        "duration": 12,
        "start_time": "2024-11-02T00:27:37.632Z"
      },
      {
        "duration": 8,
        "start_time": "2024-11-02T00:27:37.646Z"
      },
      {
        "duration": 52,
        "start_time": "2024-11-02T00:27:37.657Z"
      },
      {
        "duration": 3,
        "start_time": "2024-11-02T00:27:37.711Z"
      },
      {
        "duration": 3,
        "start_time": "2024-11-02T00:27:37.716Z"
      },
      {
        "duration": 8,
        "start_time": "2024-11-02T00:27:37.721Z"
      },
      {
        "duration": 8,
        "start_time": "2024-11-02T00:27:37.730Z"
      },
      {
        "duration": 5,
        "start_time": "2024-11-02T00:27:37.739Z"
      },
      {
        "duration": 9,
        "start_time": "2024-11-02T00:27:37.745Z"
      },
      {
        "duration": 8,
        "start_time": "2024-11-02T00:27:37.756Z"
      },
      {
        "duration": 43,
        "start_time": "2024-11-02T00:27:37.765Z"
      },
      {
        "duration": 19,
        "start_time": "2024-11-02T00:27:37.810Z"
      },
      {
        "duration": 13,
        "start_time": "2024-11-02T00:27:37.830Z"
      },
      {
        "duration": 15,
        "start_time": "2024-11-02T00:27:37.844Z"
      },
      {
        "duration": 10,
        "start_time": "2024-11-02T00:27:37.861Z"
      },
      {
        "duration": 37,
        "start_time": "2024-11-02T00:27:37.873Z"
      },
      {
        "duration": 9,
        "start_time": "2024-11-02T00:27:37.912Z"
      },
      {
        "duration": 93,
        "start_time": "2024-11-02T00:27:37.923Z"
      },
      {
        "duration": 7,
        "start_time": "2024-11-02T00:27:38.018Z"
      },
      {
        "duration": 9,
        "start_time": "2024-11-02T00:27:38.028Z"
      },
      {
        "duration": 91,
        "start_time": "2024-11-02T00:27:38.040Z"
      },
      {
        "duration": 208,
        "start_time": "2024-11-02T00:27:38.132Z"
      },
      {
        "duration": 10,
        "start_time": "2024-11-02T00:27:38.342Z"
      },
      {
        "duration": 8,
        "start_time": "2024-11-02T00:27:38.353Z"
      },
      {
        "duration": 7,
        "start_time": "2024-11-02T00:27:38.362Z"
      },
      {
        "duration": 36,
        "start_time": "2024-11-02T00:27:38.370Z"
      },
      {
        "duration": 133,
        "start_time": "2024-11-02T00:27:38.407Z"
      },
      {
        "duration": 15,
        "start_time": "2024-11-02T00:27:38.542Z"
      },
      {
        "duration": 661,
        "start_time": "2024-11-02T00:27:38.559Z"
      },
      {
        "duration": 0,
        "start_time": "2024-11-02T00:27:39.223Z"
      },
      {
        "duration": 39,
        "start_time": "2024-11-02T00:27:59.776Z"
      },
      {
        "duration": 4,
        "start_time": "2024-11-02T00:28:13.848Z"
      },
      {
        "duration": 4,
        "start_time": "2024-11-02T00:35:47.157Z"
      },
      {
        "duration": 3,
        "start_time": "2024-11-02T00:36:23.432Z"
      },
      {
        "duration": 4,
        "start_time": "2024-11-02T00:37:24.097Z"
      },
      {
        "duration": 9,
        "start_time": "2024-11-02T00:37:27.867Z"
      },
      {
        "duration": 772,
        "start_time": "2024-11-02T02:01:56.601Z"
      },
      {
        "duration": 39,
        "start_time": "2024-11-02T02:01:57.375Z"
      },
      {
        "duration": 9,
        "start_time": "2024-11-02T02:01:57.415Z"
      },
      {
        "duration": 8,
        "start_time": "2024-11-02T02:01:57.426Z"
      },
      {
        "duration": 8,
        "start_time": "2024-11-02T02:01:57.436Z"
      },
      {
        "duration": 5,
        "start_time": "2024-11-02T02:01:57.446Z"
      },
      {
        "duration": 6,
        "start_time": "2024-11-02T02:01:57.452Z"
      },
      {
        "duration": 49,
        "start_time": "2024-11-02T02:01:57.459Z"
      },
      {
        "duration": 9,
        "start_time": "2024-11-02T02:01:57.509Z"
      },
      {
        "duration": 15,
        "start_time": "2024-11-02T02:01:57.522Z"
      },
      {
        "duration": 3,
        "start_time": "2024-11-02T02:01:57.538Z"
      },
      {
        "duration": 3,
        "start_time": "2024-11-02T02:01:57.542Z"
      },
      {
        "duration": 8,
        "start_time": "2024-11-02T02:01:57.546Z"
      },
      {
        "duration": 8,
        "start_time": "2024-11-02T02:01:57.555Z"
      },
      {
        "duration": 4,
        "start_time": "2024-11-02T02:01:57.565Z"
      },
      {
        "duration": 9,
        "start_time": "2024-11-02T02:01:57.606Z"
      },
      {
        "duration": 8,
        "start_time": "2024-11-02T02:01:57.618Z"
      },
      {
        "duration": 5,
        "start_time": "2024-11-02T02:01:57.628Z"
      },
      {
        "duration": 19,
        "start_time": "2024-11-02T02:01:57.634Z"
      },
      {
        "duration": 13,
        "start_time": "2024-11-02T02:01:57.655Z"
      },
      {
        "duration": 46,
        "start_time": "2024-11-02T02:01:57.669Z"
      },
      {
        "duration": 11,
        "start_time": "2024-11-02T02:01:57.716Z"
      },
      {
        "duration": 8,
        "start_time": "2024-11-02T02:01:57.729Z"
      },
      {
        "duration": 8,
        "start_time": "2024-11-02T02:01:57.739Z"
      },
      {
        "duration": 100,
        "start_time": "2024-11-02T02:01:57.749Z"
      },
      {
        "duration": 8,
        "start_time": "2024-11-02T02:01:57.851Z"
      },
      {
        "duration": 9,
        "start_time": "2024-11-02T02:01:57.860Z"
      },
      {
        "duration": 89,
        "start_time": "2024-11-02T02:01:57.874Z"
      },
      {
        "duration": 247,
        "start_time": "2024-11-02T02:01:57.965Z"
      },
      {
        "duration": 12,
        "start_time": "2024-11-02T02:01:58.213Z"
      },
      {
        "duration": 8,
        "start_time": "2024-11-02T02:01:58.227Z"
      },
      {
        "duration": 6,
        "start_time": "2024-11-02T02:01:58.236Z"
      },
      {
        "duration": 10,
        "start_time": "2024-11-02T02:01:58.245Z"
      },
      {
        "duration": 159,
        "start_time": "2024-11-02T02:01:58.257Z"
      },
      {
        "duration": 13,
        "start_time": "2024-11-02T02:01:58.418Z"
      },
      {
        "duration": 4,
        "start_time": "2024-11-02T02:01:58.432Z"
      },
      {
        "duration": 9,
        "start_time": "2024-11-02T02:01:58.438Z"
      },
      {
        "duration": 13,
        "start_time": "2024-11-02T02:01:58.448Z"
      },
      {
        "duration": 14,
        "start_time": "2024-11-02T02:03:08.535Z"
      },
      {
        "duration": 16,
        "start_time": "2024-11-02T02:03:28.942Z"
      },
      {
        "duration": 2481,
        "start_time": "2024-11-03T20:31:17.868Z"
      },
      {
        "duration": 63,
        "start_time": "2024-11-03T20:31:20.351Z"
      },
      {
        "duration": 10,
        "start_time": "2024-11-03T20:31:20.416Z"
      },
      {
        "duration": 8,
        "start_time": "2024-11-03T20:31:20.428Z"
      },
      {
        "duration": 9,
        "start_time": "2024-11-03T20:31:20.438Z"
      },
      {
        "duration": 5,
        "start_time": "2024-11-03T20:31:20.449Z"
      },
      {
        "duration": 6,
        "start_time": "2024-11-03T20:31:20.456Z"
      },
      {
        "duration": 12,
        "start_time": "2024-11-03T20:31:20.464Z"
      },
      {
        "duration": 8,
        "start_time": "2024-11-03T20:31:20.505Z"
      },
      {
        "duration": 16,
        "start_time": "2024-11-03T20:31:20.517Z"
      },
      {
        "duration": 2,
        "start_time": "2024-11-03T20:31:20.535Z"
      },
      {
        "duration": 3,
        "start_time": "2024-11-03T20:31:20.539Z"
      },
      {
        "duration": 7,
        "start_time": "2024-11-03T20:31:20.544Z"
      },
      {
        "duration": 7,
        "start_time": "2024-11-03T20:31:20.553Z"
      },
      {
        "duration": 4,
        "start_time": "2024-11-03T20:31:20.562Z"
      },
      {
        "duration": 45,
        "start_time": "2024-11-03T20:31:20.568Z"
      },
      {
        "duration": 9,
        "start_time": "2024-11-03T20:31:20.615Z"
      },
      {
        "duration": 6,
        "start_time": "2024-11-03T20:31:20.625Z"
      },
      {
        "duration": 18,
        "start_time": "2024-11-03T20:31:20.632Z"
      },
      {
        "duration": 13,
        "start_time": "2024-11-03T20:31:20.651Z"
      },
      {
        "duration": 50,
        "start_time": "2024-11-03T20:31:20.665Z"
      },
      {
        "duration": 11,
        "start_time": "2024-11-03T20:31:20.717Z"
      },
      {
        "duration": 7,
        "start_time": "2024-11-03T20:31:20.730Z"
      },
      {
        "duration": 8,
        "start_time": "2024-11-03T20:31:20.738Z"
      },
      {
        "duration": 106,
        "start_time": "2024-11-03T20:31:20.749Z"
      },
      {
        "duration": 7,
        "start_time": "2024-11-03T20:31:20.857Z"
      },
      {
        "duration": 9,
        "start_time": "2024-11-03T20:31:20.865Z"
      },
      {
        "duration": 90,
        "start_time": "2024-11-03T20:31:20.877Z"
      },
      {
        "duration": 210,
        "start_time": "2024-11-03T20:31:20.969Z"
      },
      {
        "duration": 12,
        "start_time": "2024-11-03T20:31:21.181Z"
      },
      {
        "duration": 8,
        "start_time": "2024-11-03T20:31:21.205Z"
      },
      {
        "duration": 6,
        "start_time": "2024-11-03T20:31:21.215Z"
      },
      {
        "duration": 10,
        "start_time": "2024-11-03T20:31:21.222Z"
      },
      {
        "duration": 151,
        "start_time": "2024-11-03T20:31:21.234Z"
      },
      {
        "duration": 18,
        "start_time": "2024-11-03T20:31:21.387Z"
      },
      {
        "duration": 4,
        "start_time": "2024-11-03T20:31:21.406Z"
      },
      {
        "duration": 10,
        "start_time": "2024-11-03T20:31:21.411Z"
      },
      {
        "duration": 60,
        "start_time": "2024-11-03T20:31:21.422Z"
      },
      {
        "duration": 4,
        "start_time": "2024-11-03T20:31:36.287Z"
      },
      {
        "duration": 2620,
        "start_time": "2024-11-04T04:45:17.726Z"
      },
      {
        "duration": 68,
        "start_time": "2024-11-04T04:45:20.348Z"
      },
      {
        "duration": 10,
        "start_time": "2024-11-04T04:45:20.418Z"
      },
      {
        "duration": 9,
        "start_time": "2024-11-04T04:45:20.430Z"
      },
      {
        "duration": 10,
        "start_time": "2024-11-04T04:45:20.441Z"
      },
      {
        "duration": 5,
        "start_time": "2024-11-04T04:45:20.452Z"
      },
      {
        "duration": 4,
        "start_time": "2024-11-04T04:45:20.459Z"
      },
      {
        "duration": 13,
        "start_time": "2024-11-04T04:45:20.465Z"
      },
      {
        "duration": 8,
        "start_time": "2024-11-04T04:45:20.480Z"
      },
      {
        "duration": 51,
        "start_time": "2024-11-04T04:45:20.490Z"
      },
      {
        "duration": 2,
        "start_time": "2024-11-04T04:45:20.544Z"
      },
      {
        "duration": 3,
        "start_time": "2024-11-04T04:45:20.548Z"
      },
      {
        "duration": 8,
        "start_time": "2024-11-04T04:45:20.553Z"
      },
      {
        "duration": 8,
        "start_time": "2024-11-04T04:45:20.565Z"
      },
      {
        "duration": 5,
        "start_time": "2024-11-04T04:45:20.575Z"
      },
      {
        "duration": 10,
        "start_time": "2024-11-04T04:45:20.582Z"
      },
      {
        "duration": 46,
        "start_time": "2024-11-04T04:45:20.594Z"
      },
      {
        "duration": 6,
        "start_time": "2024-11-04T04:45:20.642Z"
      },
      {
        "duration": 232,
        "start_time": "2024-11-04T04:45:20.649Z"
      },
      {
        "duration": 0,
        "start_time": "2024-11-04T04:45:20.883Z"
      },
      {
        "duration": 0,
        "start_time": "2024-11-04T04:45:20.884Z"
      },
      {
        "duration": 0,
        "start_time": "2024-11-04T04:45:20.886Z"
      },
      {
        "duration": 0,
        "start_time": "2024-11-04T04:45:20.887Z"
      },
      {
        "duration": 0,
        "start_time": "2024-11-04T04:45:20.888Z"
      },
      {
        "duration": 0,
        "start_time": "2024-11-04T04:45:20.889Z"
      },
      {
        "duration": 0,
        "start_time": "2024-11-04T04:45:20.890Z"
      },
      {
        "duration": 0,
        "start_time": "2024-11-04T04:45:20.891Z"
      },
      {
        "duration": 0,
        "start_time": "2024-11-04T04:45:20.892Z"
      },
      {
        "duration": 0,
        "start_time": "2024-11-04T04:45:20.893Z"
      },
      {
        "duration": 0,
        "start_time": "2024-11-04T04:45:20.895Z"
      },
      {
        "duration": 0,
        "start_time": "2024-11-04T04:45:20.896Z"
      },
      {
        "duration": 0,
        "start_time": "2024-11-04T04:45:20.897Z"
      },
      {
        "duration": 0,
        "start_time": "2024-11-04T04:45:20.898Z"
      },
      {
        "duration": 0,
        "start_time": "2024-11-04T04:45:20.899Z"
      },
      {
        "duration": 0,
        "start_time": "2024-11-04T04:45:20.900Z"
      },
      {
        "duration": 0,
        "start_time": "2024-11-04T04:45:20.931Z"
      },
      {
        "duration": 0,
        "start_time": "2024-11-04T04:45:20.932Z"
      },
      {
        "duration": 0,
        "start_time": "2024-11-04T04:45:20.933Z"
      },
      {
        "duration": 0,
        "start_time": "2024-11-04T04:45:20.934Z"
      },
      {
        "duration": 853,
        "start_time": "2024-11-04T04:46:29.185Z"
      },
      {
        "duration": 40,
        "start_time": "2024-11-04T04:46:30.040Z"
      },
      {
        "duration": 9,
        "start_time": "2024-11-04T04:46:30.082Z"
      },
      {
        "duration": 9,
        "start_time": "2024-11-04T04:46:30.093Z"
      },
      {
        "duration": 33,
        "start_time": "2024-11-04T04:46:30.104Z"
      },
      {
        "duration": 5,
        "start_time": "2024-11-04T04:46:30.139Z"
      },
      {
        "duration": 4,
        "start_time": "2024-11-04T04:46:30.146Z"
      },
      {
        "duration": 12,
        "start_time": "2024-11-04T04:46:30.152Z"
      },
      {
        "duration": 10,
        "start_time": "2024-11-04T04:46:30.166Z"
      },
      {
        "duration": 17,
        "start_time": "2024-11-04T04:46:30.178Z"
      },
      {
        "duration": 35,
        "start_time": "2024-11-04T04:46:30.197Z"
      },
      {
        "duration": 4,
        "start_time": "2024-11-04T04:46:30.233Z"
      },
      {
        "duration": 8,
        "start_time": "2024-11-04T04:46:30.239Z"
      },
      {
        "duration": 8,
        "start_time": "2024-11-04T04:46:30.250Z"
      },
      {
        "duration": 5,
        "start_time": "2024-11-04T04:46:30.260Z"
      },
      {
        "duration": 9,
        "start_time": "2024-11-04T04:46:30.267Z"
      },
      {
        "duration": 9,
        "start_time": "2024-11-04T04:46:30.278Z"
      },
      {
        "duration": 44,
        "start_time": "2024-11-04T04:46:30.288Z"
      },
      {
        "duration": 18,
        "start_time": "2024-11-04T04:46:30.334Z"
      },
      {
        "duration": 13,
        "start_time": "2024-11-04T04:46:30.354Z"
      },
      {
        "duration": 702,
        "start_time": "2024-11-04T04:46:30.369Z"
      },
      {
        "duration": 0,
        "start_time": "2024-11-04T04:46:31.073Z"
      },
      {
        "duration": 0,
        "start_time": "2024-11-04T04:46:31.074Z"
      },
      {
        "duration": 0,
        "start_time": "2024-11-04T04:46:31.075Z"
      },
      {
        "duration": 0,
        "start_time": "2024-11-04T04:46:31.076Z"
      },
      {
        "duration": 0,
        "start_time": "2024-11-04T04:46:31.078Z"
      },
      {
        "duration": 0,
        "start_time": "2024-11-04T04:46:31.080Z"
      },
      {
        "duration": 0,
        "start_time": "2024-11-04T04:46:31.081Z"
      },
      {
        "duration": 1,
        "start_time": "2024-11-04T04:46:31.082Z"
      },
      {
        "duration": 0,
        "start_time": "2024-11-04T04:46:31.084Z"
      },
      {
        "duration": 0,
        "start_time": "2024-11-04T04:46:31.085Z"
      },
      {
        "duration": 0,
        "start_time": "2024-11-04T04:46:31.087Z"
      },
      {
        "duration": 0,
        "start_time": "2024-11-04T04:46:31.088Z"
      },
      {
        "duration": 0,
        "start_time": "2024-11-04T04:46:31.090Z"
      },
      {
        "duration": 0,
        "start_time": "2024-11-04T04:46:31.091Z"
      },
      {
        "duration": 0,
        "start_time": "2024-11-04T04:46:31.093Z"
      },
      {
        "duration": 0,
        "start_time": "2024-11-04T04:46:31.094Z"
      },
      {
        "duration": 0,
        "start_time": "2024-11-04T04:46:31.096Z"
      },
      {
        "duration": 0,
        "start_time": "2024-11-04T04:46:31.131Z"
      },
      {
        "duration": 13,
        "start_time": "2024-11-04T04:48:18.145Z"
      },
      {
        "duration": 9,
        "start_time": "2024-11-04T04:48:31.337Z"
      },
      {
        "duration": 818,
        "start_time": "2024-11-04T04:48:38.213Z"
      },
      {
        "duration": 40,
        "start_time": "2024-11-04T04:48:39.033Z"
      },
      {
        "duration": 9,
        "start_time": "2024-11-04T04:48:39.074Z"
      },
      {
        "duration": 8,
        "start_time": "2024-11-04T04:48:39.085Z"
      },
      {
        "duration": 9,
        "start_time": "2024-11-04T04:48:39.096Z"
      },
      {
        "duration": 7,
        "start_time": "2024-11-04T04:48:39.131Z"
      },
      {
        "duration": 5,
        "start_time": "2024-11-04T04:48:39.140Z"
      },
      {
        "duration": 13,
        "start_time": "2024-11-04T04:48:39.146Z"
      },
      {
        "duration": 8,
        "start_time": "2024-11-04T04:48:39.160Z"
      },
      {
        "duration": 17,
        "start_time": "2024-11-04T04:48:39.170Z"
      },
      {
        "duration": 3,
        "start_time": "2024-11-04T04:48:39.188Z"
      },
      {
        "duration": 2,
        "start_time": "2024-11-04T04:48:39.193Z"
      },
      {
        "duration": 8,
        "start_time": "2024-11-04T04:48:39.232Z"
      },
      {
        "duration": 8,
        "start_time": "2024-11-04T04:48:39.244Z"
      },
      {
        "duration": 5,
        "start_time": "2024-11-04T04:48:39.253Z"
      },
      {
        "duration": 10,
        "start_time": "2024-11-04T04:48:39.260Z"
      },
      {
        "duration": 9,
        "start_time": "2024-11-04T04:48:39.271Z"
      },
      {
        "duration": 6,
        "start_time": "2024-11-04T04:48:39.282Z"
      },
      {
        "duration": 59,
        "start_time": "2024-11-04T04:48:39.289Z"
      },
      {
        "duration": 13,
        "start_time": "2024-11-04T04:48:39.350Z"
      },
      {
        "duration": 8,
        "start_time": "2024-11-04T04:48:39.365Z"
      },
      {
        "duration": 16,
        "start_time": "2024-11-04T04:48:39.375Z"
      },
      {
        "duration": 42,
        "start_time": "2024-11-04T04:48:39.392Z"
      },
      {
        "duration": 7,
        "start_time": "2024-11-04T04:48:39.436Z"
      },
      {
        "duration": 11,
        "start_time": "2024-11-04T04:48:39.445Z"
      },
      {
        "duration": 104,
        "start_time": "2024-11-04T04:48:39.458Z"
      },
      {
        "duration": 8,
        "start_time": "2024-11-04T04:48:39.564Z"
      },
      {
        "duration": 9,
        "start_time": "2024-11-04T04:48:39.574Z"
      },
      {
        "duration": 95,
        "start_time": "2024-11-04T04:48:39.585Z"
      },
      {
        "duration": 273,
        "start_time": "2024-11-04T04:48:39.682Z"
      },
      {
        "duration": 10,
        "start_time": "2024-11-04T04:48:39.957Z"
      },
      {
        "duration": 8,
        "start_time": "2024-11-04T04:48:39.969Z"
      },
      {
        "duration": 7,
        "start_time": "2024-11-04T04:48:39.979Z"
      },
      {
        "duration": 10,
        "start_time": "2024-11-04T04:48:39.988Z"
      },
      {
        "duration": 163,
        "start_time": "2024-11-04T04:48:40.000Z"
      },
      {
        "duration": 14,
        "start_time": "2024-11-04T04:48:40.165Z"
      },
      {
        "duration": 6,
        "start_time": "2024-11-04T04:48:40.181Z"
      },
      {
        "duration": 3,
        "start_time": "2024-11-04T04:48:40.188Z"
      },
      {
        "duration": 38,
        "start_time": "2024-11-04T04:48:40.193Z"
      },
      {
        "duration": 4,
        "start_time": "2024-11-04T04:50:22.665Z"
      },
      {
        "duration": 217,
        "start_time": "2024-11-04T04:50:42.922Z"
      },
      {
        "duration": 2,
        "start_time": "2024-11-04T04:50:49.895Z"
      },
      {
        "duration": 4,
        "start_time": "2024-11-04T04:51:00.147Z"
      },
      {
        "duration": 46,
        "start_time": "2024-11-04T04:51:15.724Z"
      },
      {
        "duration": 4,
        "start_time": "2024-11-04T04:51:17.604Z"
      },
      {
        "duration": 2482,
        "start_time": "2024-11-04T16:23:23.377Z"
      },
      {
        "duration": 63,
        "start_time": "2024-11-04T16:23:25.861Z"
      },
      {
        "duration": 9,
        "start_time": "2024-11-04T16:23:25.926Z"
      },
      {
        "duration": 9,
        "start_time": "2024-11-04T16:23:25.938Z"
      },
      {
        "duration": 9,
        "start_time": "2024-11-04T16:23:25.948Z"
      },
      {
        "duration": 5,
        "start_time": "2024-11-04T16:23:25.959Z"
      },
      {
        "duration": 5,
        "start_time": "2024-11-04T16:23:25.965Z"
      },
      {
        "duration": 42,
        "start_time": "2024-11-04T16:23:25.973Z"
      },
      {
        "duration": 8,
        "start_time": "2024-11-04T16:23:26.017Z"
      },
      {
        "duration": 15,
        "start_time": "2024-11-04T16:23:26.030Z"
      },
      {
        "duration": 3,
        "start_time": "2024-11-04T16:23:26.047Z"
      },
      {
        "duration": 3,
        "start_time": "2024-11-04T16:23:26.051Z"
      },
      {
        "duration": 9,
        "start_time": "2024-11-04T16:23:26.055Z"
      },
      {
        "duration": 42,
        "start_time": "2024-11-04T16:23:26.065Z"
      },
      {
        "duration": 5,
        "start_time": "2024-11-04T16:23:26.108Z"
      },
      {
        "duration": 8,
        "start_time": "2024-11-04T16:23:26.115Z"
      },
      {
        "duration": 9,
        "start_time": "2024-11-04T16:23:26.125Z"
      },
      {
        "duration": 4,
        "start_time": "2024-11-04T16:23:26.136Z"
      },
      {
        "duration": 18,
        "start_time": "2024-11-04T16:23:26.142Z"
      },
      {
        "duration": 45,
        "start_time": "2024-11-04T16:23:26.162Z"
      },
      {
        "duration": 8,
        "start_time": "2024-11-04T16:23:26.208Z"
      },
      {
        "duration": 14,
        "start_time": "2024-11-04T16:23:26.217Z"
      },
      {
        "duration": 12,
        "start_time": "2024-11-04T16:23:26.233Z"
      },
      {
        "duration": 6,
        "start_time": "2024-11-04T16:23:26.247Z"
      },
      {
        "duration": 8,
        "start_time": "2024-11-04T16:23:26.255Z"
      },
      {
        "duration": 119,
        "start_time": "2024-11-04T16:23:26.265Z"
      },
      {
        "duration": 6,
        "start_time": "2024-11-04T16:23:26.387Z"
      },
      {
        "duration": 8,
        "start_time": "2024-11-04T16:23:26.409Z"
      },
      {
        "duration": 87,
        "start_time": "2024-11-04T16:23:26.418Z"
      },
      {
        "duration": 265,
        "start_time": "2024-11-04T16:23:26.507Z"
      },
      {
        "duration": 10,
        "start_time": "2024-11-04T16:23:26.774Z"
      },
      {
        "duration": 21,
        "start_time": "2024-11-04T16:23:26.786Z"
      },
      {
        "duration": 6,
        "start_time": "2024-11-04T16:23:26.808Z"
      },
      {
        "duration": 10,
        "start_time": "2024-11-04T16:23:26.816Z"
      },
      {
        "duration": 149,
        "start_time": "2024-11-04T16:23:26.828Z"
      },
      {
        "duration": 4,
        "start_time": "2024-11-04T16:23:26.978Z"
      },
      {
        "duration": 56,
        "start_time": "2024-11-04T16:23:26.984Z"
      },
      {
        "duration": 5,
        "start_time": "2024-11-04T16:23:27.041Z"
      },
      {
        "duration": 11,
        "start_time": "2024-11-04T16:23:27.048Z"
      },
      {
        "duration": 3,
        "start_time": "2024-11-04T16:23:27.061Z"
      },
      {
        "duration": 4,
        "start_time": "2024-11-04T16:23:27.066Z"
      },
      {
        "duration": 39,
        "start_time": "2024-11-04T16:23:27.071Z"
      },
      {
        "duration": 4,
        "start_time": "2024-11-04T16:26:02.551Z"
      },
      {
        "duration": 15,
        "start_time": "2024-11-04T16:26:03.956Z"
      },
      {
        "duration": 14,
        "start_time": "2024-11-04T16:36:44.409Z"
      },
      {
        "duration": 12,
        "start_time": "2024-11-04T16:36:46.894Z"
      },
      {
        "duration": 8,
        "start_time": "2024-11-04T16:36:49.396Z"
      },
      {
        "duration": 10,
        "start_time": "2024-11-04T16:36:51.410Z"
      },
      {
        "duration": 72,
        "start_time": "2024-11-04T16:36:55.524Z"
      },
      {
        "duration": 8,
        "start_time": "2024-11-04T16:37:00.891Z"
      },
      {
        "duration": 9,
        "start_time": "2024-11-04T16:37:11.377Z"
      },
      {
        "duration": 202,
        "start_time": "2024-11-04T16:37:15.647Z"
      },
      {
        "duration": 14,
        "start_time": "2024-11-04T16:37:26.045Z"
      },
      {
        "duration": 11,
        "start_time": "2024-11-04T16:37:28.111Z"
      },
      {
        "duration": 8,
        "start_time": "2024-11-04T16:37:33.473Z"
      },
      {
        "duration": 7,
        "start_time": "2024-11-04T16:37:36.643Z"
      },
      {
        "duration": 12,
        "start_time": "2024-11-04T16:37:38.013Z"
      },
      {
        "duration": 127,
        "start_time": "2024-11-04T16:37:40.159Z"
      },
      {
        "duration": 38,
        "start_time": "2024-11-04T16:37:54.608Z"
      },
      {
        "duration": 4,
        "start_time": "2024-11-04T16:37:56.406Z"
      },
      {
        "duration": 38,
        "start_time": "2024-11-04T16:38:35.695Z"
      },
      {
        "duration": 5,
        "start_time": "2024-11-04T16:38:36.398Z"
      },
      {
        "duration": 836,
        "start_time": "2024-11-04T16:59:27.431Z"
      },
      {
        "duration": 46,
        "start_time": "2024-11-04T16:59:28.269Z"
      },
      {
        "duration": 9,
        "start_time": "2024-11-04T16:59:28.317Z"
      },
      {
        "duration": 9,
        "start_time": "2024-11-04T16:59:28.328Z"
      },
      {
        "duration": 9,
        "start_time": "2024-11-04T16:59:28.339Z"
      },
      {
        "duration": 6,
        "start_time": "2024-11-04T16:59:28.350Z"
      },
      {
        "duration": 5,
        "start_time": "2024-11-04T16:59:28.357Z"
      },
      {
        "duration": 46,
        "start_time": "2024-11-04T16:59:28.363Z"
      },
      {
        "duration": 9,
        "start_time": "2024-11-04T16:59:28.410Z"
      },
      {
        "duration": 16,
        "start_time": "2024-11-04T16:59:28.420Z"
      },
      {
        "duration": 3,
        "start_time": "2024-11-04T16:59:28.438Z"
      },
      {
        "duration": 3,
        "start_time": "2024-11-04T16:59:28.443Z"
      },
      {
        "duration": 7,
        "start_time": "2024-11-04T16:59:28.447Z"
      },
      {
        "duration": 7,
        "start_time": "2024-11-04T16:59:28.458Z"
      },
      {
        "duration": 5,
        "start_time": "2024-11-04T16:59:28.466Z"
      },
      {
        "duration": 10,
        "start_time": "2024-11-04T16:59:28.506Z"
      },
      {
        "duration": 8,
        "start_time": "2024-11-04T16:59:28.517Z"
      },
      {
        "duration": 4,
        "start_time": "2024-11-04T16:59:28.527Z"
      },
      {
        "duration": 18,
        "start_time": "2024-11-04T16:59:28.533Z"
      },
      {
        "duration": 13,
        "start_time": "2024-11-04T16:59:28.553Z"
      },
      {
        "duration": 45,
        "start_time": "2024-11-04T16:59:28.567Z"
      },
      {
        "duration": 17,
        "start_time": "2024-11-04T16:59:28.613Z"
      },
      {
        "duration": 12,
        "start_time": "2024-11-04T16:59:28.631Z"
      },
      {
        "duration": 7,
        "start_time": "2024-11-04T16:59:28.645Z"
      },
      {
        "duration": 8,
        "start_time": "2024-11-04T16:59:28.654Z"
      },
      {
        "duration": 106,
        "start_time": "2024-11-04T16:59:28.664Z"
      },
      {
        "duration": 7,
        "start_time": "2024-11-04T16:59:28.772Z"
      },
      {
        "duration": 26,
        "start_time": "2024-11-04T16:59:28.781Z"
      },
      {
        "duration": 76,
        "start_time": "2024-11-04T16:59:28.808Z"
      },
      {
        "duration": 255,
        "start_time": "2024-11-04T16:59:28.886Z"
      },
      {
        "duration": 9,
        "start_time": "2024-11-04T16:59:29.143Z"
      },
      {
        "duration": 7,
        "start_time": "2024-11-04T16:59:29.155Z"
      },
      {
        "duration": 6,
        "start_time": "2024-11-04T16:59:29.164Z"
      },
      {
        "duration": 35,
        "start_time": "2024-11-04T16:59:29.171Z"
      },
      {
        "duration": 140,
        "start_time": "2024-11-04T16:59:29.207Z"
      },
      {
        "duration": 4,
        "start_time": "2024-11-04T16:59:29.349Z"
      },
      {
        "duration": 136,
        "start_time": "2024-11-04T16:59:29.355Z"
      },
      {
        "duration": 0,
        "start_time": "2024-11-04T16:59:29.492Z"
      },
      {
        "duration": 0,
        "start_time": "2024-11-04T16:59:29.493Z"
      },
      {
        "duration": 0,
        "start_time": "2024-11-04T16:59:29.494Z"
      },
      {
        "duration": 0,
        "start_time": "2024-11-04T16:59:29.495Z"
      },
      {
        "duration": 0,
        "start_time": "2024-11-04T16:59:29.504Z"
      },
      {
        "duration": 507,
        "start_time": "2024-11-04T17:07:22.487Z"
      },
      {
        "duration": 838,
        "start_time": "2024-11-04T17:07:27.621Z"
      },
      {
        "duration": 38,
        "start_time": "2024-11-04T17:07:28.461Z"
      },
      {
        "duration": 10,
        "start_time": "2024-11-04T17:07:28.504Z"
      },
      {
        "duration": 7,
        "start_time": "2024-11-04T17:07:28.516Z"
      },
      {
        "duration": 8,
        "start_time": "2024-11-04T17:07:28.526Z"
      },
      {
        "duration": 5,
        "start_time": "2024-11-04T17:07:28.536Z"
      },
      {
        "duration": 5,
        "start_time": "2024-11-04T17:07:28.542Z"
      },
      {
        "duration": 12,
        "start_time": "2024-11-04T17:07:28.549Z"
      },
      {
        "duration": 50,
        "start_time": "2024-11-04T17:07:28.562Z"
      },
      {
        "duration": 16,
        "start_time": "2024-11-04T17:07:28.614Z"
      },
      {
        "duration": 2,
        "start_time": "2024-11-04T17:07:28.632Z"
      },
      {
        "duration": 2,
        "start_time": "2024-11-04T17:07:28.636Z"
      },
      {
        "duration": 3,
        "start_time": "2024-11-04T17:07:28.640Z"
      },
      {
        "duration": 7,
        "start_time": "2024-11-04T17:07:28.647Z"
      },
      {
        "duration": 5,
        "start_time": "2024-11-04T17:07:28.656Z"
      },
      {
        "duration": 450,
        "start_time": "2024-11-04T17:07:28.663Z"
      },
      {
        "duration": 0,
        "start_time": "2024-11-04T17:07:29.116Z"
      },
      {
        "duration": 0,
        "start_time": "2024-11-04T17:07:29.117Z"
      },
      {
        "duration": 0,
        "start_time": "2024-11-04T17:07:29.118Z"
      },
      {
        "duration": 0,
        "start_time": "2024-11-04T17:07:29.119Z"
      },
      {
        "duration": 0,
        "start_time": "2024-11-04T17:07:29.120Z"
      },
      {
        "duration": 0,
        "start_time": "2024-11-04T17:07:29.121Z"
      },
      {
        "duration": 0,
        "start_time": "2024-11-04T17:07:29.122Z"
      },
      {
        "duration": 0,
        "start_time": "2024-11-04T17:07:29.123Z"
      },
      {
        "duration": 0,
        "start_time": "2024-11-04T17:07:29.125Z"
      },
      {
        "duration": 0,
        "start_time": "2024-11-04T17:07:29.127Z"
      },
      {
        "duration": 0,
        "start_time": "2024-11-04T17:07:29.128Z"
      },
      {
        "duration": 0,
        "start_time": "2024-11-04T17:07:29.130Z"
      },
      {
        "duration": 0,
        "start_time": "2024-11-04T17:07:29.131Z"
      },
      {
        "duration": 0,
        "start_time": "2024-11-04T17:07:29.132Z"
      },
      {
        "duration": 0,
        "start_time": "2024-11-04T17:07:29.133Z"
      },
      {
        "duration": 0,
        "start_time": "2024-11-04T17:07:29.134Z"
      },
      {
        "duration": 0,
        "start_time": "2024-11-04T17:07:29.136Z"
      },
      {
        "duration": 0,
        "start_time": "2024-11-04T17:07:29.137Z"
      },
      {
        "duration": 0,
        "start_time": "2024-11-04T17:07:29.138Z"
      },
      {
        "duration": 0,
        "start_time": "2024-11-04T17:07:29.139Z"
      },
      {
        "duration": 0,
        "start_time": "2024-11-04T17:07:29.141Z"
      },
      {
        "duration": 0,
        "start_time": "2024-11-04T17:07:29.142Z"
      },
      {
        "duration": 0,
        "start_time": "2024-11-04T17:07:29.144Z"
      },
      {
        "duration": 0,
        "start_time": "2024-11-04T17:07:29.145Z"
      },
      {
        "duration": 0,
        "start_time": "2024-11-04T17:07:29.146Z"
      },
      {
        "duration": 0,
        "start_time": "2024-11-04T17:07:29.148Z"
      },
      {
        "duration": 15,
        "start_time": "2024-11-04T17:09:38.829Z"
      },
      {
        "duration": 831,
        "start_time": "2024-11-04T17:09:48.349Z"
      },
      {
        "duration": 44,
        "start_time": "2024-11-04T17:09:49.182Z"
      },
      {
        "duration": 9,
        "start_time": "2024-11-04T17:09:49.227Z"
      },
      {
        "duration": 8,
        "start_time": "2024-11-04T17:09:49.239Z"
      },
      {
        "duration": 9,
        "start_time": "2024-11-04T17:09:49.249Z"
      },
      {
        "duration": 6,
        "start_time": "2024-11-04T17:09:49.260Z"
      },
      {
        "duration": 39,
        "start_time": "2024-11-04T17:09:49.267Z"
      },
      {
        "duration": 15,
        "start_time": "2024-11-04T17:09:49.308Z"
      },
      {
        "duration": 9,
        "start_time": "2024-11-04T17:09:49.325Z"
      },
      {
        "duration": 16,
        "start_time": "2024-11-04T17:09:49.338Z"
      },
      {
        "duration": 3,
        "start_time": "2024-11-04T17:09:49.356Z"
      },
      {
        "duration": 3,
        "start_time": "2024-11-04T17:09:49.360Z"
      },
      {
        "duration": 2,
        "start_time": "2024-11-04T17:09:49.365Z"
      },
      {
        "duration": 43,
        "start_time": "2024-11-04T17:09:49.368Z"
      },
      {
        "duration": 6,
        "start_time": "2024-11-04T17:09:49.413Z"
      },
      {
        "duration": 14,
        "start_time": "2024-11-04T17:09:49.420Z"
      },
      {
        "duration": 10,
        "start_time": "2024-11-04T17:09:49.436Z"
      },
      {
        "duration": 7,
        "start_time": "2024-11-04T17:09:49.447Z"
      },
      {
        "duration": 22,
        "start_time": "2024-11-04T17:09:49.455Z"
      },
      {
        "duration": 41,
        "start_time": "2024-11-04T17:09:49.479Z"
      },
      {
        "duration": 7,
        "start_time": "2024-11-04T17:09:49.524Z"
      },
      {
        "duration": 21,
        "start_time": "2024-11-04T17:09:49.534Z"
      },
      {
        "duration": 14,
        "start_time": "2024-11-04T17:09:49.558Z"
      },
      {
        "duration": 8,
        "start_time": "2024-11-04T17:09:49.573Z"
      },
      {
        "duration": 28,
        "start_time": "2024-11-04T17:09:49.582Z"
      },
      {
        "duration": 78,
        "start_time": "2024-11-04T17:09:49.612Z"
      },
      {
        "duration": 20,
        "start_time": "2024-11-04T17:09:49.692Z"
      },
      {
        "duration": 10,
        "start_time": "2024-11-04T17:09:49.717Z"
      },
      {
        "duration": 90,
        "start_time": "2024-11-04T17:09:49.728Z"
      },
      {
        "duration": 287,
        "start_time": "2024-11-04T17:09:49.820Z"
      },
      {
        "duration": 13,
        "start_time": "2024-11-04T17:09:50.109Z"
      },
      {
        "duration": 10,
        "start_time": "2024-11-04T17:09:50.124Z"
      },
      {
        "duration": 7,
        "start_time": "2024-11-04T17:09:50.136Z"
      },
      {
        "duration": 13,
        "start_time": "2024-11-04T17:09:50.144Z"
      },
      {
        "duration": 165,
        "start_time": "2024-11-04T17:09:50.159Z"
      },
      {
        "duration": 4,
        "start_time": "2024-11-04T17:09:50.326Z"
      },
      {
        "duration": 189,
        "start_time": "2024-11-04T17:09:50.332Z"
      },
      {
        "duration": 0,
        "start_time": "2024-11-04T17:09:50.524Z"
      },
      {
        "duration": 0,
        "start_time": "2024-11-04T17:09:50.528Z"
      },
      {
        "duration": 0,
        "start_time": "2024-11-04T17:09:50.530Z"
      },
      {
        "duration": 0,
        "start_time": "2024-11-04T17:09:50.531Z"
      },
      {
        "duration": 0,
        "start_time": "2024-11-04T17:09:50.532Z"
      },
      {
        "duration": 5,
        "start_time": "2024-11-04T17:10:56.550Z"
      },
      {
        "duration": 3,
        "start_time": "2024-11-04T17:13:11.885Z"
      },
      {
        "duration": 842,
        "start_time": "2024-11-04T17:13:18.034Z"
      },
      {
        "duration": 41,
        "start_time": "2024-11-04T17:13:18.879Z"
      },
      {
        "duration": 9,
        "start_time": "2024-11-04T17:13:18.922Z"
      },
      {
        "duration": 7,
        "start_time": "2024-11-04T17:13:18.934Z"
      },
      {
        "duration": 10,
        "start_time": "2024-11-04T17:13:18.943Z"
      },
      {
        "duration": 5,
        "start_time": "2024-11-04T17:13:18.954Z"
      },
      {
        "duration": 5,
        "start_time": "2024-11-04T17:13:18.961Z"
      },
      {
        "duration": 46,
        "start_time": "2024-11-04T17:13:18.967Z"
      },
      {
        "duration": 9,
        "start_time": "2024-11-04T17:13:19.014Z"
      },
      {
        "duration": 16,
        "start_time": "2024-11-04T17:13:19.027Z"
      },
      {
        "duration": 3,
        "start_time": "2024-11-04T17:13:19.044Z"
      },
      {
        "duration": 3,
        "start_time": "2024-11-04T17:13:19.048Z"
      },
      {
        "duration": 2,
        "start_time": "2024-11-04T17:13:19.053Z"
      },
      {
        "duration": 49,
        "start_time": "2024-11-04T17:13:19.057Z"
      },
      {
        "duration": 4,
        "start_time": "2024-11-04T17:13:19.108Z"
      },
      {
        "duration": 31,
        "start_time": "2024-11-04T17:13:19.114Z"
      },
      {
        "duration": 69,
        "start_time": "2024-11-04T17:13:19.147Z"
      },
      {
        "duration": 9,
        "start_time": "2024-11-04T17:13:19.218Z"
      },
      {
        "duration": 7,
        "start_time": "2024-11-04T17:13:19.228Z"
      },
      {
        "duration": 80,
        "start_time": "2024-11-04T17:13:19.236Z"
      },
      {
        "duration": 14,
        "start_time": "2024-11-04T17:13:19.318Z"
      },
      {
        "duration": 8,
        "start_time": "2024-11-04T17:13:19.334Z"
      },
      {
        "duration": 63,
        "start_time": "2024-11-04T17:13:19.343Z"
      },
      {
        "duration": 11,
        "start_time": "2024-11-04T17:13:19.408Z"
      },
      {
        "duration": 6,
        "start_time": "2024-11-04T17:13:19.421Z"
      },
      {
        "duration": 8,
        "start_time": "2024-11-04T17:13:19.429Z"
      },
      {
        "duration": 182,
        "start_time": "2024-11-04T17:13:19.439Z"
      },
      {
        "duration": 7,
        "start_time": "2024-11-04T17:13:19.625Z"
      },
      {
        "duration": 8,
        "start_time": "2024-11-04T17:13:19.633Z"
      },
      {
        "duration": 264,
        "start_time": "2024-11-04T17:13:19.643Z"
      },
      {
        "duration": 261,
        "start_time": "2024-11-04T17:13:19.909Z"
      },
      {
        "duration": 10,
        "start_time": "2024-11-04T17:13:20.172Z"
      },
      {
        "duration": 22,
        "start_time": "2024-11-04T17:13:20.184Z"
      },
      {
        "duration": 5,
        "start_time": "2024-11-04T17:13:20.208Z"
      },
      {
        "duration": 10,
        "start_time": "2024-11-04T17:13:20.215Z"
      },
      {
        "duration": 146,
        "start_time": "2024-11-04T17:13:20.226Z"
      },
      {
        "duration": 4,
        "start_time": "2024-11-04T17:13:20.374Z"
      },
      {
        "duration": 139,
        "start_time": "2024-11-04T17:13:20.380Z"
      },
      {
        "duration": 0,
        "start_time": "2024-11-04T17:13:20.521Z"
      },
      {
        "duration": 0,
        "start_time": "2024-11-04T17:13:20.523Z"
      },
      {
        "duration": 0,
        "start_time": "2024-11-04T17:13:20.524Z"
      },
      {
        "duration": 0,
        "start_time": "2024-11-04T17:13:20.526Z"
      },
      {
        "duration": 0,
        "start_time": "2024-11-04T17:13:20.527Z"
      },
      {
        "duration": 14,
        "start_time": "2024-11-04T17:23:51.493Z"
      },
      {
        "duration": 13,
        "start_time": "2024-11-04T17:23:57.840Z"
      },
      {
        "duration": 18,
        "start_time": "2024-11-04T17:25:39.278Z"
      },
      {
        "duration": 803,
        "start_time": "2024-11-04T17:25:54.460Z"
      },
      {
        "duration": 43,
        "start_time": "2024-11-04T17:25:55.265Z"
      },
      {
        "duration": 9,
        "start_time": "2024-11-04T17:25:55.310Z"
      },
      {
        "duration": 7,
        "start_time": "2024-11-04T17:25:55.321Z"
      },
      {
        "duration": 9,
        "start_time": "2024-11-04T17:25:55.330Z"
      },
      {
        "duration": 5,
        "start_time": "2024-11-04T17:25:55.340Z"
      },
      {
        "duration": 4,
        "start_time": "2024-11-04T17:25:55.347Z"
      },
      {
        "duration": 12,
        "start_time": "2024-11-04T17:25:55.352Z"
      },
      {
        "duration": 45,
        "start_time": "2024-11-04T17:25:55.366Z"
      },
      {
        "duration": 17,
        "start_time": "2024-11-04T17:25:55.413Z"
      },
      {
        "duration": 2,
        "start_time": "2024-11-04T17:25:55.432Z"
      },
      {
        "duration": 3,
        "start_time": "2024-11-04T17:25:55.436Z"
      },
      {
        "duration": 3,
        "start_time": "2024-11-04T17:25:55.440Z"
      },
      {
        "duration": 7,
        "start_time": "2024-11-04T17:25:55.447Z"
      },
      {
        "duration": 4,
        "start_time": "2024-11-04T17:25:55.455Z"
      },
      {
        "duration": 5,
        "start_time": "2024-11-04T17:25:55.460Z"
      },
      {
        "duration": 45,
        "start_time": "2024-11-04T17:25:55.467Z"
      },
      {
        "duration": 9,
        "start_time": "2024-11-04T17:25:55.514Z"
      },
      {
        "duration": 5,
        "start_time": "2024-11-04T17:25:55.524Z"
      },
      {
        "duration": 17,
        "start_time": "2024-11-04T17:25:55.530Z"
      },
      {
        "duration": 12,
        "start_time": "2024-11-04T17:25:55.549Z"
      },
      {
        "duration": 8,
        "start_time": "2024-11-04T17:25:55.563Z"
      },
      {
        "duration": 15,
        "start_time": "2024-11-04T17:25:55.605Z"
      },
      {
        "duration": 11,
        "start_time": "2024-11-04T17:25:55.622Z"
      },
      {
        "duration": 6,
        "start_time": "2024-11-04T17:25:55.635Z"
      },
      {
        "duration": 8,
        "start_time": "2024-11-04T17:25:55.643Z"
      },
      {
        "duration": 105,
        "start_time": "2024-11-04T17:25:55.653Z"
      },
      {
        "duration": 7,
        "start_time": "2024-11-04T17:25:55.759Z"
      },
      {
        "duration": 7,
        "start_time": "2024-11-04T17:25:55.768Z"
      },
      {
        "duration": 95,
        "start_time": "2024-11-04T17:25:55.777Z"
      },
      {
        "duration": 255,
        "start_time": "2024-11-04T17:25:55.874Z"
      },
      {
        "duration": 9,
        "start_time": "2024-11-04T17:25:56.131Z"
      },
      {
        "duration": 8,
        "start_time": "2024-11-04T17:25:56.142Z"
      },
      {
        "duration": 7,
        "start_time": "2024-11-04T17:25:56.151Z"
      },
      {
        "duration": 10,
        "start_time": "2024-11-04T17:25:56.159Z"
      },
      {
        "duration": 163,
        "start_time": "2024-11-04T17:25:56.171Z"
      },
      {
        "duration": 3,
        "start_time": "2024-11-04T17:25:56.336Z"
      },
      {
        "duration": 136,
        "start_time": "2024-11-04T17:25:56.341Z"
      },
      {
        "duration": 0,
        "start_time": "2024-11-04T17:25:56.479Z"
      },
      {
        "duration": 0,
        "start_time": "2024-11-04T17:25:56.480Z"
      },
      {
        "duration": 0,
        "start_time": "2024-11-04T17:25:56.482Z"
      },
      {
        "duration": 0,
        "start_time": "2024-11-04T17:25:56.483Z"
      },
      {
        "duration": 0,
        "start_time": "2024-11-04T17:25:56.485Z"
      },
      {
        "duration": 9,
        "start_time": "2024-11-04T17:29:32.231Z"
      },
      {
        "duration": 72,
        "start_time": "2024-11-04T17:29:44.915Z"
      },
      {
        "duration": 202,
        "start_time": "2024-11-04T17:29:50.078Z"
      },
      {
        "duration": 7,
        "start_time": "2024-11-04T17:31:01.174Z"
      },
      {
        "duration": 9,
        "start_time": "2024-11-04T18:06:48.499Z"
      },
      {
        "duration": 74,
        "start_time": "2024-11-04T18:06:51.035Z"
      },
      {
        "duration": 7,
        "start_time": "2024-11-04T18:06:53.001Z"
      },
      {
        "duration": 10,
        "start_time": "2024-11-04T18:06:54.468Z"
      },
      {
        "duration": 72,
        "start_time": "2024-11-04T18:06:56.148Z"
      },
      {
        "duration": 211,
        "start_time": "2024-11-04T18:06:58.024Z"
      },
      {
        "duration": 6,
        "start_time": "2024-11-04T18:07:00.338Z"
      },
      {
        "duration": 5,
        "start_time": "2024-11-04T18:07:05.092Z"
      },
      {
        "duration": 5,
        "start_time": "2024-11-04T18:07:13.793Z"
      },
      {
        "duration": 4,
        "start_time": "2024-11-04T18:10:11.409Z"
      },
      {
        "duration": 255,
        "start_time": "2024-11-04T18:11:28.375Z"
      },
      {
        "duration": 775,
        "start_time": "2024-11-04T18:13:01.404Z"
      },
      {
        "duration": 44,
        "start_time": "2024-11-04T18:13:02.182Z"
      },
      {
        "duration": 9,
        "start_time": "2024-11-04T18:13:02.228Z"
      },
      {
        "duration": 7,
        "start_time": "2024-11-04T18:13:02.239Z"
      },
      {
        "duration": 9,
        "start_time": "2024-11-04T18:13:02.248Z"
      },
      {
        "duration": 5,
        "start_time": "2024-11-04T18:13:02.259Z"
      },
      {
        "duration": 4,
        "start_time": "2024-11-04T18:13:02.265Z"
      },
      {
        "duration": 40,
        "start_time": "2024-11-04T18:13:02.271Z"
      },
      {
        "duration": 9,
        "start_time": "2024-11-04T18:13:02.313Z"
      },
      {
        "duration": 16,
        "start_time": "2024-11-04T18:13:02.323Z"
      },
      {
        "duration": 3,
        "start_time": "2024-11-04T18:13:02.341Z"
      },
      {
        "duration": 3,
        "start_time": "2024-11-04T18:13:02.345Z"
      },
      {
        "duration": 2,
        "start_time": "2024-11-04T18:13:02.350Z"
      },
      {
        "duration": 8,
        "start_time": "2024-11-04T18:13:02.355Z"
      },
      {
        "duration": 42,
        "start_time": "2024-11-04T18:13:02.365Z"
      },
      {
        "duration": 5,
        "start_time": "2024-11-04T18:13:02.408Z"
      },
      {
        "duration": 12,
        "start_time": "2024-11-04T18:13:02.415Z"
      },
      {
        "duration": 17,
        "start_time": "2024-11-04T18:13:02.429Z"
      },
      {
        "duration": 7,
        "start_time": "2024-11-04T18:13:02.448Z"
      },
      {
        "duration": 17,
        "start_time": "2024-11-04T18:13:02.457Z"
      },
      {
        "duration": 41,
        "start_time": "2024-11-04T18:13:02.476Z"
      },
      {
        "duration": 8,
        "start_time": "2024-11-04T18:13:02.519Z"
      },
      {
        "duration": 14,
        "start_time": "2024-11-04T18:13:02.529Z"
      },
      {
        "duration": 11,
        "start_time": "2024-11-04T18:13:02.544Z"
      },
      {
        "duration": 7,
        "start_time": "2024-11-04T18:13:02.557Z"
      },
      {
        "duration": 40,
        "start_time": "2024-11-04T18:13:02.566Z"
      },
      {
        "duration": 83,
        "start_time": "2024-11-04T18:13:02.610Z"
      },
      {
        "duration": 13,
        "start_time": "2024-11-04T18:13:02.704Z"
      },
      {
        "duration": 8,
        "start_time": "2024-11-04T18:13:02.720Z"
      },
      {
        "duration": 98,
        "start_time": "2024-11-04T18:13:02.730Z"
      },
      {
        "duration": 266,
        "start_time": "2024-11-04T18:13:02.830Z"
      },
      {
        "duration": 13,
        "start_time": "2024-11-04T18:13:03.098Z"
      },
      {
        "duration": 595,
        "start_time": "2024-11-04T18:13:03.113Z"
      },
      {
        "duration": 0,
        "start_time": "2024-11-04T18:13:03.710Z"
      },
      {
        "duration": 0,
        "start_time": "2024-11-04T18:13:03.711Z"
      },
      {
        "duration": 0,
        "start_time": "2024-11-04T18:13:03.713Z"
      },
      {
        "duration": 0,
        "start_time": "2024-11-04T18:13:03.713Z"
      },
      {
        "duration": 0,
        "start_time": "2024-11-04T18:13:03.714Z"
      },
      {
        "duration": 0,
        "start_time": "2024-11-04T18:13:03.715Z"
      },
      {
        "duration": 0,
        "start_time": "2024-11-04T18:13:03.716Z"
      },
      {
        "duration": 0,
        "start_time": "2024-11-04T18:13:03.716Z"
      },
      {
        "duration": 0,
        "start_time": "2024-11-04T18:13:03.717Z"
      },
      {
        "duration": 0,
        "start_time": "2024-11-04T18:13:03.718Z"
      },
      {
        "duration": 0,
        "start_time": "2024-11-04T18:13:03.719Z"
      },
      {
        "duration": 0,
        "start_time": "2024-11-04T18:13:03.720Z"
      },
      {
        "duration": 0,
        "start_time": "2024-11-04T18:13:03.721Z"
      },
      {
        "duration": 43,
        "start_time": "2024-11-04T18:14:36.153Z"
      },
      {
        "duration": 12,
        "start_time": "2024-11-04T18:14:57.078Z"
      },
      {
        "duration": 5,
        "start_time": "2024-11-04T18:18:11.287Z"
      },
      {
        "duration": 5,
        "start_time": "2024-11-04T18:18:21.155Z"
      },
      {
        "duration": 8,
        "start_time": "2024-11-04T18:19:38.499Z"
      },
      {
        "duration": 16,
        "start_time": "2024-11-04T18:22:24.502Z"
      },
      {
        "duration": 9,
        "start_time": "2024-11-04T18:24:34.729Z"
      },
      {
        "duration": 803,
        "start_time": "2024-11-04T18:26:08.368Z"
      },
      {
        "duration": 56,
        "start_time": "2024-11-04T18:26:09.174Z"
      },
      {
        "duration": 8,
        "start_time": "2024-11-04T18:26:09.232Z"
      },
      {
        "duration": 9,
        "start_time": "2024-11-04T18:26:09.243Z"
      },
      {
        "duration": 9,
        "start_time": "2024-11-04T18:26:09.253Z"
      },
      {
        "duration": 6,
        "start_time": "2024-11-04T18:26:09.264Z"
      },
      {
        "duration": 5,
        "start_time": "2024-11-04T18:26:09.271Z"
      },
      {
        "duration": 39,
        "start_time": "2024-11-04T18:26:09.277Z"
      },
      {
        "duration": 8,
        "start_time": "2024-11-04T18:26:09.317Z"
      },
      {
        "duration": 16,
        "start_time": "2024-11-04T18:26:09.328Z"
      },
      {
        "duration": 3,
        "start_time": "2024-11-04T18:26:09.345Z"
      },
      {
        "duration": 3,
        "start_time": "2024-11-04T18:26:09.350Z"
      },
      {
        "duration": 4,
        "start_time": "2024-11-04T18:26:09.354Z"
      },
      {
        "duration": 44,
        "start_time": "2024-11-04T18:26:09.360Z"
      },
      {
        "duration": 3,
        "start_time": "2024-11-04T18:26:09.406Z"
      },
      {
        "duration": 4,
        "start_time": "2024-11-04T18:26:09.411Z"
      },
      {
        "duration": 11,
        "start_time": "2024-11-04T18:26:09.417Z"
      },
      {
        "duration": 9,
        "start_time": "2024-11-04T18:26:09.429Z"
      },
      {
        "duration": 5,
        "start_time": "2024-11-04T18:26:09.439Z"
      },
      {
        "duration": 18,
        "start_time": "2024-11-04T18:26:09.447Z"
      },
      {
        "duration": 47,
        "start_time": "2024-11-04T18:26:09.466Z"
      },
      {
        "duration": 7,
        "start_time": "2024-11-04T18:26:09.515Z"
      },
      {
        "duration": 13,
        "start_time": "2024-11-04T18:26:09.524Z"
      },
      {
        "duration": 14,
        "start_time": "2024-11-04T18:26:09.539Z"
      },
      {
        "duration": 7,
        "start_time": "2024-11-04T18:26:09.555Z"
      },
      {
        "duration": 10,
        "start_time": "2024-11-04T18:26:09.564Z"
      },
      {
        "duration": 82,
        "start_time": "2024-11-04T18:26:09.605Z"
      },
      {
        "duration": 7,
        "start_time": "2024-11-04T18:26:09.704Z"
      },
      {
        "duration": 9,
        "start_time": "2024-11-04T18:26:09.713Z"
      },
      {
        "duration": 83,
        "start_time": "2024-11-04T18:26:09.724Z"
      },
      {
        "duration": 251,
        "start_time": "2024-11-04T18:26:09.809Z"
      },
      {
        "duration": 4,
        "start_time": "2024-11-04T18:26:10.062Z"
      },
      {
        "duration": 11,
        "start_time": "2024-11-04T18:26:10.068Z"
      },
      {
        "duration": 24,
        "start_time": "2024-11-04T18:26:10.081Z"
      },
      {
        "duration": 8,
        "start_time": "2024-11-04T18:26:10.107Z"
      },
      {
        "duration": 10,
        "start_time": "2024-11-04T18:26:10.117Z"
      },
      {
        "duration": 8,
        "start_time": "2024-11-04T18:26:10.128Z"
      },
      {
        "duration": 6,
        "start_time": "2024-11-04T18:26:10.137Z"
      },
      {
        "duration": 10,
        "start_time": "2024-11-04T18:26:10.145Z"
      },
      {
        "duration": 172,
        "start_time": "2024-11-04T18:26:10.156Z"
      },
      {
        "duration": 4,
        "start_time": "2024-11-04T18:26:10.329Z"
      },
      {
        "duration": 143,
        "start_time": "2024-11-04T18:26:10.334Z"
      },
      {
        "duration": 0,
        "start_time": "2024-11-04T18:26:10.478Z"
      },
      {
        "duration": 0,
        "start_time": "2024-11-04T18:26:10.479Z"
      },
      {
        "duration": 0,
        "start_time": "2024-11-04T18:26:10.481Z"
      },
      {
        "duration": 0,
        "start_time": "2024-11-04T18:26:10.482Z"
      },
      {
        "duration": 0,
        "start_time": "2024-11-04T18:26:10.484Z"
      },
      {
        "duration": 0,
        "start_time": "2024-11-04T18:26:10.485Z"
      },
      {
        "duration": 12,
        "start_time": "2024-11-04T18:26:42.180Z"
      },
      {
        "duration": 106,
        "start_time": "2024-11-04T18:37:41.079Z"
      },
      {
        "duration": 797,
        "start_time": "2024-11-04T18:37:50.372Z"
      },
      {
        "duration": 41,
        "start_time": "2024-11-04T18:37:51.170Z"
      },
      {
        "duration": 10,
        "start_time": "2024-11-04T18:37:51.213Z"
      },
      {
        "duration": 8,
        "start_time": "2024-11-04T18:37:51.225Z"
      },
      {
        "duration": 10,
        "start_time": "2024-11-04T18:37:51.235Z"
      },
      {
        "duration": 5,
        "start_time": "2024-11-04T18:37:51.246Z"
      },
      {
        "duration": 5,
        "start_time": "2024-11-04T18:37:51.253Z"
      },
      {
        "duration": 46,
        "start_time": "2024-11-04T18:37:51.259Z"
      },
      {
        "duration": 9,
        "start_time": "2024-11-04T18:37:51.307Z"
      },
      {
        "duration": 16,
        "start_time": "2024-11-04T18:37:51.317Z"
      },
      {
        "duration": 2,
        "start_time": "2024-11-04T18:37:51.335Z"
      },
      {
        "duration": 2,
        "start_time": "2024-11-04T18:37:51.341Z"
      },
      {
        "duration": 2,
        "start_time": "2024-11-04T18:37:51.345Z"
      },
      {
        "duration": 8,
        "start_time": "2024-11-04T18:37:51.350Z"
      },
      {
        "duration": 3,
        "start_time": "2024-11-04T18:37:51.359Z"
      },
      {
        "duration": 42,
        "start_time": "2024-11-04T18:37:51.364Z"
      },
      {
        "duration": 10,
        "start_time": "2024-11-04T18:37:51.408Z"
      },
      {
        "duration": 9,
        "start_time": "2024-11-04T18:37:51.419Z"
      },
      {
        "duration": 6,
        "start_time": "2024-11-04T18:37:51.430Z"
      },
      {
        "duration": 19,
        "start_time": "2024-11-04T18:37:51.437Z"
      },
      {
        "duration": 48,
        "start_time": "2024-11-04T18:37:51.458Z"
      },
      {
        "duration": 9,
        "start_time": "2024-11-04T18:37:51.511Z"
      },
      {
        "duration": 14,
        "start_time": "2024-11-04T18:37:51.522Z"
      },
      {
        "duration": 12,
        "start_time": "2024-11-04T18:37:51.538Z"
      },
      {
        "duration": 7,
        "start_time": "2024-11-04T18:37:51.551Z"
      },
      {
        "duration": 9,
        "start_time": "2024-11-04T18:37:51.560Z"
      },
      {
        "duration": 111,
        "start_time": "2024-11-04T18:37:51.570Z"
      },
      {
        "duration": 8,
        "start_time": "2024-11-04T18:37:51.683Z"
      },
      {
        "duration": 21,
        "start_time": "2024-11-04T18:37:51.693Z"
      },
      {
        "duration": 72,
        "start_time": "2024-11-04T18:37:51.716Z"
      },
      {
        "duration": 259,
        "start_time": "2024-11-04T18:37:51.789Z"
      },
      {
        "duration": 5,
        "start_time": "2024-11-04T18:37:52.050Z"
      },
      {
        "duration": 12,
        "start_time": "2024-11-04T18:37:52.056Z"
      },
      {
        "duration": 4,
        "start_time": "2024-11-04T18:37:52.071Z"
      },
      {
        "duration": 33,
        "start_time": "2024-11-04T18:37:52.077Z"
      },
      {
        "duration": 10,
        "start_time": "2024-11-04T18:37:52.112Z"
      },
      {
        "duration": 8,
        "start_time": "2024-11-04T18:37:52.123Z"
      },
      {
        "duration": 6,
        "start_time": "2024-11-04T18:37:52.133Z"
      },
      {
        "duration": 10,
        "start_time": "2024-11-04T18:37:52.140Z"
      },
      {
        "duration": 170,
        "start_time": "2024-11-04T18:37:52.152Z"
      },
      {
        "duration": 4,
        "start_time": "2024-11-04T18:37:52.327Z"
      },
      {
        "duration": 13,
        "start_time": "2024-11-04T18:37:52.332Z"
      },
      {
        "duration": 3,
        "start_time": "2024-11-04T18:37:52.347Z"
      },
      {
        "duration": 165,
        "start_time": "2024-11-04T18:37:52.352Z"
      },
      {
        "duration": 0,
        "start_time": "2024-11-04T18:37:52.519Z"
      },
      {
        "duration": 0,
        "start_time": "2024-11-04T18:37:52.521Z"
      },
      {
        "duration": 0,
        "start_time": "2024-11-04T18:37:52.522Z"
      },
      {
        "duration": 0,
        "start_time": "2024-11-04T18:37:52.523Z"
      },
      {
        "duration": 0,
        "start_time": "2024-11-04T18:37:52.525Z"
      },
      {
        "duration": 12,
        "start_time": "2024-11-04T18:39:18.037Z"
      },
      {
        "duration": 12,
        "start_time": "2024-11-04T18:39:39.448Z"
      },
      {
        "duration": 766,
        "start_time": "2024-11-04T18:39:53.300Z"
      },
      {
        "duration": 41,
        "start_time": "2024-11-04T18:39:54.069Z"
      },
      {
        "duration": 8,
        "start_time": "2024-11-04T18:39:54.112Z"
      },
      {
        "duration": 9,
        "start_time": "2024-11-04T18:39:54.122Z"
      },
      {
        "duration": 18,
        "start_time": "2024-11-04T18:39:54.134Z"
      },
      {
        "duration": 5,
        "start_time": "2024-11-04T18:39:54.154Z"
      },
      {
        "duration": 4,
        "start_time": "2024-11-04T18:39:54.161Z"
      },
      {
        "duration": 41,
        "start_time": "2024-11-04T18:39:54.167Z"
      },
      {
        "duration": 8,
        "start_time": "2024-11-04T18:39:54.210Z"
      },
      {
        "duration": 16,
        "start_time": "2024-11-04T18:39:54.219Z"
      },
      {
        "duration": 3,
        "start_time": "2024-11-04T18:39:54.237Z"
      },
      {
        "duration": 2,
        "start_time": "2024-11-04T18:39:54.242Z"
      },
      {
        "duration": 2,
        "start_time": "2024-11-04T18:39:54.246Z"
      },
      {
        "duration": 9,
        "start_time": "2024-11-04T18:39:54.253Z"
      },
      {
        "duration": 42,
        "start_time": "2024-11-04T18:39:54.263Z"
      },
      {
        "duration": 5,
        "start_time": "2024-11-04T18:39:54.307Z"
      },
      {
        "duration": 25,
        "start_time": "2024-11-04T18:39:54.313Z"
      },
      {
        "duration": 21,
        "start_time": "2024-11-04T18:39:54.340Z"
      },
      {
        "duration": 6,
        "start_time": "2024-11-04T18:39:54.362Z"
      },
      {
        "duration": 18,
        "start_time": "2024-11-04T18:39:54.369Z"
      },
      {
        "duration": 17,
        "start_time": "2024-11-04T18:39:54.388Z"
      },
      {
        "duration": 8,
        "start_time": "2024-11-04T18:39:54.406Z"
      },
      {
        "duration": 16,
        "start_time": "2024-11-04T18:39:54.415Z"
      },
      {
        "duration": 12,
        "start_time": "2024-11-04T18:39:54.432Z"
      },
      {
        "duration": 7,
        "start_time": "2024-11-04T18:39:54.446Z"
      },
      {
        "duration": 7,
        "start_time": "2024-11-04T18:39:54.457Z"
      },
      {
        "duration": 108,
        "start_time": "2024-11-04T18:39:54.466Z"
      },
      {
        "duration": 6,
        "start_time": "2024-11-04T18:39:54.576Z"
      },
      {
        "duration": 9,
        "start_time": "2024-11-04T18:39:54.584Z"
      },
      {
        "duration": 70,
        "start_time": "2024-11-04T18:39:54.606Z"
      },
      {
        "duration": 264,
        "start_time": "2024-11-04T18:39:54.678Z"
      },
      {
        "duration": 6,
        "start_time": "2024-11-04T18:39:54.944Z"
      },
      {
        "duration": 12,
        "start_time": "2024-11-04T18:39:54.951Z"
      },
      {
        "duration": 4,
        "start_time": "2024-11-04T18:39:54.965Z"
      },
      {
        "duration": 37,
        "start_time": "2024-11-04T18:39:54.971Z"
      },
      {
        "duration": 9,
        "start_time": "2024-11-04T18:39:55.010Z"
      },
      {
        "duration": 7,
        "start_time": "2024-11-04T18:39:55.022Z"
      },
      {
        "duration": 7,
        "start_time": "2024-11-04T18:39:55.031Z"
      },
      {
        "duration": 10,
        "start_time": "2024-11-04T18:39:55.039Z"
      },
      {
        "duration": 156,
        "start_time": "2024-11-04T18:39:55.050Z"
      },
      {
        "duration": 4,
        "start_time": "2024-11-04T18:39:55.210Z"
      },
      {
        "duration": 12,
        "start_time": "2024-11-04T18:39:55.216Z"
      },
      {
        "duration": 4,
        "start_time": "2024-11-04T18:39:55.229Z"
      },
      {
        "duration": 151,
        "start_time": "2024-11-04T18:39:55.234Z"
      },
      {
        "duration": 0,
        "start_time": "2024-11-04T18:39:55.386Z"
      },
      {
        "duration": 0,
        "start_time": "2024-11-04T18:39:55.387Z"
      },
      {
        "duration": 0,
        "start_time": "2024-11-04T18:39:55.389Z"
      },
      {
        "duration": 0,
        "start_time": "2024-11-04T18:39:55.390Z"
      },
      {
        "duration": 0,
        "start_time": "2024-11-04T18:39:55.405Z"
      },
      {
        "duration": 6,
        "start_time": "2024-11-04T18:40:54.216Z"
      },
      {
        "duration": 106,
        "start_time": "2024-11-04T18:43:24.547Z"
      },
      {
        "duration": 7,
        "start_time": "2024-11-04T18:43:43.268Z"
      },
      {
        "duration": 6,
        "start_time": "2024-11-04T18:44:06.198Z"
      },
      {
        "duration": 4,
        "start_time": "2024-11-04T18:47:15.742Z"
      },
      {
        "duration": 13,
        "start_time": "2024-11-04T18:47:21.542Z"
      },
      {
        "duration": 40,
        "start_time": "2024-11-04T18:47:43.784Z"
      },
      {
        "duration": 13,
        "start_time": "2024-11-04T18:52:05.415Z"
      },
      {
        "duration": 3,
        "start_time": "2024-11-04T18:53:41.751Z"
      },
      {
        "duration": 8,
        "start_time": "2024-11-04T18:53:50.636Z"
      },
      {
        "duration": 8,
        "start_time": "2024-11-04T19:18:39.494Z"
      },
      {
        "duration": 12,
        "start_time": "2024-11-04T19:18:46.801Z"
      },
      {
        "duration": 73,
        "start_time": "2024-11-04T19:22:25.596Z"
      },
      {
        "duration": 13,
        "start_time": "2024-11-04T19:23:14.914Z"
      },
      {
        "duration": 126,
        "start_time": "2024-11-04T19:23:34.949Z"
      },
      {
        "duration": 5,
        "start_time": "2024-11-04T19:26:51.732Z"
      },
      {
        "duration": 14,
        "start_time": "2024-11-04T19:27:00.811Z"
      },
      {
        "duration": 14,
        "start_time": "2024-11-04T19:27:23.800Z"
      },
      {
        "duration": 13,
        "start_time": "2024-11-04T19:30:24.714Z"
      },
      {
        "duration": 12,
        "start_time": "2024-11-04T19:30:31.204Z"
      },
      {
        "duration": 13,
        "start_time": "2024-11-04T19:33:19.868Z"
      },
      {
        "duration": 73,
        "start_time": "2024-11-04T19:34:07.065Z"
      },
      {
        "duration": 114,
        "start_time": "2024-11-04T19:35:09.777Z"
      },
      {
        "duration": 78,
        "start_time": "2024-11-04T19:36:06.613Z"
      },
      {
        "duration": 235,
        "start_time": "2024-11-04T19:36:10.826Z"
      },
      {
        "duration": 12,
        "start_time": "2024-11-04T19:36:44.818Z"
      },
      {
        "duration": 11,
        "start_time": "2024-11-04T19:43:01.754Z"
      },
      {
        "duration": 10,
        "start_time": "2024-11-04T19:43:17.055Z"
      },
      {
        "duration": 5,
        "start_time": "2024-11-04T19:43:45.995Z"
      },
      {
        "duration": 3035,
        "start_time": "2024-11-04T22:19:18.245Z"
      },
      {
        "duration": 77,
        "start_time": "2024-11-04T22:19:21.283Z"
      },
      {
        "duration": 14,
        "start_time": "2024-11-04T22:19:21.362Z"
      },
      {
        "duration": 11,
        "start_time": "2024-11-04T22:19:21.378Z"
      },
      {
        "duration": 13,
        "start_time": "2024-11-04T22:19:21.392Z"
      },
      {
        "duration": 6,
        "start_time": "2024-11-04T22:19:21.407Z"
      },
      {
        "duration": 32,
        "start_time": "2024-11-04T22:19:21.416Z"
      },
      {
        "duration": 20,
        "start_time": "2024-11-04T22:19:21.450Z"
      },
      {
        "duration": 11,
        "start_time": "2024-11-04T22:19:21.472Z"
      },
      {
        "duration": 23,
        "start_time": "2024-11-04T22:19:21.485Z"
      },
      {
        "duration": 35,
        "start_time": "2024-11-04T22:19:21.510Z"
      },
      {
        "duration": 2,
        "start_time": "2024-11-04T22:19:21.548Z"
      },
      {
        "duration": 2,
        "start_time": "2024-11-04T22:19:21.552Z"
      },
      {
        "duration": 12,
        "start_time": "2024-11-04T22:19:21.559Z"
      },
      {
        "duration": 4,
        "start_time": "2024-11-04T22:19:21.573Z"
      },
      {
        "duration": 5,
        "start_time": "2024-11-04T22:19:21.579Z"
      },
      {
        "duration": 65,
        "start_time": "2024-11-04T22:19:21.586Z"
      },
      {
        "duration": 12,
        "start_time": "2024-11-04T22:19:21.653Z"
      },
      {
        "duration": 6,
        "start_time": "2024-11-04T22:19:21.669Z"
      },
      {
        "duration": 68,
        "start_time": "2024-11-04T22:19:21.677Z"
      },
      {
        "duration": 15,
        "start_time": "2024-11-04T22:19:21.747Z"
      },
      {
        "duration": 9,
        "start_time": "2024-11-04T22:19:21.763Z"
      },
      {
        "duration": 71,
        "start_time": "2024-11-04T22:19:21.773Z"
      },
      {
        "duration": 13,
        "start_time": "2024-11-04T22:19:21.846Z"
      },
      {
        "duration": 7,
        "start_time": "2024-11-04T22:19:21.863Z"
      },
      {
        "duration": 10,
        "start_time": "2024-11-04T22:19:21.872Z"
      },
      {
        "duration": 190,
        "start_time": "2024-11-04T22:19:21.884Z"
      },
      {
        "duration": 8,
        "start_time": "2024-11-04T22:19:22.076Z"
      },
      {
        "duration": 69,
        "start_time": "2024-11-04T22:19:22.085Z"
      },
      {
        "duration": 223,
        "start_time": "2024-11-04T22:19:22.157Z"
      },
      {
        "duration": 423,
        "start_time": "2024-11-04T22:19:22.383Z"
      },
      {
        "duration": 16,
        "start_time": "2024-11-04T22:19:22.809Z"
      },
      {
        "duration": 20,
        "start_time": "2024-11-04T22:19:22.827Z"
      },
      {
        "duration": 9,
        "start_time": "2024-11-04T22:19:22.849Z"
      },
      {
        "duration": 12,
        "start_time": "2024-11-04T22:19:22.860Z"
      },
      {
        "duration": 12,
        "start_time": "2024-11-04T22:19:22.874Z"
      },
      {
        "duration": 8,
        "start_time": "2024-11-04T22:19:22.888Z"
      },
      {
        "duration": 142,
        "start_time": "2024-11-04T22:19:22.900Z"
      },
      {
        "duration": 146,
        "start_time": "2024-11-04T22:19:23.046Z"
      },
      {
        "duration": 7,
        "start_time": "2024-11-04T22:19:23.194Z"
      },
      {
        "duration": 19,
        "start_time": "2024-11-04T22:19:23.209Z"
      },
      {
        "duration": 20,
        "start_time": "2024-11-04T22:19:23.229Z"
      },
      {
        "duration": 5,
        "start_time": "2024-11-04T22:19:23.253Z"
      },
      {
        "duration": 17,
        "start_time": "2024-11-04T22:19:23.260Z"
      },
      {
        "duration": 11,
        "start_time": "2024-11-04T22:19:23.279Z"
      },
      {
        "duration": 106,
        "start_time": "2024-11-04T22:19:23.292Z"
      },
      {
        "duration": 13,
        "start_time": "2024-11-04T22:19:23.400Z"
      },
      {
        "duration": 30,
        "start_time": "2024-11-04T22:19:23.416Z"
      },
      {
        "duration": 99,
        "start_time": "2024-11-04T22:19:23.448Z"
      },
      {
        "duration": 159,
        "start_time": "2024-11-04T22:19:23.549Z"
      },
      {
        "duration": 17,
        "start_time": "2024-11-04T22:19:23.710Z"
      },
      {
        "duration": 26,
        "start_time": "2024-11-04T22:19:23.729Z"
      },
      {
        "duration": 9,
        "start_time": "2024-11-04T22:19:23.759Z"
      },
      {
        "duration": 251,
        "start_time": "2024-11-04T22:19:23.773Z"
      },
      {
        "duration": 0,
        "start_time": "2024-11-04T22:19:24.026Z"
      },
      {
        "duration": 0,
        "start_time": "2024-11-04T22:19:24.027Z"
      },
      {
        "duration": 0,
        "start_time": "2024-11-04T22:19:24.028Z"
      },
      {
        "duration": 0,
        "start_time": "2024-11-04T22:19:24.030Z"
      },
      {
        "duration": 9,
        "start_time": "2024-11-04T22:27:21.263Z"
      },
      {
        "duration": 16,
        "start_time": "2024-11-04T22:27:31.108Z"
      },
      {
        "duration": 5,
        "start_time": "2024-11-04T22:27:35.996Z"
      },
      {
        "duration": 3,
        "start_time": "2024-11-04T22:27:54.923Z"
      },
      {
        "duration": 17,
        "start_time": "2024-11-04T22:30:11.195Z"
      },
      {
        "duration": 10,
        "start_time": "2024-11-04T22:31:26.884Z"
      },
      {
        "duration": 7,
        "start_time": "2024-11-04T22:34:02.780Z"
      },
      {
        "duration": 3,
        "start_time": "2024-11-04T22:34:06.661Z"
      },
      {
        "duration": 13,
        "start_time": "2024-11-04T22:34:10.590Z"
      },
      {
        "duration": 12,
        "start_time": "2024-11-04T22:34:16.301Z"
      },
      {
        "duration": 13,
        "start_time": "2024-11-04T22:34:22.646Z"
      },
      {
        "duration": 5,
        "start_time": "2024-11-04T22:34:33.583Z"
      },
      {
        "duration": 10,
        "start_time": "2024-11-04T22:44:44.924Z"
      },
      {
        "duration": 13,
        "start_time": "2024-11-04T22:44:55.322Z"
      },
      {
        "duration": 12,
        "start_time": "2024-11-04T22:45:13.456Z"
      },
      {
        "duration": 11,
        "start_time": "2024-11-04T22:45:15.892Z"
      },
      {
        "duration": 11,
        "start_time": "2024-11-04T22:51:54.240Z"
      },
      {
        "duration": 8,
        "start_time": "2024-11-04T22:52:14.231Z"
      },
      {
        "duration": 14,
        "start_time": "2024-11-04T22:52:36.472Z"
      },
      {
        "duration": 7,
        "start_time": "2024-11-04T22:52:45.493Z"
      },
      {
        "duration": 925,
        "start_time": "2024-11-04T22:52:51.361Z"
      },
      {
        "duration": 43,
        "start_time": "2024-11-04T22:52:52.289Z"
      },
      {
        "duration": 14,
        "start_time": "2024-11-04T22:52:52.334Z"
      },
      {
        "duration": 10,
        "start_time": "2024-11-04T22:52:52.350Z"
      },
      {
        "duration": 10,
        "start_time": "2024-11-04T22:52:52.363Z"
      },
      {
        "duration": 6,
        "start_time": "2024-11-04T22:52:52.376Z"
      },
      {
        "duration": 7,
        "start_time": "2024-11-04T22:52:52.384Z"
      },
      {
        "duration": 52,
        "start_time": "2024-11-04T22:52:52.393Z"
      },
      {
        "duration": 12,
        "start_time": "2024-11-04T22:52:52.447Z"
      },
      {
        "duration": 20,
        "start_time": "2024-11-04T22:52:52.461Z"
      },
      {
        "duration": 4,
        "start_time": "2024-11-04T22:52:52.483Z"
      },
      {
        "duration": 2,
        "start_time": "2024-11-04T22:52:52.489Z"
      },
      {
        "duration": 3,
        "start_time": "2024-11-04T22:52:52.493Z"
      },
      {
        "duration": 43,
        "start_time": "2024-11-04T22:52:52.501Z"
      },
      {
        "duration": 4,
        "start_time": "2024-11-04T22:52:52.547Z"
      },
      {
        "duration": 7,
        "start_time": "2024-11-04T22:52:52.554Z"
      },
      {
        "duration": 12,
        "start_time": "2024-11-04T22:52:52.563Z"
      },
      {
        "duration": 12,
        "start_time": "2024-11-04T22:52:52.577Z"
      },
      {
        "duration": 7,
        "start_time": "2024-11-04T22:52:52.591Z"
      },
      {
        "duration": 65,
        "start_time": "2024-11-04T22:52:52.600Z"
      },
      {
        "duration": 18,
        "start_time": "2024-11-04T22:52:52.667Z"
      },
      {
        "duration": 10,
        "start_time": "2024-11-04T22:52:52.687Z"
      },
      {
        "duration": 19,
        "start_time": "2024-11-04T22:52:52.698Z"
      },
      {
        "duration": 36,
        "start_time": "2024-11-04T22:52:52.719Z"
      },
      {
        "duration": 9,
        "start_time": "2024-11-04T22:52:52.757Z"
      },
      {
        "duration": 10,
        "start_time": "2024-11-04T22:52:52.767Z"
      },
      {
        "duration": 114,
        "start_time": "2024-11-04T22:52:52.779Z"
      },
      {
        "duration": 9,
        "start_time": "2024-11-04T22:52:52.896Z"
      },
      {
        "duration": 11,
        "start_time": "2024-11-04T22:52:52.907Z"
      },
      {
        "duration": 107,
        "start_time": "2024-11-04T22:52:52.919Z"
      },
      {
        "duration": 317,
        "start_time": "2024-11-04T22:52:53.028Z"
      },
      {
        "duration": 15,
        "start_time": "2024-11-04T22:52:53.347Z"
      },
      {
        "duration": 5,
        "start_time": "2024-11-04T22:52:53.364Z"
      },
      {
        "duration": 8,
        "start_time": "2024-11-04T22:52:53.371Z"
      },
      {
        "duration": 65,
        "start_time": "2024-11-04T22:52:53.381Z"
      },
      {
        "duration": 9,
        "start_time": "2024-11-04T22:52:53.448Z"
      },
      {
        "duration": 8,
        "start_time": "2024-11-04T22:52:53.459Z"
      },
      {
        "duration": 10,
        "start_time": "2024-11-04T22:52:53.469Z"
      },
      {
        "duration": 387,
        "start_time": "2024-11-04T22:52:53.481Z"
      },
      {
        "duration": 4,
        "start_time": "2024-11-04T22:52:53.871Z"
      },
      {
        "duration": 71,
        "start_time": "2024-11-04T22:52:53.883Z"
      },
      {
        "duration": 6,
        "start_time": "2024-11-04T22:52:53.957Z"
      },
      {
        "duration": 4,
        "start_time": "2024-11-04T22:52:53.966Z"
      },
      {
        "duration": 72,
        "start_time": "2024-11-04T22:52:53.972Z"
      },
      {
        "duration": 12,
        "start_time": "2024-11-04T22:52:54.046Z"
      },
      {
        "duration": 279,
        "start_time": "2024-11-04T22:52:54.064Z"
      },
      {
        "duration": 17,
        "start_time": "2024-11-04T22:52:54.345Z"
      },
      {
        "duration": 15,
        "start_time": "2024-11-04T22:52:54.364Z"
      },
      {
        "duration": 150,
        "start_time": "2024-11-04T22:52:54.382Z"
      },
      {
        "duration": 143,
        "start_time": "2024-11-04T22:52:54.536Z"
      },
      {
        "duration": 15,
        "start_time": "2024-11-04T22:52:54.681Z"
      },
      {
        "duration": 14,
        "start_time": "2024-11-04T22:52:54.703Z"
      },
      {
        "duration": 24,
        "start_time": "2024-11-04T22:52:54.719Z"
      },
      {
        "duration": 7,
        "start_time": "2024-11-04T22:52:54.745Z"
      },
      {
        "duration": 12,
        "start_time": "2024-11-04T22:52:54.754Z"
      },
      {
        "duration": 12,
        "start_time": "2024-11-04T22:52:54.768Z"
      },
      {
        "duration": 11,
        "start_time": "2024-11-04T22:52:54.783Z"
      },
      {
        "duration": 6,
        "start_time": "2024-11-04T22:52:54.796Z"
      },
      {
        "duration": 41,
        "start_time": "2024-11-04T22:52:54.804Z"
      },
      {
        "duration": 12,
        "start_time": "2024-11-04T22:52:54.847Z"
      },
      {
        "duration": 5,
        "start_time": "2024-11-04T22:52:54.862Z"
      },
      {
        "duration": 4,
        "start_time": "2024-11-04T22:52:54.869Z"
      },
      {
        "duration": 0,
        "start_time": "2024-11-04T22:52:54.875Z"
      },
      {
        "duration": 0,
        "start_time": "2024-11-04T22:52:54.876Z"
      },
      {
        "duration": 0,
        "start_time": "2024-11-04T22:52:54.877Z"
      },
      {
        "duration": 0,
        "start_time": "2024-11-04T22:52:54.878Z"
      },
      {
        "duration": 0,
        "start_time": "2024-11-04T22:52:54.879Z"
      },
      {
        "duration": 0,
        "start_time": "2024-11-04T22:52:54.880Z"
      },
      {
        "duration": 8,
        "start_time": "2024-11-04T22:53:27.069Z"
      },
      {
        "duration": 6,
        "start_time": "2024-11-04T22:53:53.155Z"
      },
      {
        "duration": 7,
        "start_time": "2024-11-04T22:54:03.708Z"
      },
      {
        "duration": 891,
        "start_time": "2024-11-04T22:54:27.624Z"
      },
      {
        "duration": 58,
        "start_time": "2024-11-04T22:54:28.518Z"
      },
      {
        "duration": 12,
        "start_time": "2024-11-04T22:54:28.578Z"
      },
      {
        "duration": 9,
        "start_time": "2024-11-04T22:54:28.592Z"
      },
      {
        "duration": 10,
        "start_time": "2024-11-04T22:54:28.604Z"
      },
      {
        "duration": 28,
        "start_time": "2024-11-04T22:54:28.616Z"
      },
      {
        "duration": 7,
        "start_time": "2024-11-04T22:54:28.647Z"
      },
      {
        "duration": 18,
        "start_time": "2024-11-04T22:54:28.656Z"
      },
      {
        "duration": 12,
        "start_time": "2024-11-04T22:54:28.676Z"
      },
      {
        "duration": 20,
        "start_time": "2024-11-04T22:54:28.689Z"
      },
      {
        "duration": 3,
        "start_time": "2024-11-04T22:54:28.744Z"
      },
      {
        "duration": 4,
        "start_time": "2024-11-04T22:54:28.749Z"
      },
      {
        "duration": 4,
        "start_time": "2024-11-04T22:54:28.754Z"
      },
      {
        "duration": 11,
        "start_time": "2024-11-04T22:54:28.763Z"
      },
      {
        "duration": 4,
        "start_time": "2024-11-04T22:54:28.778Z"
      },
      {
        "duration": 6,
        "start_time": "2024-11-04T22:54:28.785Z"
      },
      {
        "duration": 14,
        "start_time": "2024-11-04T22:54:28.793Z"
      },
      {
        "duration": 10,
        "start_time": "2024-11-04T22:54:28.845Z"
      },
      {
        "duration": 7,
        "start_time": "2024-11-04T22:54:28.858Z"
      },
      {
        "duration": 27,
        "start_time": "2024-11-04T22:54:28.867Z"
      },
      {
        "duration": 19,
        "start_time": "2024-11-04T22:54:28.896Z"
      },
      {
        "duration": 32,
        "start_time": "2024-11-04T22:54:28.917Z"
      },
      {
        "duration": 15,
        "start_time": "2024-11-04T22:54:28.951Z"
      },
      {
        "duration": 13,
        "start_time": "2024-11-04T22:54:28.968Z"
      },
      {
        "duration": 11,
        "start_time": "2024-11-04T22:54:28.982Z"
      },
      {
        "duration": 11,
        "start_time": "2024-11-04T22:54:28.995Z"
      },
      {
        "duration": 141,
        "start_time": "2024-11-04T22:54:29.008Z"
      },
      {
        "duration": 10,
        "start_time": "2024-11-04T22:54:29.152Z"
      },
      {
        "duration": 11,
        "start_time": "2024-11-04T22:54:29.164Z"
      },
      {
        "duration": 125,
        "start_time": "2024-11-04T22:54:29.177Z"
      },
      {
        "duration": 329,
        "start_time": "2024-11-04T22:54:29.304Z"
      },
      {
        "duration": 17,
        "start_time": "2024-11-04T22:54:29.643Z"
      },
      {
        "duration": 6,
        "start_time": "2024-11-04T22:54:29.662Z"
      },
      {
        "duration": 9,
        "start_time": "2024-11-04T22:54:29.671Z"
      },
      {
        "duration": 15,
        "start_time": "2024-11-04T22:54:29.682Z"
      },
      {
        "duration": 12,
        "start_time": "2024-11-04T22:54:29.699Z"
      },
      {
        "duration": 8,
        "start_time": "2024-11-04T22:54:29.744Z"
      },
      {
        "duration": 12,
        "start_time": "2024-11-04T22:54:29.754Z"
      },
      {
        "duration": 190,
        "start_time": "2024-11-04T22:54:29.767Z"
      },
      {
        "duration": 4,
        "start_time": "2024-11-04T22:54:29.959Z"
      },
      {
        "duration": 14,
        "start_time": "2024-11-04T22:54:29.970Z"
      },
      {
        "duration": 6,
        "start_time": "2024-11-04T22:54:29.986Z"
      },
      {
        "duration": 5,
        "start_time": "2024-11-04T22:54:29.994Z"
      },
      {
        "duration": 52,
        "start_time": "2024-11-04T22:54:30.000Z"
      },
      {
        "duration": 13,
        "start_time": "2024-11-04T22:54:30.054Z"
      },
      {
        "duration": 98,
        "start_time": "2024-11-04T22:54:30.069Z"
      },
      {
        "duration": 19,
        "start_time": "2024-11-04T22:54:30.169Z"
      },
      {
        "duration": 16,
        "start_time": "2024-11-04T22:54:30.190Z"
      },
      {
        "duration": 104,
        "start_time": "2024-11-04T22:54:30.208Z"
      },
      {
        "duration": 134,
        "start_time": "2024-11-04T22:54:30.315Z"
      },
      {
        "duration": 15,
        "start_time": "2024-11-04T22:54:30.451Z"
      },
      {
        "duration": 19,
        "start_time": "2024-11-04T22:54:30.468Z"
      },
      {
        "duration": 6,
        "start_time": "2024-11-04T22:54:30.489Z"
      },
      {
        "duration": 4,
        "start_time": "2024-11-04T22:54:30.498Z"
      },
      {
        "duration": 17,
        "start_time": "2024-11-04T22:54:30.509Z"
      },
      {
        "duration": 14,
        "start_time": "2024-11-04T22:54:30.546Z"
      },
      {
        "duration": 6,
        "start_time": "2024-11-04T22:54:30.563Z"
      },
      {
        "duration": 8,
        "start_time": "2024-11-04T22:54:30.571Z"
      },
      {
        "duration": 0,
        "start_time": "2024-11-04T22:54:30.581Z"
      },
      {
        "duration": 0,
        "start_time": "2024-11-04T22:54:30.583Z"
      },
      {
        "duration": 0,
        "start_time": "2024-11-04T22:54:30.584Z"
      },
      {
        "duration": 0,
        "start_time": "2024-11-04T22:54:30.586Z"
      },
      {
        "duration": 0,
        "start_time": "2024-11-04T22:54:30.588Z"
      },
      {
        "duration": 0,
        "start_time": "2024-11-04T22:54:30.589Z"
      },
      {
        "duration": 878,
        "start_time": "2024-11-04T22:55:41.330Z"
      },
      {
        "duration": 16,
        "start_time": "2024-11-04T22:57:32.877Z"
      },
      {
        "duration": 7,
        "start_time": "2024-11-04T22:57:39.090Z"
      },
      {
        "duration": 13,
        "start_time": "2024-11-04T22:57:48.970Z"
      },
      {
        "duration": 4,
        "start_time": "2024-11-04T22:58:23.797Z"
      },
      {
        "duration": 2557,
        "start_time": "2024-11-05T03:35:14.566Z"
      },
      {
        "duration": 77,
        "start_time": "2024-11-05T03:35:17.125Z"
      },
      {
        "duration": 10,
        "start_time": "2024-11-05T03:35:17.205Z"
      },
      {
        "duration": 8,
        "start_time": "2024-11-05T03:35:17.217Z"
      },
      {
        "duration": 8,
        "start_time": "2024-11-05T03:35:17.227Z"
      },
      {
        "duration": 5,
        "start_time": "2024-11-05T03:35:17.237Z"
      },
      {
        "duration": 28,
        "start_time": "2024-11-05T03:35:17.243Z"
      },
      {
        "duration": 13,
        "start_time": "2024-11-05T03:35:17.273Z"
      },
      {
        "duration": 8,
        "start_time": "2024-11-05T03:35:17.288Z"
      },
      {
        "duration": 15,
        "start_time": "2024-11-05T03:35:17.298Z"
      },
      {
        "duration": 3,
        "start_time": "2024-11-05T03:35:17.315Z"
      },
      {
        "duration": 2,
        "start_time": "2024-11-05T03:35:17.319Z"
      },
      {
        "duration": 2,
        "start_time": "2024-11-05T03:35:17.323Z"
      },
      {
        "duration": 45,
        "start_time": "2024-11-05T03:35:17.329Z"
      },
      {
        "duration": 3,
        "start_time": "2024-11-05T03:35:17.376Z"
      },
      {
        "duration": 5,
        "start_time": "2024-11-05T03:35:17.380Z"
      },
      {
        "duration": 9,
        "start_time": "2024-11-05T03:35:17.386Z"
      },
      {
        "duration": 10,
        "start_time": "2024-11-05T03:35:17.397Z"
      },
      {
        "duration": 6,
        "start_time": "2024-11-05T03:35:17.409Z"
      },
      {
        "duration": 56,
        "start_time": "2024-11-05T03:35:17.416Z"
      },
      {
        "duration": 15,
        "start_time": "2024-11-05T03:35:17.476Z"
      },
      {
        "duration": 10,
        "start_time": "2024-11-05T03:35:17.492Z"
      },
      {
        "duration": 14,
        "start_time": "2024-11-05T03:35:17.504Z"
      },
      {
        "duration": 12,
        "start_time": "2024-11-05T03:35:17.520Z"
      },
      {
        "duration": 8,
        "start_time": "2024-11-05T03:35:17.533Z"
      },
      {
        "duration": 8,
        "start_time": "2024-11-05T03:35:17.570Z"
      },
      {
        "duration": 91,
        "start_time": "2024-11-05T03:35:17.580Z"
      },
      {
        "duration": 7,
        "start_time": "2024-11-05T03:35:17.673Z"
      },
      {
        "duration": 8,
        "start_time": "2024-11-05T03:35:17.682Z"
      },
      {
        "duration": 92,
        "start_time": "2024-11-05T03:35:17.691Z"
      },
      {
        "duration": 212,
        "start_time": "2024-11-05T03:35:17.785Z"
      },
      {
        "duration": 12,
        "start_time": "2024-11-05T03:35:17.999Z"
      },
      {
        "duration": 5,
        "start_time": "2024-11-05T03:35:18.012Z"
      },
      {
        "duration": 7,
        "start_time": "2024-11-05T03:35:18.019Z"
      },
      {
        "duration": 10,
        "start_time": "2024-11-05T03:35:18.028Z"
      },
      {
        "duration": 36,
        "start_time": "2024-11-05T03:35:18.040Z"
      },
      {
        "duration": 6,
        "start_time": "2024-11-05T03:35:18.078Z"
      },
      {
        "duration": 10,
        "start_time": "2024-11-05T03:35:18.087Z"
      },
      {
        "duration": 152,
        "start_time": "2024-11-05T03:35:18.099Z"
      },
      {
        "duration": 4,
        "start_time": "2024-11-05T03:35:18.253Z"
      },
      {
        "duration": 12,
        "start_time": "2024-11-05T03:35:18.272Z"
      },
      {
        "duration": 5,
        "start_time": "2024-11-05T03:35:18.286Z"
      },
      {
        "duration": 4,
        "start_time": "2024-11-05T03:35:18.292Z"
      },
      {
        "duration": 11,
        "start_time": "2024-11-05T03:35:18.297Z"
      },
      {
        "duration": 8,
        "start_time": "2024-11-05T03:35:18.310Z"
      },
      {
        "duration": 109,
        "start_time": "2024-11-05T03:35:18.319Z"
      },
      {
        "duration": 13,
        "start_time": "2024-11-05T03:35:18.430Z"
      },
      {
        "duration": 26,
        "start_time": "2024-11-05T03:35:18.445Z"
      },
      {
        "duration": 140,
        "start_time": "2024-11-05T03:35:18.473Z"
      },
      {
        "duration": 125,
        "start_time": "2024-11-05T03:35:18.615Z"
      },
      {
        "duration": 13,
        "start_time": "2024-11-05T03:35:18.742Z"
      },
      {
        "duration": 23,
        "start_time": "2024-11-05T03:35:18.756Z"
      },
      {
        "duration": 5,
        "start_time": "2024-11-05T03:35:18.780Z"
      },
      {
        "duration": 3,
        "start_time": "2024-11-05T03:35:18.786Z"
      },
      {
        "duration": 9,
        "start_time": "2024-11-05T03:35:18.791Z"
      },
      {
        "duration": 10,
        "start_time": "2024-11-05T03:35:18.802Z"
      },
      {
        "duration": 5,
        "start_time": "2024-11-05T03:35:18.813Z"
      },
      {
        "duration": 5,
        "start_time": "2024-11-05T03:35:18.820Z"
      },
      {
        "duration": 49,
        "start_time": "2024-11-05T03:35:18.827Z"
      },
      {
        "duration": 224,
        "start_time": "2024-11-05T03:35:18.878Z"
      },
      {
        "duration": 0,
        "start_time": "2024-11-05T03:35:19.103Z"
      },
      {
        "duration": 0,
        "start_time": "2024-11-05T03:35:19.106Z"
      },
      {
        "duration": 0,
        "start_time": "2024-11-05T03:35:19.107Z"
      },
      {
        "duration": 0,
        "start_time": "2024-11-05T03:35:19.108Z"
      },
      {
        "duration": 19,
        "start_time": "2024-11-05T03:37:31.195Z"
      },
      {
        "duration": 11,
        "start_time": "2024-11-05T03:37:41.428Z"
      },
      {
        "duration": 11,
        "start_time": "2024-11-05T03:38:17.622Z"
      },
      {
        "duration": 21,
        "start_time": "2024-11-05T04:11:40.259Z"
      },
      {
        "duration": 12,
        "start_time": "2024-11-05T04:11:48.406Z"
      },
      {
        "duration": 5,
        "start_time": "2024-11-05T04:11:56.343Z"
      },
      {
        "duration": 11,
        "start_time": "2024-11-05T04:12:02.857Z"
      },
      {
        "duration": 13,
        "start_time": "2024-11-05T04:12:30.944Z"
      },
      {
        "duration": 821,
        "start_time": "2024-11-05T04:12:36.832Z"
      },
      {
        "duration": 42,
        "start_time": "2024-11-05T04:12:37.655Z"
      },
      {
        "duration": 9,
        "start_time": "2024-11-05T04:12:37.698Z"
      },
      {
        "duration": 8,
        "start_time": "2024-11-05T04:12:37.709Z"
      },
      {
        "duration": 10,
        "start_time": "2024-11-05T04:12:37.719Z"
      },
      {
        "duration": 6,
        "start_time": "2024-11-05T04:12:37.730Z"
      },
      {
        "duration": 34,
        "start_time": "2024-11-05T04:12:37.738Z"
      },
      {
        "duration": 13,
        "start_time": "2024-11-05T04:12:37.773Z"
      },
      {
        "duration": 9,
        "start_time": "2024-11-05T04:12:37.787Z"
      },
      {
        "duration": 16,
        "start_time": "2024-11-05T04:12:37.799Z"
      },
      {
        "duration": 3,
        "start_time": "2024-11-05T04:12:37.816Z"
      },
      {
        "duration": 2,
        "start_time": "2024-11-05T04:12:37.821Z"
      },
      {
        "duration": 2,
        "start_time": "2024-11-05T04:12:37.825Z"
      },
      {
        "duration": 45,
        "start_time": "2024-11-05T04:12:37.829Z"
      },
      {
        "duration": 3,
        "start_time": "2024-11-05T04:12:37.876Z"
      },
      {
        "duration": 5,
        "start_time": "2024-11-05T04:12:37.880Z"
      },
      {
        "duration": 10,
        "start_time": "2024-11-05T04:12:37.886Z"
      },
      {
        "duration": 8,
        "start_time": "2024-11-05T04:12:37.897Z"
      },
      {
        "duration": 6,
        "start_time": "2024-11-05T04:12:37.908Z"
      },
      {
        "duration": 56,
        "start_time": "2024-11-05T04:12:37.915Z"
      },
      {
        "duration": 14,
        "start_time": "2024-11-05T04:12:37.973Z"
      },
      {
        "duration": 8,
        "start_time": "2024-11-05T04:12:37.989Z"
      },
      {
        "duration": 14,
        "start_time": "2024-11-05T04:12:37.999Z"
      },
      {
        "duration": 11,
        "start_time": "2024-11-05T04:12:38.014Z"
      },
      {
        "duration": 6,
        "start_time": "2024-11-05T04:12:38.027Z"
      },
      {
        "duration": 7,
        "start_time": "2024-11-05T04:12:38.071Z"
      },
      {
        "duration": 90,
        "start_time": "2024-11-05T04:12:38.080Z"
      },
      {
        "duration": 7,
        "start_time": "2024-11-05T04:12:38.175Z"
      },
      {
        "duration": 8,
        "start_time": "2024-11-05T04:12:38.185Z"
      },
      {
        "duration": 87,
        "start_time": "2024-11-05T04:12:38.195Z"
      },
      {
        "duration": 264,
        "start_time": "2024-11-05T04:12:38.284Z"
      },
      {
        "duration": 22,
        "start_time": "2024-11-05T04:12:38.550Z"
      },
      {
        "duration": 4,
        "start_time": "2024-11-05T04:12:38.574Z"
      },
      {
        "duration": 8,
        "start_time": "2024-11-05T04:12:38.579Z"
      },
      {
        "duration": 9,
        "start_time": "2024-11-05T04:12:38.590Z"
      },
      {
        "duration": 7,
        "start_time": "2024-11-05T04:12:38.601Z"
      },
      {
        "duration": 6,
        "start_time": "2024-11-05T04:12:38.610Z"
      },
      {
        "duration": 10,
        "start_time": "2024-11-05T04:12:38.617Z"
      },
      {
        "duration": 171,
        "start_time": "2024-11-05T04:12:38.629Z"
      },
      {
        "duration": 4,
        "start_time": "2024-11-05T04:12:38.802Z"
      },
      {
        "duration": 11,
        "start_time": "2024-11-05T04:12:38.808Z"
      },
      {
        "duration": 5,
        "start_time": "2024-11-05T04:12:38.820Z"
      },
      {
        "duration": 3,
        "start_time": "2024-11-05T04:12:38.827Z"
      },
      {
        "duration": 37,
        "start_time": "2024-11-05T04:12:38.833Z"
      },
      {
        "duration": 8,
        "start_time": "2024-11-05T04:12:38.871Z"
      },
      {
        "duration": 71,
        "start_time": "2024-11-05T04:12:38.880Z"
      },
      {
        "duration": 13,
        "start_time": "2024-11-05T04:12:38.970Z"
      },
      {
        "duration": 12,
        "start_time": "2024-11-05T04:12:38.985Z"
      },
      {
        "duration": 92,
        "start_time": "2024-11-05T04:12:39.000Z"
      },
      {
        "duration": 130,
        "start_time": "2024-11-05T04:12:39.094Z"
      },
      {
        "duration": 12,
        "start_time": "2024-11-05T04:12:39.228Z"
      },
      {
        "duration": 9,
        "start_time": "2024-11-05T04:12:39.242Z"
      },
      {
        "duration": 19,
        "start_time": "2024-11-05T04:12:39.253Z"
      },
      {
        "duration": 3,
        "start_time": "2024-11-05T04:12:39.274Z"
      },
      {
        "duration": 10,
        "start_time": "2024-11-05T04:12:39.279Z"
      },
      {
        "duration": 10,
        "start_time": "2024-11-05T04:12:39.290Z"
      },
      {
        "duration": 5,
        "start_time": "2024-11-05T04:12:39.302Z"
      },
      {
        "duration": 6,
        "start_time": "2024-11-05T04:12:39.308Z"
      },
      {
        "duration": 11,
        "start_time": "2024-11-05T04:12:39.317Z"
      },
      {
        "duration": 49,
        "start_time": "2024-11-05T04:12:39.330Z"
      },
      {
        "duration": 12,
        "start_time": "2024-11-05T04:12:39.381Z"
      },
      {
        "duration": 3,
        "start_time": "2024-11-05T04:12:39.395Z"
      },
      {
        "duration": 4,
        "start_time": "2024-11-05T04:12:39.400Z"
      },
      {
        "duration": 15,
        "start_time": "2024-11-05T04:12:39.405Z"
      },
      {
        "duration": 801,
        "start_time": "2024-11-05T04:12:59.741Z"
      },
      {
        "duration": 41,
        "start_time": "2024-11-05T04:13:00.544Z"
      },
      {
        "duration": 10,
        "start_time": "2024-11-05T04:13:00.587Z"
      },
      {
        "duration": 8,
        "start_time": "2024-11-05T04:13:00.598Z"
      },
      {
        "duration": 9,
        "start_time": "2024-11-05T04:13:00.608Z"
      },
      {
        "duration": 4,
        "start_time": "2024-11-05T04:13:00.619Z"
      },
      {
        "duration": 5,
        "start_time": "2024-11-05T04:13:00.625Z"
      },
      {
        "duration": 45,
        "start_time": "2024-11-05T04:13:00.631Z"
      },
      {
        "duration": 9,
        "start_time": "2024-11-05T04:13:00.677Z"
      },
      {
        "duration": 17,
        "start_time": "2024-11-05T04:13:00.687Z"
      },
      {
        "duration": 3,
        "start_time": "2024-11-05T04:13:00.706Z"
      },
      {
        "duration": 2,
        "start_time": "2024-11-05T04:13:00.710Z"
      },
      {
        "duration": 2,
        "start_time": "2024-11-05T04:13:00.714Z"
      },
      {
        "duration": 8,
        "start_time": "2024-11-05T04:13:00.720Z"
      },
      {
        "duration": 40,
        "start_time": "2024-11-05T04:13:00.731Z"
      },
      {
        "duration": 6,
        "start_time": "2024-11-05T04:13:00.772Z"
      },
      {
        "duration": 9,
        "start_time": "2024-11-05T04:13:00.779Z"
      },
      {
        "duration": 9,
        "start_time": "2024-11-05T04:13:00.790Z"
      },
      {
        "duration": 7,
        "start_time": "2024-11-05T04:13:00.800Z"
      },
      {
        "duration": 20,
        "start_time": "2024-11-05T04:13:00.808Z"
      },
      {
        "duration": 45,
        "start_time": "2024-11-05T04:13:00.830Z"
      },
      {
        "duration": 7,
        "start_time": "2024-11-05T04:13:00.877Z"
      },
      {
        "duration": 14,
        "start_time": "2024-11-05T04:13:00.886Z"
      },
      {
        "duration": 12,
        "start_time": "2024-11-05T04:13:00.903Z"
      },
      {
        "duration": 7,
        "start_time": "2024-11-05T04:13:00.916Z"
      },
      {
        "duration": 8,
        "start_time": "2024-11-05T04:13:00.925Z"
      },
      {
        "duration": 109,
        "start_time": "2024-11-05T04:13:00.936Z"
      },
      {
        "duration": 8,
        "start_time": "2024-11-05T04:13:01.047Z"
      },
      {
        "duration": 11,
        "start_time": "2024-11-05T04:13:01.070Z"
      },
      {
        "duration": 89,
        "start_time": "2024-11-05T04:13:01.083Z"
      },
      {
        "duration": 281,
        "start_time": "2024-11-05T04:13:01.175Z"
      },
      {
        "duration": 19,
        "start_time": "2024-11-05T04:13:01.458Z"
      },
      {
        "duration": 4,
        "start_time": "2024-11-05T04:13:01.479Z"
      },
      {
        "duration": 8,
        "start_time": "2024-11-05T04:13:01.484Z"
      },
      {
        "duration": 9,
        "start_time": "2024-11-05T04:13:01.494Z"
      },
      {
        "duration": 7,
        "start_time": "2024-11-05T04:13:01.505Z"
      },
      {
        "duration": 6,
        "start_time": "2024-11-05T04:13:01.514Z"
      },
      {
        "duration": 10,
        "start_time": "2024-11-05T04:13:01.522Z"
      },
      {
        "duration": 143,
        "start_time": "2024-11-05T04:13:01.571Z"
      },
      {
        "duration": 7,
        "start_time": "2024-11-05T04:13:01.716Z"
      },
      {
        "duration": 11,
        "start_time": "2024-11-05T04:13:01.728Z"
      },
      {
        "duration": 5,
        "start_time": "2024-11-05T04:13:01.741Z"
      },
      {
        "duration": 24,
        "start_time": "2024-11-05T04:13:01.748Z"
      },
      {
        "duration": 12,
        "start_time": "2024-11-05T04:13:01.773Z"
      },
      {
        "duration": 9,
        "start_time": "2024-11-05T04:13:01.787Z"
      },
      {
        "duration": 91,
        "start_time": "2024-11-05T04:13:01.797Z"
      },
      {
        "duration": 15,
        "start_time": "2024-11-05T04:13:01.890Z"
      },
      {
        "duration": 13,
        "start_time": "2024-11-05T04:13:01.906Z"
      },
      {
        "duration": 95,
        "start_time": "2024-11-05T04:13:01.921Z"
      },
      {
        "duration": 122,
        "start_time": "2024-11-05T04:13:02.017Z"
      },
      {
        "duration": 11,
        "start_time": "2024-11-05T04:13:02.141Z"
      },
      {
        "duration": 24,
        "start_time": "2024-11-05T04:13:02.154Z"
      },
      {
        "duration": 5,
        "start_time": "2024-11-05T04:13:02.180Z"
      },
      {
        "duration": 3,
        "start_time": "2024-11-05T04:13:02.187Z"
      },
      {
        "duration": 10,
        "start_time": "2024-11-05T04:13:02.192Z"
      },
      {
        "duration": 12,
        "start_time": "2024-11-05T04:13:02.203Z"
      },
      {
        "duration": 5,
        "start_time": "2024-11-05T04:13:02.218Z"
      },
      {
        "duration": 7,
        "start_time": "2024-11-05T04:13:02.225Z"
      },
      {
        "duration": 44,
        "start_time": "2024-11-05T04:13:02.233Z"
      },
      {
        "duration": 13,
        "start_time": "2024-11-05T04:13:02.279Z"
      },
      {
        "duration": 13,
        "start_time": "2024-11-05T04:13:02.293Z"
      },
      {
        "duration": 4,
        "start_time": "2024-11-05T04:13:02.307Z"
      },
      {
        "duration": 3,
        "start_time": "2024-11-05T04:13:02.313Z"
      },
      {
        "duration": 16,
        "start_time": "2024-11-05T04:13:02.318Z"
      },
      {
        "duration": 11,
        "start_time": "2024-11-05T04:13:25.812Z"
      },
      {
        "duration": 11,
        "start_time": "2024-11-05T04:13:43.040Z"
      },
      {
        "duration": 12,
        "start_time": "2024-11-05T04:13:52.769Z"
      },
      {
        "duration": 11,
        "start_time": "2024-11-05T04:14:11.562Z"
      },
      {
        "duration": 12,
        "start_time": "2024-11-05T04:14:17.530Z"
      },
      {
        "duration": 385,
        "start_time": "2024-11-05T04:14:57.391Z"
      },
      {
        "duration": 11,
        "start_time": "2024-11-05T04:15:04.971Z"
      },
      {
        "duration": 10,
        "start_time": "2024-11-05T04:15:33.756Z"
      },
      {
        "duration": 5,
        "start_time": "2024-11-05T04:16:01.462Z"
      },
      {
        "duration": 5,
        "start_time": "2024-11-05T04:16:52.451Z"
      },
      {
        "duration": 36,
        "start_time": "2024-11-05T04:25:07.750Z"
      },
      {
        "duration": 51,
        "start_time": "2024-11-05T04:27:26.733Z"
      },
      {
        "duration": 2,
        "start_time": "2024-11-05T04:28:01.051Z"
      },
      {
        "duration": 15,
        "start_time": "2024-11-05T04:28:31.657Z"
      },
      {
        "duration": 38,
        "start_time": "2024-11-05T04:30:50.819Z"
      },
      {
        "duration": 2536,
        "start_time": "2024-11-05T13:30:32.360Z"
      },
      {
        "duration": 76,
        "start_time": "2024-11-05T13:30:34.898Z"
      },
      {
        "duration": 9,
        "start_time": "2024-11-05T13:30:34.976Z"
      },
      {
        "duration": 8,
        "start_time": "2024-11-05T13:30:34.987Z"
      },
      {
        "duration": 9,
        "start_time": "2024-11-05T13:30:34.997Z"
      },
      {
        "duration": 5,
        "start_time": "2024-11-05T13:30:35.008Z"
      },
      {
        "duration": 5,
        "start_time": "2024-11-05T13:30:35.023Z"
      },
      {
        "duration": 12,
        "start_time": "2024-11-05T13:30:35.029Z"
      },
      {
        "duration": 9,
        "start_time": "2024-11-05T13:30:35.042Z"
      },
      {
        "duration": 16,
        "start_time": "2024-11-05T13:30:35.053Z"
      },
      {
        "duration": 2,
        "start_time": "2024-11-05T13:30:35.071Z"
      },
      {
        "duration": 3,
        "start_time": "2024-11-05T13:30:35.075Z"
      },
      {
        "duration": 2,
        "start_time": "2024-11-05T13:30:35.080Z"
      },
      {
        "duration": 8,
        "start_time": "2024-11-05T13:30:35.123Z"
      },
      {
        "duration": 3,
        "start_time": "2024-11-05T13:30:35.133Z"
      },
      {
        "duration": 6,
        "start_time": "2024-11-05T13:30:35.138Z"
      },
      {
        "duration": 11,
        "start_time": "2024-11-05T13:30:35.145Z"
      },
      {
        "duration": 9,
        "start_time": "2024-11-05T13:30:35.157Z"
      },
      {
        "duration": 5,
        "start_time": "2024-11-05T13:30:35.168Z"
      },
      {
        "duration": 56,
        "start_time": "2024-11-05T13:30:35.175Z"
      },
      {
        "duration": 13,
        "start_time": "2024-11-05T13:30:35.233Z"
      },
      {
        "duration": 9,
        "start_time": "2024-11-05T13:30:35.247Z"
      },
      {
        "duration": 14,
        "start_time": "2024-11-05T13:30:35.257Z"
      },
      {
        "duration": 14,
        "start_time": "2024-11-05T13:30:35.273Z"
      },
      {
        "duration": 8,
        "start_time": "2024-11-05T13:30:35.288Z"
      },
      {
        "duration": 9,
        "start_time": "2024-11-05T13:30:35.325Z"
      },
      {
        "duration": 96,
        "start_time": "2024-11-05T13:30:35.335Z"
      },
      {
        "duration": 7,
        "start_time": "2024-11-05T13:30:35.433Z"
      },
      {
        "duration": 8,
        "start_time": "2024-11-05T13:30:35.442Z"
      },
      {
        "duration": 91,
        "start_time": "2024-11-05T13:30:35.452Z"
      },
      {
        "duration": 211,
        "start_time": "2024-11-05T13:30:35.545Z"
      },
      {
        "duration": 12,
        "start_time": "2024-11-05T13:30:35.757Z"
      },
      {
        "duration": 4,
        "start_time": "2024-11-05T13:30:35.771Z"
      },
      {
        "duration": 9,
        "start_time": "2024-11-05T13:30:35.777Z"
      },
      {
        "duration": 39,
        "start_time": "2024-11-05T13:30:35.787Z"
      },
      {
        "duration": 9,
        "start_time": "2024-11-05T13:30:35.827Z"
      },
      {
        "duration": 7,
        "start_time": "2024-11-05T13:30:35.837Z"
      },
      {
        "duration": 11,
        "start_time": "2024-11-05T13:30:35.846Z"
      },
      {
        "duration": 147,
        "start_time": "2024-11-05T13:30:35.859Z"
      },
      {
        "duration": 4,
        "start_time": "2024-11-05T13:30:36.007Z"
      },
      {
        "duration": 12,
        "start_time": "2024-11-05T13:30:36.027Z"
      },
      {
        "duration": 5,
        "start_time": "2024-11-05T13:30:36.040Z"
      },
      {
        "duration": 4,
        "start_time": "2024-11-05T13:30:36.046Z"
      },
      {
        "duration": 11,
        "start_time": "2024-11-05T13:30:36.051Z"
      },
      {
        "duration": 7,
        "start_time": "2024-11-05T13:30:36.064Z"
      },
      {
        "duration": 164,
        "start_time": "2024-11-05T13:30:36.073Z"
      },
      {
        "duration": 11,
        "start_time": "2024-11-05T13:30:36.239Z"
      },
      {
        "duration": 11,
        "start_time": "2024-11-05T13:30:36.252Z"
      },
      {
        "duration": 92,
        "start_time": "2024-11-05T13:30:36.264Z"
      },
      {
        "duration": 123,
        "start_time": "2024-11-05T13:30:36.358Z"
      },
      {
        "duration": 12,
        "start_time": "2024-11-05T13:30:36.482Z"
      },
      {
        "duration": 9,
        "start_time": "2024-11-05T13:30:36.496Z"
      },
      {
        "duration": 20,
        "start_time": "2024-11-05T13:30:36.507Z"
      },
      {
        "duration": 3,
        "start_time": "2024-11-05T13:30:36.529Z"
      },
      {
        "duration": 10,
        "start_time": "2024-11-05T13:30:36.534Z"
      },
      {
        "duration": 12,
        "start_time": "2024-11-05T13:30:36.545Z"
      },
      {
        "duration": 8,
        "start_time": "2024-11-05T13:30:36.559Z"
      },
      {
        "duration": 8,
        "start_time": "2024-11-05T13:30:36.568Z"
      },
      {
        "duration": 47,
        "start_time": "2024-11-05T13:30:36.579Z"
      },
      {
        "duration": 11,
        "start_time": "2024-11-05T13:30:36.627Z"
      },
      {
        "duration": 5,
        "start_time": "2024-11-05T13:30:36.640Z"
      },
      {
        "duration": 12,
        "start_time": "2024-11-05T13:30:36.647Z"
      },
      {
        "duration": 3,
        "start_time": "2024-11-05T13:30:36.661Z"
      },
      {
        "duration": 3,
        "start_time": "2024-11-05T13:30:36.666Z"
      },
      {
        "duration": 14,
        "start_time": "2024-11-05T13:30:36.671Z"
      },
      {
        "duration": 74,
        "start_time": "2024-11-05T13:30:36.686Z"
      },
      {
        "duration": 15,
        "start_time": "2024-11-05T13:30:36.762Z"
      },
      {
        "duration": 642,
        "start_time": "2024-11-05T14:15:15.692Z"
      },
      {
        "duration": 796,
        "start_time": "2024-11-05T14:15:28.524Z"
      },
      {
        "duration": 41,
        "start_time": "2024-11-05T14:15:29.323Z"
      },
      {
        "duration": 9,
        "start_time": "2024-11-05T14:15:29.366Z"
      },
      {
        "duration": 8,
        "start_time": "2024-11-05T14:15:29.378Z"
      },
      {
        "duration": 11,
        "start_time": "2024-11-05T14:15:29.388Z"
      },
      {
        "duration": 25,
        "start_time": "2024-11-05T14:15:29.401Z"
      },
      {
        "duration": 5,
        "start_time": "2024-11-05T14:15:29.428Z"
      },
      {
        "duration": 12,
        "start_time": "2024-11-05T14:15:29.435Z"
      },
      {
        "duration": 8,
        "start_time": "2024-11-05T14:15:29.449Z"
      },
      {
        "duration": 16,
        "start_time": "2024-11-05T14:15:29.460Z"
      },
      {
        "duration": 3,
        "start_time": "2024-11-05T14:15:29.477Z"
      },
      {
        "duration": 43,
        "start_time": "2024-11-05T14:15:29.481Z"
      },
      {
        "duration": 4,
        "start_time": "2024-11-05T14:15:29.526Z"
      },
      {
        "duration": 5,
        "start_time": "2024-11-05T14:15:29.532Z"
      },
      {
        "duration": 10,
        "start_time": "2024-11-05T14:15:29.539Z"
      },
      {
        "duration": 9,
        "start_time": "2024-11-05T14:15:29.550Z"
      },
      {
        "duration": 5,
        "start_time": "2024-11-05T14:15:29.561Z"
      },
      {
        "duration": 18,
        "start_time": "2024-11-05T14:15:29.567Z"
      },
      {
        "duration": 50,
        "start_time": "2024-11-05T14:15:29.586Z"
      },
      {
        "duration": 9,
        "start_time": "2024-11-05T14:15:29.637Z"
      },
      {
        "duration": 14,
        "start_time": "2024-11-05T14:15:29.647Z"
      },
      {
        "duration": 11,
        "start_time": "2024-11-05T14:15:29.663Z"
      },
      {
        "duration": 6,
        "start_time": "2024-11-05T14:15:29.676Z"
      },
      {
        "duration": 41,
        "start_time": "2024-11-05T14:15:29.684Z"
      },
      {
        "duration": 77,
        "start_time": "2024-11-05T14:15:29.727Z"
      },
      {
        "duration": 19,
        "start_time": "2024-11-05T14:15:29.806Z"
      },
      {
        "duration": 9,
        "start_time": "2024-11-05T14:15:29.826Z"
      },
      {
        "duration": 88,
        "start_time": "2024-11-05T14:15:29.840Z"
      },
      {
        "duration": 12,
        "start_time": "2024-11-05T14:15:29.930Z"
      },
      {
        "duration": 5,
        "start_time": "2024-11-05T14:15:29.943Z"
      },
      {
        "duration": 8,
        "start_time": "2024-11-05T14:15:29.950Z"
      },
      {
        "duration": 10,
        "start_time": "2024-11-05T14:15:29.959Z"
      },
      {
        "duration": 8,
        "start_time": "2024-11-05T14:15:29.971Z"
      },
      {
        "duration": 45,
        "start_time": "2024-11-05T14:15:29.980Z"
      },
      {
        "duration": 10,
        "start_time": "2024-11-05T14:15:30.026Z"
      },
      {
        "duration": 183,
        "start_time": "2024-11-05T14:15:30.038Z"
      },
      {
        "duration": 3,
        "start_time": "2024-11-05T14:15:30.223Z"
      },
      {
        "duration": 11,
        "start_time": "2024-11-05T14:15:30.228Z"
      },
      {
        "duration": 5,
        "start_time": "2024-11-05T14:15:30.240Z"
      },
      {
        "duration": 3,
        "start_time": "2024-11-05T14:15:30.247Z"
      },
      {
        "duration": 11,
        "start_time": "2024-11-05T14:15:30.252Z"
      },
      {
        "duration": 7,
        "start_time": "2024-11-05T14:15:30.265Z"
      },
      {
        "duration": 111,
        "start_time": "2024-11-05T14:15:30.274Z"
      },
      {
        "duration": 11,
        "start_time": "2024-11-05T14:15:30.387Z"
      },
      {
        "duration": 25,
        "start_time": "2024-11-05T14:15:30.400Z"
      },
      {
        "duration": 81,
        "start_time": "2024-11-05T14:15:30.427Z"
      },
      {
        "duration": 137,
        "start_time": "2024-11-05T14:15:30.510Z"
      },
      {
        "duration": 11,
        "start_time": "2024-11-05T14:15:30.649Z"
      },
      {
        "duration": 10,
        "start_time": "2024-11-05T14:15:30.661Z"
      },
      {
        "duration": 4,
        "start_time": "2024-11-05T14:15:30.673Z"
      },
      {
        "duration": 4,
        "start_time": "2024-11-05T14:15:30.679Z"
      },
      {
        "duration": 41,
        "start_time": "2024-11-05T14:15:30.684Z"
      },
      {
        "duration": 9,
        "start_time": "2024-11-05T14:15:30.727Z"
      },
      {
        "duration": 5,
        "start_time": "2024-11-05T14:15:30.737Z"
      },
      {
        "duration": 7,
        "start_time": "2024-11-05T14:15:30.743Z"
      },
      {
        "duration": 9,
        "start_time": "2024-11-05T14:15:30.752Z"
      },
      {
        "duration": 11,
        "start_time": "2024-11-05T14:15:30.762Z"
      },
      {
        "duration": 4,
        "start_time": "2024-11-05T14:15:30.775Z"
      },
      {
        "duration": 54,
        "start_time": "2024-11-05T14:15:30.780Z"
      },
      {
        "duration": 4,
        "start_time": "2024-11-05T14:15:30.835Z"
      },
      {
        "duration": 3,
        "start_time": "2024-11-05T14:15:30.841Z"
      },
      {
        "duration": 15,
        "start_time": "2024-11-05T14:15:30.846Z"
      },
      {
        "duration": 65,
        "start_time": "2024-11-05T14:15:30.863Z"
      },
      {
        "duration": 15,
        "start_time": "2024-11-05T14:15:30.930Z"
      },
      {
        "duration": 616,
        "start_time": "2024-11-05T16:21:43.950Z"
      },
      {
        "duration": 789,
        "start_time": "2024-11-05T16:21:56.302Z"
      },
      {
        "duration": 43,
        "start_time": "2024-11-05T16:21:57.093Z"
      },
      {
        "duration": 8,
        "start_time": "2024-11-05T16:21:57.138Z"
      },
      {
        "duration": 8,
        "start_time": "2024-11-05T16:21:57.148Z"
      },
      {
        "duration": 9,
        "start_time": "2024-11-05T16:21:57.158Z"
      },
      {
        "duration": 6,
        "start_time": "2024-11-05T16:21:57.168Z"
      },
      {
        "duration": 5,
        "start_time": "2024-11-05T16:21:57.175Z"
      },
      {
        "duration": 42,
        "start_time": "2024-11-05T16:21:57.182Z"
      },
      {
        "duration": 9,
        "start_time": "2024-11-05T16:21:57.225Z"
      },
      {
        "duration": 17,
        "start_time": "2024-11-05T16:21:57.236Z"
      },
      {
        "duration": 3,
        "start_time": "2024-11-05T16:21:57.254Z"
      },
      {
        "duration": 8,
        "start_time": "2024-11-05T16:21:57.259Z"
      },
      {
        "duration": 4,
        "start_time": "2024-11-05T16:21:57.268Z"
      },
      {
        "duration": 5,
        "start_time": "2024-11-05T16:21:57.275Z"
      },
      {
        "duration": 46,
        "start_time": "2024-11-05T16:21:57.281Z"
      },
      {
        "duration": 9,
        "start_time": "2024-11-05T16:21:57.329Z"
      },
      {
        "duration": 5,
        "start_time": "2024-11-05T16:21:57.340Z"
      },
      {
        "duration": 18,
        "start_time": "2024-11-05T16:21:57.346Z"
      },
      {
        "duration": 13,
        "start_time": "2024-11-05T16:21:57.365Z"
      },
      {
        "duration": 8,
        "start_time": "2024-11-05T16:21:57.380Z"
      },
      {
        "duration": 42,
        "start_time": "2024-11-05T16:21:57.390Z"
      },
      {
        "duration": 13,
        "start_time": "2024-11-05T16:21:57.433Z"
      },
      {
        "duration": 7,
        "start_time": "2024-11-05T16:21:57.447Z"
      },
      {
        "duration": 8,
        "start_time": "2024-11-05T16:21:57.456Z"
      },
      {
        "duration": 104,
        "start_time": "2024-11-05T16:21:57.466Z"
      },
      {
        "duration": 7,
        "start_time": "2024-11-05T16:21:57.572Z"
      },
      {
        "duration": 9,
        "start_time": "2024-11-05T16:21:57.581Z"
      },
      {
        "duration": 89,
        "start_time": "2024-11-05T16:21:57.592Z"
      },
      {
        "duration": 13,
        "start_time": "2024-11-05T16:21:57.683Z"
      },
      {
        "duration": 5,
        "start_time": "2024-11-05T16:21:57.697Z"
      },
      {
        "duration": 25,
        "start_time": "2024-11-05T16:21:57.704Z"
      },
      {
        "duration": 10,
        "start_time": "2024-11-05T16:21:57.732Z"
      },
      {
        "duration": 9,
        "start_time": "2024-11-05T16:21:57.743Z"
      },
      {
        "duration": 6,
        "start_time": "2024-11-05T16:21:57.753Z"
      },
      {
        "duration": 95,
        "start_time": "2024-11-05T16:21:57.761Z"
      },
      {
        "duration": 139,
        "start_time": "2024-11-05T16:21:57.858Z"
      },
      {
        "duration": 11,
        "start_time": "2024-11-05T16:21:57.999Z"
      },
      {
        "duration": 15,
        "start_time": "2024-11-05T16:21:58.012Z"
      },
      {
        "duration": 12,
        "start_time": "2024-11-05T16:21:58.030Z"
      },
      {
        "duration": 8,
        "start_time": "2024-11-05T16:21:58.044Z"
      },
      {
        "duration": 90,
        "start_time": "2024-11-05T16:21:58.057Z"
      },
      {
        "duration": 12,
        "start_time": "2024-11-05T16:21:58.148Z"
      },
      {
        "duration": 11,
        "start_time": "2024-11-05T16:21:58.162Z"
      },
      {
        "duration": 96,
        "start_time": "2024-11-05T16:21:58.174Z"
      },
      {
        "duration": 131,
        "start_time": "2024-11-05T16:21:58.271Z"
      },
      {
        "duration": 20,
        "start_time": "2024-11-05T16:21:58.405Z"
      },
      {
        "duration": 10,
        "start_time": "2024-11-05T16:21:58.426Z"
      },
      {
        "duration": 5,
        "start_time": "2024-11-05T16:21:58.437Z"
      },
      {
        "duration": 3,
        "start_time": "2024-11-05T16:21:58.444Z"
      },
      {
        "duration": 9,
        "start_time": "2024-11-05T16:21:58.449Z"
      },
      {
        "duration": 9,
        "start_time": "2024-11-05T16:21:58.460Z"
      },
      {
        "duration": 6,
        "start_time": "2024-11-05T16:21:58.470Z"
      },
      {
        "duration": 46,
        "start_time": "2024-11-05T16:21:58.478Z"
      },
      {
        "duration": 9,
        "start_time": "2024-11-05T16:21:58.525Z"
      },
      {
        "duration": 11,
        "start_time": "2024-11-05T16:21:58.536Z"
      },
      {
        "duration": 4,
        "start_time": "2024-11-05T16:21:58.548Z"
      },
      {
        "duration": 13,
        "start_time": "2024-11-05T16:21:58.554Z"
      },
      {
        "duration": 5,
        "start_time": "2024-11-05T16:21:58.569Z"
      },
      {
        "duration": 2,
        "start_time": "2024-11-05T16:21:58.576Z"
      },
      {
        "duration": 52,
        "start_time": "2024-11-05T16:21:58.580Z"
      },
      {
        "duration": 39,
        "start_time": "2024-11-05T16:21:58.634Z"
      },
      {
        "duration": 14,
        "start_time": "2024-11-05T16:21:58.675Z"
      },
      {
        "duration": 4,
        "start_time": "2024-11-05T16:27:13.738Z"
      },
      {
        "duration": 852,
        "start_time": "2024-11-05T16:43:13.250Z"
      },
      {
        "duration": 49,
        "start_time": "2024-11-05T16:43:14.104Z"
      },
      {
        "duration": 9,
        "start_time": "2024-11-05T16:43:14.155Z"
      },
      {
        "duration": 8,
        "start_time": "2024-11-05T16:43:14.166Z"
      },
      {
        "duration": 10,
        "start_time": "2024-11-05T16:43:14.177Z"
      },
      {
        "duration": 5,
        "start_time": "2024-11-05T16:43:14.188Z"
      },
      {
        "duration": 30,
        "start_time": "2024-11-05T16:43:14.195Z"
      },
      {
        "duration": 12,
        "start_time": "2024-11-05T16:43:14.227Z"
      },
      {
        "duration": 8,
        "start_time": "2024-11-05T16:43:14.241Z"
      },
      {
        "duration": 17,
        "start_time": "2024-11-05T16:43:14.251Z"
      },
      {
        "duration": 3,
        "start_time": "2024-11-05T16:43:14.269Z"
      },
      {
        "duration": 8,
        "start_time": "2024-11-05T16:43:14.274Z"
      },
      {
        "duration": 40,
        "start_time": "2024-11-05T16:43:14.284Z"
      },
      {
        "duration": 5,
        "start_time": "2024-11-05T16:43:14.329Z"
      },
      {
        "duration": 9,
        "start_time": "2024-11-05T16:43:14.336Z"
      },
      {
        "duration": 9,
        "start_time": "2024-11-05T16:43:14.347Z"
      },
      {
        "duration": 5,
        "start_time": "2024-11-05T16:43:14.358Z"
      },
      {
        "duration": 20,
        "start_time": "2024-11-05T16:43:14.365Z"
      },
      {
        "duration": 48,
        "start_time": "2024-11-05T16:43:14.387Z"
      },
      {
        "duration": 8,
        "start_time": "2024-11-05T16:43:14.437Z"
      },
      {
        "duration": 15,
        "start_time": "2024-11-05T16:43:14.447Z"
      },
      {
        "duration": 11,
        "start_time": "2024-11-05T16:43:14.463Z"
      },
      {
        "duration": 7,
        "start_time": "2024-11-05T16:43:14.477Z"
      },
      {
        "duration": 39,
        "start_time": "2024-11-05T16:43:14.486Z"
      },
      {
        "duration": 78,
        "start_time": "2024-11-05T16:43:14.526Z"
      },
      {
        "duration": 20,
        "start_time": "2024-11-05T16:43:14.606Z"
      },
      {
        "duration": 9,
        "start_time": "2024-11-05T16:43:14.627Z"
      },
      {
        "duration": 88,
        "start_time": "2024-11-05T16:43:14.637Z"
      },
      {
        "duration": 12,
        "start_time": "2024-11-05T16:43:14.727Z"
      },
      {
        "duration": 5,
        "start_time": "2024-11-05T16:43:14.742Z"
      },
      {
        "duration": 8,
        "start_time": "2024-11-05T16:43:14.748Z"
      },
      {
        "duration": 9,
        "start_time": "2024-11-05T16:43:14.758Z"
      },
      {
        "duration": 8,
        "start_time": "2024-11-05T16:43:14.768Z"
      },
      {
        "duration": 6,
        "start_time": "2024-11-05T16:43:14.778Z"
      },
      {
        "duration": 89,
        "start_time": "2024-11-05T16:43:14.786Z"
      },
      {
        "duration": 139,
        "start_time": "2024-11-05T16:43:14.877Z"
      },
      {
        "duration": 14,
        "start_time": "2024-11-05T16:43:15.017Z"
      },
      {
        "duration": 5,
        "start_time": "2024-11-05T16:43:15.032Z"
      },
      {
        "duration": 11,
        "start_time": "2024-11-05T16:43:15.038Z"
      },
      {
        "duration": 9,
        "start_time": "2024-11-05T16:43:15.051Z"
      },
      {
        "duration": 99,
        "start_time": "2024-11-05T16:43:15.064Z"
      },
      {
        "duration": 14,
        "start_time": "2024-11-05T16:43:15.165Z"
      },
      {
        "duration": 16,
        "start_time": "2024-11-05T16:43:15.182Z"
      },
      {
        "duration": 90,
        "start_time": "2024-11-05T16:43:15.200Z"
      },
      {
        "duration": 128,
        "start_time": "2024-11-05T16:43:15.292Z"
      },
      {
        "duration": 13,
        "start_time": "2024-11-05T16:43:15.422Z"
      },
      {
        "duration": 9,
        "start_time": "2024-11-05T16:43:15.437Z"
      },
      {
        "duration": 4,
        "start_time": "2024-11-05T16:43:15.448Z"
      },
      {
        "duration": 9,
        "start_time": "2024-11-05T16:43:15.454Z"
      },
      {
        "duration": 17,
        "start_time": "2024-11-05T16:43:15.464Z"
      },
      {
        "duration": 42,
        "start_time": "2024-11-05T16:43:15.483Z"
      },
      {
        "duration": 9,
        "start_time": "2024-11-05T16:43:15.526Z"
      },
      {
        "duration": 14,
        "start_time": "2024-11-05T16:43:15.536Z"
      },
      {
        "duration": 13,
        "start_time": "2024-11-05T16:43:15.552Z"
      },
      {
        "duration": 4,
        "start_time": "2024-11-05T16:43:15.567Z"
      },
      {
        "duration": 13,
        "start_time": "2024-11-05T16:43:15.573Z"
      },
      {
        "duration": 4,
        "start_time": "2024-11-05T16:43:15.623Z"
      },
      {
        "duration": 15,
        "start_time": "2024-11-05T16:43:15.628Z"
      },
      {
        "duration": 55,
        "start_time": "2024-11-05T16:43:15.645Z"
      },
      {
        "duration": 648,
        "start_time": "2024-11-05T16:43:15.702Z"
      },
      {
        "duration": 17,
        "start_time": "2024-11-05T16:44:03.670Z"
      },
      {
        "duration": 11,
        "start_time": "2024-11-05T16:45:32.775Z"
      },
      {
        "duration": 373,
        "start_time": "2024-11-05T16:52:26.767Z"
      },
      {
        "duration": 974,
        "start_time": "2024-11-05T16:52:47.235Z"
      },
      {
        "duration": 63,
        "start_time": "2024-11-05T16:52:48.211Z"
      },
      {
        "duration": 9,
        "start_time": "2024-11-05T16:52:48.276Z"
      },
      {
        "duration": 9,
        "start_time": "2024-11-05T16:52:48.287Z"
      },
      {
        "duration": 26,
        "start_time": "2024-11-05T16:52:48.299Z"
      },
      {
        "duration": 10,
        "start_time": "2024-11-05T16:52:48.327Z"
      },
      {
        "duration": 6,
        "start_time": "2024-11-05T16:52:48.338Z"
      },
      {
        "duration": 17,
        "start_time": "2024-11-05T16:52:48.347Z"
      },
      {
        "duration": 11,
        "start_time": "2024-11-05T16:52:48.366Z"
      },
      {
        "duration": 17,
        "start_time": "2024-11-05T16:52:48.378Z"
      },
      {
        "duration": 43,
        "start_time": "2024-11-05T16:52:48.396Z"
      },
      {
        "duration": 13,
        "start_time": "2024-11-05T16:52:48.442Z"
      },
      {
        "duration": 5,
        "start_time": "2024-11-05T16:52:48.457Z"
      },
      {
        "duration": 5,
        "start_time": "2024-11-05T16:52:48.468Z"
      },
      {
        "duration": 11,
        "start_time": "2024-11-05T16:52:48.475Z"
      },
      {
        "duration": 10,
        "start_time": "2024-11-05T16:52:48.488Z"
      },
      {
        "duration": 33,
        "start_time": "2024-11-05T16:52:48.500Z"
      },
      {
        "duration": 25,
        "start_time": "2024-11-05T16:52:48.535Z"
      },
      {
        "duration": 16,
        "start_time": "2024-11-05T16:52:48.562Z"
      },
      {
        "duration": 9,
        "start_time": "2024-11-05T16:52:48.579Z"
      },
      {
        "duration": 41,
        "start_time": "2024-11-05T16:52:48.589Z"
      },
      {
        "duration": 24,
        "start_time": "2024-11-05T16:52:48.632Z"
      },
      {
        "duration": 14,
        "start_time": "2024-11-05T16:52:48.658Z"
      },
      {
        "duration": 1767,
        "start_time": "2024-11-05T16:52:48.674Z"
      },
      {
        "duration": 0,
        "start_time": "2024-11-05T16:52:50.444Z"
      },
      {
        "duration": 0,
        "start_time": "2024-11-05T16:52:50.445Z"
      },
      {
        "duration": 0,
        "start_time": "2024-11-05T16:52:50.447Z"
      },
      {
        "duration": 0,
        "start_time": "2024-11-05T16:52:50.449Z"
      },
      {
        "duration": 0,
        "start_time": "2024-11-05T16:52:50.456Z"
      },
      {
        "duration": 0,
        "start_time": "2024-11-05T16:52:50.457Z"
      },
      {
        "duration": 0,
        "start_time": "2024-11-05T16:52:50.458Z"
      },
      {
        "duration": 0,
        "start_time": "2024-11-05T16:52:50.459Z"
      },
      {
        "duration": 0,
        "start_time": "2024-11-05T16:52:50.460Z"
      },
      {
        "duration": 0,
        "start_time": "2024-11-05T16:52:50.462Z"
      },
      {
        "duration": 0,
        "start_time": "2024-11-05T16:52:50.463Z"
      },
      {
        "duration": 0,
        "start_time": "2024-11-05T16:52:50.464Z"
      },
      {
        "duration": 0,
        "start_time": "2024-11-05T16:52:50.465Z"
      },
      {
        "duration": 0,
        "start_time": "2024-11-05T16:52:50.466Z"
      },
      {
        "duration": 0,
        "start_time": "2024-11-05T16:52:50.468Z"
      },
      {
        "duration": 0,
        "start_time": "2024-11-05T16:52:50.469Z"
      },
      {
        "duration": 0,
        "start_time": "2024-11-05T16:52:50.470Z"
      },
      {
        "duration": 0,
        "start_time": "2024-11-05T16:52:50.471Z"
      },
      {
        "duration": 0,
        "start_time": "2024-11-05T16:52:50.472Z"
      },
      {
        "duration": 0,
        "start_time": "2024-11-05T16:52:50.473Z"
      },
      {
        "duration": 0,
        "start_time": "2024-11-05T16:52:50.474Z"
      },
      {
        "duration": 0,
        "start_time": "2024-11-05T16:52:50.475Z"
      },
      {
        "duration": 0,
        "start_time": "2024-11-05T16:52:50.476Z"
      },
      {
        "duration": 0,
        "start_time": "2024-11-05T16:52:50.478Z"
      },
      {
        "duration": 0,
        "start_time": "2024-11-05T16:52:50.479Z"
      },
      {
        "duration": 0,
        "start_time": "2024-11-05T16:52:50.480Z"
      },
      {
        "duration": 0,
        "start_time": "2024-11-05T16:52:50.481Z"
      },
      {
        "duration": 0,
        "start_time": "2024-11-05T16:52:50.482Z"
      },
      {
        "duration": 0,
        "start_time": "2024-11-05T16:52:50.483Z"
      },
      {
        "duration": 0,
        "start_time": "2024-11-05T16:52:50.484Z"
      },
      {
        "duration": 0,
        "start_time": "2024-11-05T16:52:50.525Z"
      },
      {
        "duration": 0,
        "start_time": "2024-11-05T16:52:50.526Z"
      },
      {
        "duration": 0,
        "start_time": "2024-11-05T16:52:50.527Z"
      },
      {
        "duration": 0,
        "start_time": "2024-11-05T16:52:50.528Z"
      },
      {
        "duration": 0,
        "start_time": "2024-11-05T16:52:50.529Z"
      },
      {
        "duration": 0,
        "start_time": "2024-11-05T16:52:50.530Z"
      },
      {
        "duration": 285,
        "start_time": "2024-11-05T16:53:22.195Z"
      },
      {
        "duration": 849,
        "start_time": "2024-11-05T16:53:27.688Z"
      },
      {
        "duration": 40,
        "start_time": "2024-11-05T16:53:28.539Z"
      },
      {
        "duration": 8,
        "start_time": "2024-11-05T16:53:28.581Z"
      },
      {
        "duration": 7,
        "start_time": "2024-11-05T16:53:28.592Z"
      },
      {
        "duration": 32,
        "start_time": "2024-11-05T16:53:28.602Z"
      },
      {
        "duration": 8,
        "start_time": "2024-11-05T16:53:28.637Z"
      },
      {
        "duration": 8,
        "start_time": "2024-11-05T16:53:28.647Z"
      },
      {
        "duration": 14,
        "start_time": "2024-11-05T16:53:28.657Z"
      },
      {
        "duration": 9,
        "start_time": "2024-11-05T16:53:28.673Z"
      },
      {
        "duration": 42,
        "start_time": "2024-11-05T16:53:28.684Z"
      },
      {
        "duration": 2,
        "start_time": "2024-11-05T16:53:28.728Z"
      },
      {
        "duration": 11,
        "start_time": "2024-11-05T16:53:28.733Z"
      },
      {
        "duration": 6,
        "start_time": "2024-11-05T16:53:28.746Z"
      },
      {
        "duration": 7,
        "start_time": "2024-11-05T16:53:28.757Z"
      },
      {
        "duration": 10,
        "start_time": "2024-11-05T16:53:28.767Z"
      },
      {
        "duration": 9,
        "start_time": "2024-11-05T16:53:28.778Z"
      },
      {
        "duration": 37,
        "start_time": "2024-11-05T16:53:28.788Z"
      },
      {
        "duration": 32,
        "start_time": "2024-11-05T16:53:28.829Z"
      },
      {
        "duration": 15,
        "start_time": "2024-11-05T16:53:28.867Z"
      },
      {
        "duration": 10,
        "start_time": "2024-11-05T16:53:28.884Z"
      },
      {
        "duration": 15,
        "start_time": "2024-11-05T16:53:28.896Z"
      },
      {
        "duration": 18,
        "start_time": "2024-11-05T16:53:28.924Z"
      },
      {
        "duration": 9,
        "start_time": "2024-11-05T16:53:28.944Z"
      },
      {
        "duration": 11,
        "start_time": "2024-11-05T16:53:28.956Z"
      },
      {
        "duration": 115,
        "start_time": "2024-11-05T16:53:28.969Z"
      },
      {
        "duration": 7,
        "start_time": "2024-11-05T16:53:29.086Z"
      },
      {
        "duration": 9,
        "start_time": "2024-11-05T16:53:29.095Z"
      },
      {
        "duration": 99,
        "start_time": "2024-11-05T16:53:29.105Z"
      },
      {
        "duration": 24,
        "start_time": "2024-11-05T16:53:29.206Z"
      },
      {
        "duration": 8,
        "start_time": "2024-11-05T16:53:29.232Z"
      },
      {
        "duration": 11,
        "start_time": "2024-11-05T16:53:29.242Z"
      },
      {
        "duration": 12,
        "start_time": "2024-11-05T16:53:29.255Z"
      },
      {
        "duration": 8,
        "start_time": "2024-11-05T16:53:29.269Z"
      },
      {
        "duration": 7,
        "start_time": "2024-11-05T16:53:29.279Z"
      },
      {
        "duration": 84,
        "start_time": "2024-11-05T16:53:29.288Z"
      },
      {
        "duration": 167,
        "start_time": "2024-11-05T16:53:29.374Z"
      },
      {
        "duration": 19,
        "start_time": "2024-11-05T16:53:29.543Z"
      },
      {
        "duration": 7,
        "start_time": "2024-11-05T16:53:29.563Z"
      },
      {
        "duration": 11,
        "start_time": "2024-11-05T16:53:29.573Z"
      },
      {
        "duration": 8,
        "start_time": "2024-11-05T16:53:29.586Z"
      },
      {
        "duration": 202,
        "start_time": "2024-11-05T16:53:29.626Z"
      },
      {
        "duration": 14,
        "start_time": "2024-11-05T16:53:29.830Z"
      },
      {
        "duration": 12,
        "start_time": "2024-11-05T16:53:29.845Z"
      },
      {
        "duration": 196,
        "start_time": "2024-11-05T16:53:29.858Z"
      },
      {
        "duration": 315,
        "start_time": "2024-11-05T16:53:30.056Z"
      },
      {
        "duration": 64,
        "start_time": "2024-11-05T16:53:30.373Z"
      },
      {
        "duration": 15,
        "start_time": "2024-11-05T16:53:30.439Z"
      },
      {
        "duration": 6,
        "start_time": "2024-11-05T16:53:30.456Z"
      },
      {
        "duration": 11,
        "start_time": "2024-11-05T16:53:30.464Z"
      },
      {
        "duration": 23,
        "start_time": "2024-11-05T16:53:30.524Z"
      },
      {
        "duration": 7,
        "start_time": "2024-11-05T16:53:30.549Z"
      },
      {
        "duration": 12,
        "start_time": "2024-11-05T16:53:30.557Z"
      },
      {
        "duration": 67,
        "start_time": "2024-11-05T16:53:30.571Z"
      },
      {
        "duration": 15,
        "start_time": "2024-11-05T16:53:30.640Z"
      },
      {
        "duration": 6,
        "start_time": "2024-11-05T16:53:30.656Z"
      },
      {
        "duration": 14,
        "start_time": "2024-11-05T16:53:30.664Z"
      },
      {
        "duration": 3,
        "start_time": "2024-11-05T16:53:30.679Z"
      },
      {
        "duration": 40,
        "start_time": "2024-11-05T16:53:30.684Z"
      },
      {
        "duration": 59,
        "start_time": "2024-11-05T16:53:30.728Z"
      },
      {
        "duration": 15,
        "start_time": "2024-11-05T16:53:30.790Z"
      },
      {
        "duration": 24,
        "start_time": "2024-11-05T16:57:09.832Z"
      },
      {
        "duration": 16,
        "start_time": "2024-11-05T16:57:19.509Z"
      },
      {
        "duration": 872,
        "start_time": "2024-11-05T16:57:27.811Z"
      },
      {
        "duration": 45,
        "start_time": "2024-11-05T16:57:28.685Z"
      },
      {
        "duration": 11,
        "start_time": "2024-11-05T16:57:28.732Z"
      },
      {
        "duration": 9,
        "start_time": "2024-11-05T16:57:28.745Z"
      },
      {
        "duration": 12,
        "start_time": "2024-11-05T16:57:28.757Z"
      },
      {
        "duration": 5,
        "start_time": "2024-11-05T16:57:28.771Z"
      },
      {
        "duration": 5,
        "start_time": "2024-11-05T16:57:28.777Z"
      },
      {
        "duration": 47,
        "start_time": "2024-11-05T16:57:28.784Z"
      },
      {
        "duration": 16,
        "start_time": "2024-11-05T16:57:28.833Z"
      },
      {
        "duration": 28,
        "start_time": "2024-11-05T16:57:28.853Z"
      },
      {
        "duration": 3,
        "start_time": "2024-11-05T16:57:28.883Z"
      },
      {
        "duration": 9,
        "start_time": "2024-11-05T16:57:28.888Z"
      },
      {
        "duration": 4,
        "start_time": "2024-11-05T16:57:28.898Z"
      },
      {
        "duration": 6,
        "start_time": "2024-11-05T16:57:28.925Z"
      },
      {
        "duration": 12,
        "start_time": "2024-11-05T16:57:28.932Z"
      },
      {
        "duration": 12,
        "start_time": "2024-11-05T16:57:28.946Z"
      },
      {
        "duration": 7,
        "start_time": "2024-11-05T16:57:28.959Z"
      },
      {
        "duration": 20,
        "start_time": "2024-11-05T16:57:28.968Z"
      },
      {
        "duration": 51,
        "start_time": "2024-11-05T16:57:28.990Z"
      },
      {
        "duration": 9,
        "start_time": "2024-11-05T16:57:29.043Z"
      },
      {
        "duration": 18,
        "start_time": "2024-11-05T16:57:29.054Z"
      },
      {
        "duration": 14,
        "start_time": "2024-11-05T16:57:29.074Z"
      },
      {
        "duration": 33,
        "start_time": "2024-11-05T16:57:29.090Z"
      },
      {
        "duration": 12,
        "start_time": "2024-11-05T16:57:29.125Z"
      },
      {
        "duration": 99,
        "start_time": "2024-11-05T16:57:29.139Z"
      },
      {
        "duration": 11,
        "start_time": "2024-11-05T16:57:29.242Z"
      },
      {
        "duration": 11,
        "start_time": "2024-11-05T16:57:29.255Z"
      },
      {
        "duration": 103,
        "start_time": "2024-11-05T16:57:29.268Z"
      },
      {
        "duration": 15,
        "start_time": "2024-11-05T16:57:29.373Z"
      },
      {
        "duration": 4,
        "start_time": "2024-11-05T16:57:29.390Z"
      },
      {
        "duration": 28,
        "start_time": "2024-11-05T16:57:29.395Z"
      },
      {
        "duration": 12,
        "start_time": "2024-11-05T16:57:29.429Z"
      },
      {
        "duration": 16,
        "start_time": "2024-11-05T16:57:29.443Z"
      },
      {
        "duration": 7,
        "start_time": "2024-11-05T16:57:29.461Z"
      },
      {
        "duration": 72,
        "start_time": "2024-11-05T16:57:29.470Z"
      },
      {
        "duration": 159,
        "start_time": "2024-11-05T16:57:29.544Z"
      },
      {
        "duration": 21,
        "start_time": "2024-11-05T16:57:29.704Z"
      },
      {
        "duration": 5,
        "start_time": "2024-11-05T16:57:29.727Z"
      },
      {
        "duration": 14,
        "start_time": "2024-11-05T16:57:29.734Z"
      },
      {
        "duration": 10,
        "start_time": "2024-11-05T16:57:29.750Z"
      },
      {
        "duration": 113,
        "start_time": "2024-11-05T16:57:29.766Z"
      },
      {
        "duration": 13,
        "start_time": "2024-11-05T16:57:29.881Z"
      },
      {
        "duration": 30,
        "start_time": "2024-11-05T16:57:29.896Z"
      },
      {
        "duration": 88,
        "start_time": "2024-11-05T16:57:29.929Z"
      },
      {
        "duration": 147,
        "start_time": "2024-11-05T16:57:30.019Z"
      },
      {
        "duration": 11,
        "start_time": "2024-11-05T16:57:30.168Z"
      },
      {
        "duration": 10,
        "start_time": "2024-11-05T16:57:30.181Z"
      },
      {
        "duration": 5,
        "start_time": "2024-11-05T16:57:30.192Z"
      },
      {
        "duration": 35,
        "start_time": "2024-11-05T16:57:30.199Z"
      },
      {
        "duration": 16,
        "start_time": "2024-11-05T16:57:30.239Z"
      },
      {
        "duration": 6,
        "start_time": "2024-11-05T16:57:30.257Z"
      },
      {
        "duration": 9,
        "start_time": "2024-11-05T16:57:30.264Z"
      },
      {
        "duration": 17,
        "start_time": "2024-11-05T16:57:30.274Z"
      },
      {
        "duration": 40,
        "start_time": "2024-11-05T16:57:30.293Z"
      },
      {
        "duration": 5,
        "start_time": "2024-11-05T16:57:30.335Z"
      },
      {
        "duration": 18,
        "start_time": "2024-11-05T16:57:30.341Z"
      },
      {
        "duration": 6,
        "start_time": "2024-11-05T16:57:30.361Z"
      },
      {
        "duration": 24,
        "start_time": "2024-11-05T16:57:30.369Z"
      },
      {
        "duration": 89,
        "start_time": "2024-11-05T16:57:30.394Z"
      },
      {
        "duration": 18,
        "start_time": "2024-11-05T16:57:30.485Z"
      },
      {
        "duration": 10,
        "start_time": "2024-11-05T16:59:01.098Z"
      },
      {
        "duration": 19,
        "start_time": "2024-11-05T16:59:12.791Z"
      },
      {
        "duration": 268,
        "start_time": "2024-11-05T17:01:07.708Z"
      },
      {
        "duration": 5,
        "start_time": "2024-11-05T17:01:19.443Z"
      },
      {
        "duration": 13,
        "start_time": "2024-11-05T17:20:29.741Z"
      },
      {
        "duration": 439,
        "start_time": "2024-11-05T17:20:58.415Z"
      },
      {
        "duration": 802,
        "start_time": "2024-11-05T17:21:06.094Z"
      },
      {
        "duration": 45,
        "start_time": "2024-11-05T17:21:06.899Z"
      },
      {
        "duration": 8,
        "start_time": "2024-11-05T17:21:06.946Z"
      },
      {
        "duration": 8,
        "start_time": "2024-11-05T17:21:06.957Z"
      },
      {
        "duration": 10,
        "start_time": "2024-11-05T17:21:06.966Z"
      },
      {
        "duration": 5,
        "start_time": "2024-11-05T17:21:06.978Z"
      },
      {
        "duration": 5,
        "start_time": "2024-11-05T17:21:06.985Z"
      },
      {
        "duration": 13,
        "start_time": "2024-11-05T17:21:07.024Z"
      },
      {
        "duration": 9,
        "start_time": "2024-11-05T17:21:07.038Z"
      },
      {
        "duration": 16,
        "start_time": "2024-11-05T17:21:07.051Z"
      },
      {
        "duration": 3,
        "start_time": "2024-11-05T17:21:07.068Z"
      },
      {
        "duration": 8,
        "start_time": "2024-11-05T17:21:07.073Z"
      },
      {
        "duration": 3,
        "start_time": "2024-11-05T17:21:07.083Z"
      },
      {
        "duration": 39,
        "start_time": "2024-11-05T17:21:07.088Z"
      },
      {
        "duration": 11,
        "start_time": "2024-11-05T17:21:07.130Z"
      },
      {
        "duration": 9,
        "start_time": "2024-11-05T17:21:07.142Z"
      },
      {
        "duration": 6,
        "start_time": "2024-11-05T17:21:07.153Z"
      },
      {
        "duration": 19,
        "start_time": "2024-11-05T17:21:07.160Z"
      },
      {
        "duration": 45,
        "start_time": "2024-11-05T17:21:07.181Z"
      },
      {
        "duration": 8,
        "start_time": "2024-11-05T17:21:07.228Z"
      },
      {
        "duration": 14,
        "start_time": "2024-11-05T17:21:07.238Z"
      },
      {
        "duration": 11,
        "start_time": "2024-11-05T17:21:07.253Z"
      },
      {
        "duration": 7,
        "start_time": "2024-11-05T17:21:07.265Z"
      },
      {
        "duration": 8,
        "start_time": "2024-11-05T17:21:07.275Z"
      },
      {
        "duration": 111,
        "start_time": "2024-11-05T17:21:07.285Z"
      },
      {
        "duration": 7,
        "start_time": "2024-11-05T17:21:07.398Z"
      },
      {
        "duration": 23,
        "start_time": "2024-11-05T17:21:07.407Z"
      },
      {
        "duration": 71,
        "start_time": "2024-11-05T17:21:07.435Z"
      },
      {
        "duration": 33,
        "start_time": "2024-11-05T17:21:07.507Z"
      },
      {
        "duration": 5,
        "start_time": "2024-11-05T17:21:07.541Z"
      },
      {
        "duration": 8,
        "start_time": "2024-11-05T17:21:07.548Z"
      },
      {
        "duration": 9,
        "start_time": "2024-11-05T17:21:07.557Z"
      },
      {
        "duration": 8,
        "start_time": "2024-11-05T17:21:07.568Z"
      },
      {
        "duration": 7,
        "start_time": "2024-11-05T17:21:07.577Z"
      },
      {
        "duration": 47,
        "start_time": "2024-11-05T17:21:07.586Z"
      },
      {
        "duration": 197,
        "start_time": "2024-11-05T17:21:07.635Z"
      },
      {
        "duration": 13,
        "start_time": "2024-11-05T17:21:07.834Z"
      },
      {
        "duration": 5,
        "start_time": "2024-11-05T17:21:07.849Z"
      },
      {
        "duration": 10,
        "start_time": "2024-11-05T17:21:07.856Z"
      },
      {
        "duration": 8,
        "start_time": "2024-11-05T17:21:07.867Z"
      },
      {
        "duration": 114,
        "start_time": "2024-11-05T17:21:07.877Z"
      },
      {
        "duration": 11,
        "start_time": "2024-11-05T17:21:07.993Z"
      },
      {
        "duration": 27,
        "start_time": "2024-11-05T17:21:08.006Z"
      },
      {
        "duration": 73,
        "start_time": "2024-11-05T17:21:08.035Z"
      },
      {
        "duration": 130,
        "start_time": "2024-11-05T17:21:08.110Z"
      },
      {
        "duration": 11,
        "start_time": "2024-11-05T17:21:08.242Z"
      },
      {
        "duration": 10,
        "start_time": "2024-11-05T17:21:08.255Z"
      },
      {
        "duration": 5,
        "start_time": "2024-11-05T17:21:08.266Z"
      },
      {
        "duration": 7,
        "start_time": "2024-11-05T17:21:08.273Z"
      },
      {
        "duration": 49,
        "start_time": "2024-11-05T17:21:08.282Z"
      },
      {
        "duration": 7,
        "start_time": "2024-11-05T17:21:08.333Z"
      },
      {
        "duration": 7,
        "start_time": "2024-11-05T17:21:08.341Z"
      },
      {
        "duration": 15,
        "start_time": "2024-11-05T17:21:08.349Z"
      },
      {
        "duration": 10,
        "start_time": "2024-11-05T17:21:08.366Z"
      },
      {
        "duration": 4,
        "start_time": "2024-11-05T17:21:08.378Z"
      },
      {
        "duration": 3,
        "start_time": "2024-11-05T17:21:08.384Z"
      },
      {
        "duration": 16,
        "start_time": "2024-11-05T17:21:08.424Z"
      },
      {
        "duration": 53,
        "start_time": "2024-11-05T17:21:08.442Z"
      },
      {
        "duration": 35,
        "start_time": "2024-11-05T17:21:08.497Z"
      },
      {
        "duration": 889,
        "start_time": "2024-11-05T17:21:47.746Z"
      },
      {
        "duration": 39,
        "start_time": "2024-11-05T17:21:48.637Z"
      },
      {
        "duration": 10,
        "start_time": "2024-11-05T17:21:48.678Z"
      },
      {
        "duration": 8,
        "start_time": "2024-11-05T17:21:48.690Z"
      },
      {
        "duration": 25,
        "start_time": "2024-11-05T17:21:48.701Z"
      },
      {
        "duration": 5,
        "start_time": "2024-11-05T17:21:48.728Z"
      },
      {
        "duration": 4,
        "start_time": "2024-11-05T17:21:48.736Z"
      },
      {
        "duration": 13,
        "start_time": "2024-11-05T17:21:48.741Z"
      },
      {
        "duration": 8,
        "start_time": "2024-11-05T17:21:48.755Z"
      },
      {
        "duration": 16,
        "start_time": "2024-11-05T17:21:48.766Z"
      },
      {
        "duration": 3,
        "start_time": "2024-11-05T17:21:48.784Z"
      },
      {
        "duration": 9,
        "start_time": "2024-11-05T17:21:48.825Z"
      },
      {
        "duration": 3,
        "start_time": "2024-11-05T17:21:48.837Z"
      },
      {
        "duration": 5,
        "start_time": "2024-11-05T17:21:48.842Z"
      },
      {
        "duration": 9,
        "start_time": "2024-11-05T17:21:48.849Z"
      },
      {
        "duration": 9,
        "start_time": "2024-11-05T17:21:48.860Z"
      },
      {
        "duration": 5,
        "start_time": "2024-11-05T17:21:48.871Z"
      },
      {
        "duration": 55,
        "start_time": "2024-11-05T17:21:48.878Z"
      },
      {
        "duration": 14,
        "start_time": "2024-11-05T17:21:48.935Z"
      },
      {
        "duration": 8,
        "start_time": "2024-11-05T17:21:48.950Z"
      },
      {
        "duration": 15,
        "start_time": "2024-11-05T17:21:48.960Z"
      },
      {
        "duration": 11,
        "start_time": "2024-11-05T17:21:48.977Z"
      },
      {
        "duration": 36,
        "start_time": "2024-11-05T17:21:48.990Z"
      },
      {
        "duration": 11,
        "start_time": "2024-11-05T17:21:49.027Z"
      },
      {
        "duration": 110,
        "start_time": "2024-11-05T17:21:49.040Z"
      },
      {
        "duration": 8,
        "start_time": "2024-11-05T17:21:49.151Z"
      },
      {
        "duration": 9,
        "start_time": "2024-11-05T17:21:49.162Z"
      },
      {
        "duration": 95,
        "start_time": "2024-11-05T17:21:49.175Z"
      },
      {
        "duration": 12,
        "start_time": "2024-11-05T17:21:49.273Z"
      },
      {
        "duration": 4,
        "start_time": "2024-11-05T17:21:49.287Z"
      },
      {
        "duration": 11,
        "start_time": "2024-11-05T17:21:49.292Z"
      },
      {
        "duration": 10,
        "start_time": "2024-11-05T17:21:49.325Z"
      },
      {
        "duration": 8,
        "start_time": "2024-11-05T17:21:49.337Z"
      },
      {
        "duration": 7,
        "start_time": "2024-11-05T17:21:49.346Z"
      },
      {
        "duration": 10,
        "start_time": "2024-11-05T17:21:49.355Z"
      },
      {
        "duration": 241,
        "start_time": "2024-11-05T17:21:49.367Z"
      },
      {
        "duration": 21,
        "start_time": "2024-11-05T17:21:49.609Z"
      },
      {
        "duration": 5,
        "start_time": "2024-11-05T17:21:49.632Z"
      },
      {
        "duration": 10,
        "start_time": "2024-11-05T17:21:49.639Z"
      },
      {
        "duration": 9,
        "start_time": "2024-11-05T17:21:49.651Z"
      },
      {
        "duration": 97,
        "start_time": "2024-11-05T17:21:49.663Z"
      },
      {
        "duration": 13,
        "start_time": "2024-11-05T17:21:49.762Z"
      },
      {
        "duration": 12,
        "start_time": "2024-11-05T17:21:49.776Z"
      },
      {
        "duration": 94,
        "start_time": "2024-11-05T17:21:49.790Z"
      },
      {
        "duration": 129,
        "start_time": "2024-11-05T17:21:49.886Z"
      },
      {
        "duration": 11,
        "start_time": "2024-11-05T17:21:50.018Z"
      },
      {
        "duration": 9,
        "start_time": "2024-11-05T17:21:50.031Z"
      },
      {
        "duration": 5,
        "start_time": "2024-11-05T17:21:50.041Z"
      },
      {
        "duration": 9,
        "start_time": "2024-11-05T17:21:50.048Z"
      },
      {
        "duration": 10,
        "start_time": "2024-11-05T17:21:50.059Z"
      },
      {
        "duration": 6,
        "start_time": "2024-11-05T17:21:50.070Z"
      },
      {
        "duration": 51,
        "start_time": "2024-11-05T17:21:50.078Z"
      },
      {
        "duration": 10,
        "start_time": "2024-11-05T17:21:50.131Z"
      },
      {
        "duration": 565,
        "start_time": "2024-11-05T17:21:50.143Z"
      },
      {
        "duration": 0,
        "start_time": "2024-11-05T17:21:50.710Z"
      },
      {
        "duration": 0,
        "start_time": "2024-11-05T17:21:50.711Z"
      },
      {
        "duration": 0,
        "start_time": "2024-11-05T17:21:50.723Z"
      },
      {
        "duration": 0,
        "start_time": "2024-11-05T17:21:50.725Z"
      },
      {
        "duration": 0,
        "start_time": "2024-11-05T17:21:50.726Z"
      },
      {
        "duration": 14,
        "start_time": "2024-11-05T17:22:02.334Z"
      },
      {
        "duration": 11,
        "start_time": "2024-11-05T17:22:21.843Z"
      },
      {
        "duration": 868,
        "start_time": "2024-11-05T17:22:31.736Z"
      },
      {
        "duration": 39,
        "start_time": "2024-11-05T17:22:32.606Z"
      },
      {
        "duration": 9,
        "start_time": "2024-11-05T17:22:32.647Z"
      },
      {
        "duration": 8,
        "start_time": "2024-11-05T17:22:32.657Z"
      },
      {
        "duration": 9,
        "start_time": "2024-11-05T17:22:32.668Z"
      },
      {
        "duration": 5,
        "start_time": "2024-11-05T17:22:32.678Z"
      },
      {
        "duration": 4,
        "start_time": "2024-11-05T17:22:32.685Z"
      },
      {
        "duration": 44,
        "start_time": "2024-11-05T17:22:32.691Z"
      },
      {
        "duration": 8,
        "start_time": "2024-11-05T17:22:32.737Z"
      },
      {
        "duration": 17,
        "start_time": "2024-11-05T17:22:32.747Z"
      },
      {
        "duration": 3,
        "start_time": "2024-11-05T17:22:32.765Z"
      },
      {
        "duration": 8,
        "start_time": "2024-11-05T17:22:32.770Z"
      },
      {
        "duration": 3,
        "start_time": "2024-11-05T17:22:32.780Z"
      },
      {
        "duration": 5,
        "start_time": "2024-11-05T17:22:32.825Z"
      },
      {
        "duration": 9,
        "start_time": "2024-11-05T17:22:32.832Z"
      },
      {
        "duration": 9,
        "start_time": "2024-11-05T17:22:32.843Z"
      },
      {
        "duration": 6,
        "start_time": "2024-11-05T17:22:32.854Z"
      },
      {
        "duration": 18,
        "start_time": "2024-11-05T17:22:32.861Z"
      },
      {
        "duration": 13,
        "start_time": "2024-11-05T17:22:32.880Z"
      },
      {
        "duration": 37,
        "start_time": "2024-11-05T17:22:32.894Z"
      },
      {
        "duration": 15,
        "start_time": "2024-11-05T17:22:32.933Z"
      },
      {
        "duration": 12,
        "start_time": "2024-11-05T17:22:32.949Z"
      },
      {
        "duration": 7,
        "start_time": "2024-11-05T17:22:32.963Z"
      },
      {
        "duration": 8,
        "start_time": "2024-11-05T17:22:32.971Z"
      },
      {
        "duration": 114,
        "start_time": "2024-11-05T17:22:32.980Z"
      },
      {
        "duration": 7,
        "start_time": "2024-11-05T17:22:33.096Z"
      },
      {
        "duration": 23,
        "start_time": "2024-11-05T17:22:33.105Z"
      },
      {
        "duration": 69,
        "start_time": "2024-11-05T17:22:33.130Z"
      },
      {
        "duration": 25,
        "start_time": "2024-11-05T17:22:33.201Z"
      },
      {
        "duration": 5,
        "start_time": "2024-11-05T17:22:33.228Z"
      },
      {
        "duration": 9,
        "start_time": "2024-11-05T17:22:33.235Z"
      },
      {
        "duration": 9,
        "start_time": "2024-11-05T17:22:33.247Z"
      },
      {
        "duration": 8,
        "start_time": "2024-11-05T17:22:33.259Z"
      },
      {
        "duration": 7,
        "start_time": "2024-11-05T17:22:33.269Z"
      },
      {
        "duration": 94,
        "start_time": "2024-11-05T17:22:33.277Z"
      },
      {
        "duration": 136,
        "start_time": "2024-11-05T17:22:33.372Z"
      },
      {
        "duration": 18,
        "start_time": "2024-11-05T17:22:33.511Z"
      },
      {
        "duration": 5,
        "start_time": "2024-11-05T17:22:33.531Z"
      },
      {
        "duration": 11,
        "start_time": "2024-11-05T17:22:33.538Z"
      },
      {
        "duration": 8,
        "start_time": "2024-11-05T17:22:33.550Z"
      },
      {
        "duration": 100,
        "start_time": "2024-11-05T17:22:33.564Z"
      },
      {
        "duration": 12,
        "start_time": "2024-11-05T17:22:33.666Z"
      },
      {
        "duration": 12,
        "start_time": "2024-11-05T17:22:33.679Z"
      },
      {
        "duration": 95,
        "start_time": "2024-11-05T17:22:33.692Z"
      },
      {
        "duration": 129,
        "start_time": "2024-11-05T17:22:33.789Z"
      },
      {
        "duration": 11,
        "start_time": "2024-11-05T17:22:33.924Z"
      },
      {
        "duration": 10,
        "start_time": "2024-11-05T17:22:33.937Z"
      },
      {
        "duration": 5,
        "start_time": "2024-11-05T17:22:33.948Z"
      },
      {
        "duration": 9,
        "start_time": "2024-11-05T17:22:33.954Z"
      },
      {
        "duration": 11,
        "start_time": "2024-11-05T17:22:33.964Z"
      },
      {
        "duration": 5,
        "start_time": "2024-11-05T17:22:33.976Z"
      },
      {
        "duration": 44,
        "start_time": "2024-11-05T17:22:33.983Z"
      },
      {
        "duration": 8,
        "start_time": "2024-11-05T17:22:34.029Z"
      },
      {
        "duration": 11,
        "start_time": "2024-11-05T17:22:34.039Z"
      },
      {
        "duration": 4,
        "start_time": "2024-11-05T17:22:34.052Z"
      },
      {
        "duration": 4,
        "start_time": "2024-11-05T17:22:34.057Z"
      },
      {
        "duration": 15,
        "start_time": "2024-11-05T17:22:34.063Z"
      },
      {
        "duration": 73,
        "start_time": "2024-11-05T17:22:34.079Z"
      },
      {
        "duration": 16,
        "start_time": "2024-11-05T17:22:34.153Z"
      },
      {
        "duration": 168,
        "start_time": "2024-11-05T21:25:08.495Z"
      },
      {
        "duration": 2856,
        "start_time": "2024-11-05T21:25:21.169Z"
      },
      {
        "duration": 70,
        "start_time": "2024-11-05T21:25:24.027Z"
      },
      {
        "duration": 10,
        "start_time": "2024-11-05T21:25:24.100Z"
      },
      {
        "duration": 10,
        "start_time": "2024-11-05T21:25:24.113Z"
      },
      {
        "duration": 11,
        "start_time": "2024-11-05T21:25:24.124Z"
      },
      {
        "duration": 6,
        "start_time": "2024-11-05T21:25:24.137Z"
      },
      {
        "duration": 6,
        "start_time": "2024-11-05T21:25:24.145Z"
      },
      {
        "duration": 17,
        "start_time": "2024-11-05T21:25:24.153Z"
      },
      {
        "duration": 43,
        "start_time": "2024-11-05T21:25:24.172Z"
      },
      {
        "duration": 20,
        "start_time": "2024-11-05T21:25:24.219Z"
      },
      {
        "duration": 3,
        "start_time": "2024-11-05T21:25:24.241Z"
      },
      {
        "duration": 10,
        "start_time": "2024-11-05T21:25:24.245Z"
      },
      {
        "duration": 57,
        "start_time": "2024-11-05T21:25:24.257Z"
      },
      {
        "duration": 7,
        "start_time": "2024-11-05T21:25:24.316Z"
      },
      {
        "duration": 11,
        "start_time": "2024-11-05T21:25:24.325Z"
      },
      {
        "duration": 11,
        "start_time": "2024-11-05T21:25:24.337Z"
      },
      {
        "duration": 62,
        "start_time": "2024-11-05T21:25:24.350Z"
      },
      {
        "duration": 20,
        "start_time": "2024-11-05T21:25:24.415Z"
      },
      {
        "duration": 74,
        "start_time": "2024-11-05T21:25:24.438Z"
      },
      {
        "duration": 11,
        "start_time": "2024-11-05T21:25:24.514Z"
      },
      {
        "duration": 22,
        "start_time": "2024-11-05T21:25:24.528Z"
      },
      {
        "duration": 72,
        "start_time": "2024-11-05T21:25:24.552Z"
      },
      {
        "duration": 10,
        "start_time": "2024-11-05T21:25:24.626Z"
      },
      {
        "duration": 9,
        "start_time": "2024-11-05T21:25:24.638Z"
      },
      {
        "duration": 197,
        "start_time": "2024-11-05T21:25:24.649Z"
      },
      {
        "duration": 7,
        "start_time": "2024-11-05T21:25:24.848Z"
      },
      {
        "duration": 22,
        "start_time": "2024-11-05T21:25:24.915Z"
      },
      {
        "duration": 185,
        "start_time": "2024-11-05T21:25:24.945Z"
      },
      {
        "duration": 287,
        "start_time": "2024-11-05T21:25:25.132Z"
      },
      {
        "duration": 16,
        "start_time": "2024-11-05T21:25:25.421Z"
      },
      {
        "duration": 4,
        "start_time": "2024-11-05T21:25:25.440Z"
      },
      {
        "duration": 8,
        "start_time": "2024-11-05T21:25:25.447Z"
      },
      {
        "duration": 65,
        "start_time": "2024-11-05T21:25:25.457Z"
      },
      {
        "duration": 12,
        "start_time": "2024-11-05T21:25:25.524Z"
      },
      {
        "duration": 8,
        "start_time": "2024-11-05T21:25:25.538Z"
      },
      {
        "duration": 71,
        "start_time": "2024-11-05T21:25:25.547Z"
      },
      {
        "duration": 327,
        "start_time": "2024-11-05T21:25:25.620Z"
      },
      {
        "duration": 71,
        "start_time": "2024-11-05T21:25:25.950Z"
      },
      {
        "duration": 5,
        "start_time": "2024-11-05T21:25:26.023Z"
      },
      {
        "duration": 12,
        "start_time": "2024-11-05T21:25:26.029Z"
      },
      {
        "duration": 9,
        "start_time": "2024-11-05T21:25:26.043Z"
      },
      {
        "duration": 261,
        "start_time": "2024-11-05T21:25:26.053Z"
      },
      {
        "duration": 15,
        "start_time": "2024-11-05T21:25:26.316Z"
      },
      {
        "duration": 23,
        "start_time": "2024-11-05T21:25:26.332Z"
      },
      {
        "duration": 473,
        "start_time": "2024-11-05T21:25:26.360Z"
      },
      {
        "duration": 289,
        "start_time": "2024-11-05T21:25:26.835Z"
      },
      {
        "duration": 14,
        "start_time": "2024-11-05T21:25:27.126Z"
      },
      {
        "duration": 12,
        "start_time": "2024-11-05T21:25:27.142Z"
      },
      {
        "duration": 56,
        "start_time": "2024-11-05T21:25:27.156Z"
      },
      {
        "duration": 11,
        "start_time": "2024-11-05T21:25:27.214Z"
      },
      {
        "duration": 12,
        "start_time": "2024-11-05T21:25:27.227Z"
      },
      {
        "duration": 7,
        "start_time": "2024-11-05T21:25:27.240Z"
      },
      {
        "duration": 9,
        "start_time": "2024-11-05T21:25:27.249Z"
      },
      {
        "duration": 10,
        "start_time": "2024-11-05T21:25:27.260Z"
      },
      {
        "duration": 51,
        "start_time": "2024-11-05T21:25:27.272Z"
      },
      {
        "duration": 6,
        "start_time": "2024-11-05T21:25:27.325Z"
      },
      {
        "duration": 5,
        "start_time": "2024-11-05T21:25:27.333Z"
      },
      {
        "duration": 21,
        "start_time": "2024-11-05T21:25:27.341Z"
      },
      {
        "duration": 81,
        "start_time": "2024-11-05T21:25:27.364Z"
      },
      {
        "duration": 17,
        "start_time": "2024-11-05T21:25:27.447Z"
      },
      {
        "duration": 16,
        "start_time": "2024-11-05T21:43:52.053Z"
      },
      {
        "duration": 8,
        "start_time": "2024-11-05T22:02:23.512Z"
      },
      {
        "duration": 875,
        "start_time": "2024-11-05T22:09:11.400Z"
      },
      {
        "duration": 46,
        "start_time": "2024-11-05T22:09:12.277Z"
      },
      {
        "duration": 9,
        "start_time": "2024-11-05T22:09:12.325Z"
      },
      {
        "duration": 10,
        "start_time": "2024-11-05T22:09:12.336Z"
      },
      {
        "duration": 11,
        "start_time": "2024-11-05T22:09:12.349Z"
      },
      {
        "duration": 6,
        "start_time": "2024-11-05T22:09:12.362Z"
      },
      {
        "duration": 5,
        "start_time": "2024-11-05T22:09:12.370Z"
      },
      {
        "duration": 16,
        "start_time": "2024-11-05T22:09:12.412Z"
      },
      {
        "duration": 9,
        "start_time": "2024-11-05T22:09:12.430Z"
      },
      {
        "duration": 19,
        "start_time": "2024-11-05T22:09:12.440Z"
      },
      {
        "duration": 3,
        "start_time": "2024-11-05T22:09:12.460Z"
      },
      {
        "duration": 9,
        "start_time": "2024-11-05T22:09:12.465Z"
      },
      {
        "duration": 38,
        "start_time": "2024-11-05T22:09:12.476Z"
      },
      {
        "duration": 8,
        "start_time": "2024-11-05T22:09:12.519Z"
      },
      {
        "duration": 12,
        "start_time": "2024-11-05T22:09:12.529Z"
      },
      {
        "duration": 12,
        "start_time": "2024-11-05T22:09:12.543Z"
      },
      {
        "duration": 7,
        "start_time": "2024-11-05T22:09:12.557Z"
      },
      {
        "duration": 54,
        "start_time": "2024-11-05T22:09:12.566Z"
      },
      {
        "duration": 14,
        "start_time": "2024-11-05T22:09:12.622Z"
      },
      {
        "duration": 9,
        "start_time": "2024-11-05T22:09:12.638Z"
      },
      {
        "duration": 15,
        "start_time": "2024-11-05T22:09:12.649Z"
      },
      {
        "duration": 46,
        "start_time": "2024-11-05T22:09:12.666Z"
      },
      {
        "duration": 11,
        "start_time": "2024-11-05T22:09:12.714Z"
      },
      {
        "duration": 10,
        "start_time": "2024-11-05T22:09:12.727Z"
      },
      {
        "duration": 104,
        "start_time": "2024-11-05T22:09:12.739Z"
      },
      {
        "duration": 8,
        "start_time": "2024-11-05T22:09:12.845Z"
      },
      {
        "duration": 10,
        "start_time": "2024-11-05T22:09:12.855Z"
      },
      {
        "duration": 96,
        "start_time": "2024-11-05T22:09:12.868Z"
      },
      {
        "duration": 193,
        "start_time": "2024-11-05T22:09:12.966Z"
      },
      {
        "duration": 14,
        "start_time": "2024-11-05T22:09:13.161Z"
      },
      {
        "duration": 6,
        "start_time": "2024-11-05T22:09:13.177Z"
      },
      {
        "duration": 32,
        "start_time": "2024-11-05T22:09:13.184Z"
      },
      {
        "duration": 12,
        "start_time": "2024-11-05T22:09:13.218Z"
      },
      {
        "duration": 9,
        "start_time": "2024-11-05T22:09:13.232Z"
      },
      {
        "duration": 8,
        "start_time": "2024-11-05T22:09:13.243Z"
      },
      {
        "duration": 11,
        "start_time": "2024-11-05T22:09:13.254Z"
      },
      {
        "duration": 171,
        "start_time": "2024-11-05T22:09:13.267Z"
      },
      {
        "duration": 12,
        "start_time": "2024-11-05T22:09:13.440Z"
      },
      {
        "duration": 5,
        "start_time": "2024-11-05T22:09:13.454Z"
      },
      {
        "duration": 12,
        "start_time": "2024-11-05T22:09:13.461Z"
      },
      {
        "duration": 38,
        "start_time": "2024-11-05T22:09:13.477Z"
      },
      {
        "duration": 80,
        "start_time": "2024-11-05T22:09:13.518Z"
      },
      {
        "duration": 18,
        "start_time": "2024-11-05T22:09:13.612Z"
      },
      {
        "duration": 14,
        "start_time": "2024-11-05T22:09:13.632Z"
      },
      {
        "duration": 104,
        "start_time": "2024-11-05T22:09:13.649Z"
      },
      {
        "duration": 127,
        "start_time": "2024-11-05T22:09:13.755Z"
      },
      {
        "duration": 13,
        "start_time": "2024-11-05T22:09:13.884Z"
      },
      {
        "duration": 11,
        "start_time": "2024-11-05T22:09:13.913Z"
      },
      {
        "duration": 7,
        "start_time": "2024-11-05T22:09:13.926Z"
      },
      {
        "duration": 12,
        "start_time": "2024-11-05T22:09:13.935Z"
      },
      {
        "duration": 11,
        "start_time": "2024-11-05T22:09:13.949Z"
      },
      {
        "duration": 7,
        "start_time": "2024-11-05T22:09:13.962Z"
      },
      {
        "duration": 48,
        "start_time": "2024-11-05T22:09:13.972Z"
      },
      {
        "duration": 10,
        "start_time": "2024-11-05T22:09:14.022Z"
      },
      {
        "duration": 18,
        "start_time": "2024-11-05T22:09:14.034Z"
      },
      {
        "duration": 6,
        "start_time": "2024-11-05T22:09:14.054Z"
      },
      {
        "duration": 4,
        "start_time": "2024-11-05T22:09:14.062Z"
      },
      {
        "duration": 56,
        "start_time": "2024-11-05T22:09:14.067Z"
      },
      {
        "duration": 45,
        "start_time": "2024-11-05T22:09:14.125Z"
      },
      {
        "duration": 17,
        "start_time": "2024-11-05T22:09:14.172Z"
      }
    ],
    "kernelspec": {
      "display_name": "Python 3 (ipykernel)",
      "language": "python",
      "name": "python3"
    },
    "language_info": {
      "codemirror_mode": {
        "name": "ipython",
        "version": 3
      },
      "file_extension": ".py",
      "mimetype": "text/x-python",
      "name": "python",
      "nbconvert_exporter": "python",
      "pygments_lexer": "ipython3",
      "version": "3.9.19"
    },
    "toc": {
      "base_numbering": 1,
      "nav_menu": {},
      "number_sections": true,
      "sideBar": true,
      "skip_h1_title": true,
      "title_cell": "Table of Contents",
      "title_sidebar": "Contents",
      "toc_cell": false,
      "toc_position": {
        "height": "calc(100% - 180px)",
        "left": "10px",
        "top": "150px",
        "width": "347px"
      },
      "toc_section_display": true,
      "toc_window_display": true
    },
    "colab": {
      "provenance": []
    }
  },
  "nbformat": 4,
  "nbformat_minor": 0
}